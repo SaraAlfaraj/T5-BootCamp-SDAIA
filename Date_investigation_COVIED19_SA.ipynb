{
 "cells": [
  {
   "cell_type": "markdown",
   "id": "63a375e5",
   "metadata": {},
   "source": [
    "# Investigation of Saudi Arabia COVID-19 Cases (Mar 2020 - Oct 2021)"
   ]
  },
  {
   "cell_type": "markdown",
   "id": "6c5be887",
   "metadata": {},
   "source": [
    "Recently, there has been a huge interest in pandemic COVID-19 studies due that led to major global disruptions. In this investigation I will focus on Saudi Arabia COVID-19 Cases. \n",
    " \n",
    "## 1. Data Collection \n",
    "##### - Questions\n",
    "- Are the different seasons and events (Summer, Winter, holidays, Eids...) affect the number of COVID-19 cases?\n",
    "- Do the numbers of COVID-19 cases differ between big/main cities and small cities?\n",
    "- What is the expected date of reaching zero cases?\n",
    "- Is the COVID-19 cases indicators expected to rise again after returning back to school ( at 31 Oct 2021)?\n",
    "\n",
    "##### - Type of Data\n",
    "Time series data that obtained from The King Abdullah Petroleum Studies and Research Center in CSV format. The dataset include a sequence of data points (COVID-19 cases) indexed in time order from 2 Mar 2020 to 1 Oct 2021. It consists of 428346 row، related to 207 cities in Saudi Arabia. Additionally, it include fetures such:\n",
    "\n",
    "- Number of Cases (Daily / Cumulative)\n",
    "- Case Indicators (Active, Mortalities, Critical ...)\n",
    "- Number of Cases\n",
    "- Date & Days\n",
    "- Events\n",
    "- City & Region\n",
    "\n",
    "##### - Sources\n",
    "- https://datasource.kapsarc.org/explore/dataset/saudi-arabia-coronavirus-disease-covid-19-situation/export/?disjunctive.daily_cumulative&disjunctive.indicator&disjunctive.event&disjunctive.city_en&disjunctive.region_en\n",
    "\n",
    "- https://covid19.moh.gov.sa/\n",
    " \n"
   ]
  },
  {
   "cell_type": "markdown",
   "id": "702ac160",
   "metadata": {},
   "source": [
    "## 2.  Exploratory Data Analysis (EDA)\n",
    "This section shows:\n",
    "- Distinguishes Attributes\n",
    "- Detect Outliers and Missing Values\n",
    "- Features Engineering \n",
    "- Features analysis (Uni/multivariate) \n",
    "### a. Distinguishes Attributes"
   ]
  },
  {
   "cell_type": "code",
   "execution_count": 2,
   "id": "36af8ea6",
   "metadata": {},
   "outputs": [],
   "source": [
    "import matplotlib.pyplot as plt\n",
    "import numpy as np\n",
    "import pandas as pd\n",
    "import seaborn as sns"
   ]
  },
  {
   "cell_type": "code",
   "execution_count": null,
   "id": "8c7281c9",
   "metadata": {},
   "outputs": [],
   "source": [
    "#load the dataset\n",
    "dataset = \"dataset_covied19.csv\"\n",
    "df = pd.read_csv(dataset, error_bad_lines=False, sep=';')"
   ]
  },
  {
   "cell_type": "code",
   "execution_count": 4,
   "id": "4cb362f9",
   "metadata": {},
   "outputs": [
    {
     "data": {
      "text/html": [
       "<div>\n",
       "<style scoped>\n",
       "    .dataframe tbody tr th:only-of-type {\n",
       "        vertical-align: middle;\n",
       "    }\n",
       "\n",
       "    .dataframe tbody tr th {\n",
       "        vertical-align: top;\n",
       "    }\n",
       "\n",
       "    .dataframe thead th {\n",
       "        text-align: right;\n",
       "    }\n",
       "</style>\n",
       "<table border=\"1\" class=\"dataframe\">\n",
       "  <thead>\n",
       "    <tr style=\"text-align: right;\">\n",
       "      <th></th>\n",
       "      <th>Daily / Cumulative</th>\n",
       "      <th>Indicator</th>\n",
       "      <th>Date</th>\n",
       "      <th>Event</th>\n",
       "      <th>City</th>\n",
       "      <th>Region</th>\n",
       "      <th>Cases (person)</th>\n",
       "    </tr>\n",
       "  </thead>\n",
       "  <tbody>\n",
       "    <tr>\n",
       "      <th>0</th>\n",
       "      <td>Cumulative</td>\n",
       "      <td>Cases</td>\n",
       "      <td>2020-11-05</td>\n",
       "      <td>NaN</td>\n",
       "      <td>Al Khubar</td>\n",
       "      <td>Eastern Region</td>\n",
       "      <td>7265</td>\n",
       "    </tr>\n",
       "    <tr>\n",
       "      <th>1</th>\n",
       "      <td>Cumulative</td>\n",
       "      <td>Cases</td>\n",
       "      <td>2020-11-05</td>\n",
       "      <td>NaN</td>\n",
       "      <td>Jeddah</td>\n",
       "      <td>Makkah Al Mukarramah</td>\n",
       "      <td>33808</td>\n",
       "    </tr>\n",
       "    <tr>\n",
       "      <th>2</th>\n",
       "      <td>Cumulative</td>\n",
       "      <td>Cases</td>\n",
       "      <td>2020-11-05</td>\n",
       "      <td>NaN</td>\n",
       "      <td>Ar Riyad</td>\n",
       "      <td>Ar Riyad</td>\n",
       "      <td>57841</td>\n",
       "    </tr>\n",
       "    <tr>\n",
       "      <th>3</th>\n",
       "      <td>Cumulative</td>\n",
       "      <td>Cases</td>\n",
       "      <td>2020-11-05</td>\n",
       "      <td>NaN</td>\n",
       "      <td>Ad Duwadimi</td>\n",
       "      <td>Ar Riyad</td>\n",
       "      <td>464</td>\n",
       "    </tr>\n",
       "    <tr>\n",
       "      <th>4</th>\n",
       "      <td>Cumulative</td>\n",
       "      <td>Cases</td>\n",
       "      <td>2020-10-28</td>\n",
       "      <td>NaN</td>\n",
       "      <td>Rabigh</td>\n",
       "      <td>Makkah Al Mukarramah</td>\n",
       "      <td>272</td>\n",
       "    </tr>\n",
       "    <tr>\n",
       "      <th>...</th>\n",
       "      <td>...</td>\n",
       "      <td>...</td>\n",
       "      <td>...</td>\n",
       "      <td>...</td>\n",
       "      <td>...</td>\n",
       "      <td>...</td>\n",
       "      <td>...</td>\n",
       "    </tr>\n",
       "    <tr>\n",
       "      <th>428341</th>\n",
       "      <td>Cumulative</td>\n",
       "      <td>Active</td>\n",
       "      <td>2021-07-01</td>\n",
       "      <td>NaN</td>\n",
       "      <td>Al Lith</td>\n",
       "      <td>Makkah Al Mukarramah</td>\n",
       "      <td>132</td>\n",
       "    </tr>\n",
       "    <tr>\n",
       "      <th>428342</th>\n",
       "      <td>Cumulative</td>\n",
       "      <td>Active</td>\n",
       "      <td>2021-07-01</td>\n",
       "      <td>NaN</td>\n",
       "      <td>Badr</td>\n",
       "      <td>Al Madinah Al Munawwarah</td>\n",
       "      <td>76</td>\n",
       "    </tr>\n",
       "    <tr>\n",
       "      <th>428343</th>\n",
       "      <td>Cumulative</td>\n",
       "      <td>Active</td>\n",
       "      <td>2021-06-30</td>\n",
       "      <td>NaN</td>\n",
       "      <td>Haql</td>\n",
       "      <td>Tabuk</td>\n",
       "      <td>7</td>\n",
       "    </tr>\n",
       "    <tr>\n",
       "      <th>428344</th>\n",
       "      <td>Cumulative</td>\n",
       "      <td>Active</td>\n",
       "      <td>2021-07-01</td>\n",
       "      <td>NaN</td>\n",
       "      <td>Tabarjal</td>\n",
       "      <td>Al Jawf</td>\n",
       "      <td>8</td>\n",
       "    </tr>\n",
       "    <tr>\n",
       "      <th>428345</th>\n",
       "      <td>Cumulative</td>\n",
       "      <td>Active</td>\n",
       "      <td>2021-06-27</td>\n",
       "      <td>NaN</td>\n",
       "      <td>BaqʻAʼ</td>\n",
       "      <td>Hail</td>\n",
       "      <td>4</td>\n",
       "    </tr>\n",
       "  </tbody>\n",
       "</table>\n",
       "<p>428346 rows × 7 columns</p>\n",
       "</div>"
      ],
      "text/plain": [
       "       Daily / Cumulative Indicator        Date Event         City  \\\n",
       "0              Cumulative     Cases  2020-11-05   NaN    Al Khubar   \n",
       "1              Cumulative     Cases  2020-11-05   NaN       Jeddah   \n",
       "2              Cumulative     Cases  2020-11-05   NaN     Ar Riyad   \n",
       "3              Cumulative     Cases  2020-11-05   NaN  Ad Duwadimi   \n",
       "4              Cumulative     Cases  2020-10-28   NaN       Rabigh   \n",
       "...                   ...       ...         ...   ...          ...   \n",
       "428341         Cumulative    Active  2021-07-01   NaN      Al Lith   \n",
       "428342         Cumulative    Active  2021-07-01   NaN         Badr   \n",
       "428343         Cumulative    Active  2021-06-30   NaN         Haql   \n",
       "428344         Cumulative    Active  2021-07-01   NaN     Tabarjal   \n",
       "428345         Cumulative    Active  2021-06-27   NaN       BaqʻAʼ   \n",
       "\n",
       "                          Region  Cases (person)  \n",
       "0                 Eastern Region            7265  \n",
       "1           Makkah Al Mukarramah           33808  \n",
       "2                       Ar Riyad           57841  \n",
       "3                       Ar Riyad             464  \n",
       "4           Makkah Al Mukarramah             272  \n",
       "...                          ...             ...  \n",
       "428341      Makkah Al Mukarramah             132  \n",
       "428342  Al Madinah Al Munawwarah              76  \n",
       "428343                     Tabuk               7  \n",
       "428344                   Al Jawf               8  \n",
       "428345                      Hail               4  \n",
       "\n",
       "[428346 rows x 7 columns]"
      ]
     },
     "execution_count": 4,
     "metadata": {},
     "output_type": "execute_result"
    }
   ],
   "source": [
    "df"
   ]
  },
  {
   "cell_type": "code",
   "execution_count": 5,
   "id": "2a2d76ce",
   "metadata": {},
   "outputs": [
    {
     "data": {
      "text/plain": [
       "(428346, 7)"
      ]
     },
     "execution_count": 5,
     "metadata": {},
     "output_type": "execute_result"
    }
   ],
   "source": [
    "df.shape"
   ]
  },
  {
   "cell_type": "code",
   "execution_count": 6,
   "id": "e43f507c",
   "metadata": {},
   "outputs": [
    {
     "name": "stdout",
     "output_type": "stream",
     "text": [
      "<class 'pandas.core.frame.DataFrame'>\n",
      "RangeIndex: 428346 entries, 0 to 428345\n",
      "Data columns (total 7 columns):\n",
      " #   Column              Non-Null Count   Dtype \n",
      "---  ------              --------------   ----- \n",
      " 0   Daily / Cumulative  428346 non-null  object\n",
      " 1   Indicator           428346 non-null  object\n",
      " 2   Date                428346 non-null  object\n",
      " 3   Event               1900 non-null    object\n",
      " 4   City                428346 non-null  object\n",
      " 5   Region              428346 non-null  object\n",
      " 6   Cases (person)      428346 non-null  int64 \n",
      "dtypes: int64(1), object(6)\n",
      "memory usage: 22.9+ MB\n"
     ]
    }
   ],
   "source": [
    "df.info()"
   ]
  },
  {
   "cell_type": "markdown",
   "id": "7e75c35d",
   "metadata": {},
   "source": [
    "NOTE: <br>\n",
    "    - \"Date\" need to change type <br>\n",
    "    - \"Event\" has NaN valued <br>\n",
    "    - \"Cases (person)\" better to change the column name (which is the target value)"
   ]
  },
  {
   "cell_type": "code",
   "execution_count": 7,
   "id": "8926de98",
   "metadata": {},
   "outputs": [
    {
     "data": {
      "text/plain": [
       "Cases          145405\n",
       "Recoveries     140960\n",
       "Active          94333\n",
       "Mortalities     45972\n",
       "Tested           1158\n",
       "Critical          518\n",
       "Name: Indicator, dtype: int64"
      ]
     },
     "execution_count": 7,
     "metadata": {},
     "output_type": "execute_result"
    }
   ],
   "source": [
    "df.Indicator.value_counts()"
   ]
  },
  {
   "cell_type": "markdown",
   "id": "73eaba05",
   "metadata": {},
   "source": [
    "NOTE: <br>\n",
    "    - \"Cases\" is duplicated values <br>\n",
    "    - \"Tested\" Consider as an outlier "
   ]
  },
  {
   "cell_type": "code",
   "execution_count": 8,
   "id": "fbf419a5",
   "metadata": {},
   "outputs": [
    {
     "data": {
      "text/plain": [
       "Total                   5655\n",
       "Jeddah                  3857\n",
       "Makkah Al Mukarramah    3788\n",
       "Ar Riyad                3759\n",
       "Ad Dammam               3622\n",
       "                        ... \n",
       "Hadda                    154\n",
       "Al Hadban                 93\n",
       "Abu 'Urwah                72\n",
       "As Sulaymaniyyah          26\n",
       "Harad                     26\n",
       "Name: City, Length: 207, dtype: int64"
      ]
     },
     "execution_count": 8,
     "metadata": {},
     "output_type": "execute_result"
    }
   ],
   "source": [
    "df.City.value_counts()"
   ]
  },
  {
   "cell_type": "code",
   "execution_count": 9,
   "id": "5810a187",
   "metadata": {},
   "outputs": [
    {
     "data": {
      "text/plain": [
       "Ar Riyad                    70517\n",
       "Eastern Region              60172\n",
       "Makkah Al Mukarramah        54090\n",
       "Aseer                       51448\n",
       "Jazan                       39088\n",
       "Al Qaseem                   31495\n",
       "Al Madinah Al Munawwarah    22057\n",
       "Al Bahah                    17973\n",
       "Hail                        17157\n",
       "Tabuk                       17153\n",
       "Al Jawf                     14882\n",
       "Najran                      14319\n",
       "Northern Borders            12340\n",
       "Total                        5655\n",
       "Name: Region, dtype: int64"
      ]
     },
     "execution_count": 9,
     "metadata": {},
     "output_type": "execute_result"
    }
   ],
   "source": [
    "df.Region.value_counts()"
   ]
  },
  {
   "cell_type": "markdown",
   "id": "e5aecaf5",
   "metadata": {},
   "source": [
    "NOTE: <br>\n",
    "    - \"Total\" is duplicated values in 'Region' & 'City'  <br>"
   ]
  },
  {
   "cell_type": "code",
   "execution_count": 10,
   "id": "c1abefc7",
   "metadata": {},
   "outputs": [
    {
     "name": "stdout",
     "output_type": "stream",
     "text": [
      "Tha dataset consists information about 206 cities  arround Saudi Arabia for  13 regions.\n"
     ]
    }
   ],
   "source": [
    "print('Tha dataset consists information about', df.City.nunique()-1, 'cities  arround Saudi Arabia for ', df.Region.nunique()-1, 'regions.')"
   ]
  },
  {
   "cell_type": "code",
   "execution_count": 11,
   "id": "420f38ae",
   "metadata": {},
   "outputs": [
    {
     "data": {
      "text/plain": [
       "Curfew lifted(all regions)                                                        939\n",
       "Partial lifting of curfew in all cities except Makkah                             179\n",
       "Jeddah areas lockdown - 24 h curfew                                               173\n",
       "Makkah lockdown                                                                   136\n",
       "Riyadh, Dammam , Tabuk , Dahran, Hafuf, Jeddah, Taif, Qatif , Khobar24h curfew    115\n",
       "Jeddah lockdown                                                                    80\n",
       "Makkah , Madinah 24 hours curfew                                                   79\n",
       "Riyadh, Makkah and Madinah lockdown - curfew (6am - 3pm)                           70\n",
       "Domestic flights suspension                                                        40\n",
       "Gov / private suspension                                                           31\n",
       "International flights suspension for 14 days                                       27\n",
       "Umrah suspension                                                                   12\n",
       "flights suspended to number of countries                                           11\n",
       "First case of COVID-19                                                              8\n",
       "Name: Event, dtype: int64"
      ]
     },
     "execution_count": 11,
     "metadata": {},
     "output_type": "execute_result"
    }
   ],
   "source": [
    "df.Event.value_counts()"
   ]
  },
  {
   "cell_type": "markdown",
   "id": "9cba081d",
   "metadata": {},
   "source": [
    "NOTE: <br>\n",
    "    - A first look at the \"Event\" column indicates that it has less important"
   ]
  },
  {
   "cell_type": "code",
   "execution_count": 12,
   "id": "cd71e627",
   "metadata": {},
   "outputs": [
    {
     "data": {
      "text/plain": [
       "Cumulative    333140\n",
       "Daily          95206\n",
       "Name: Daily / Cumulative, dtype: int64"
      ]
     },
     "execution_count": 12,
     "metadata": {},
     "output_type": "execute_result"
    }
   ],
   "source": [
    "df['Daily / Cumulative'].value_counts()"
   ]
  },
  {
   "cell_type": "markdown",
   "id": "d9f6a151",
   "metadata": {},
   "source": [
    "Before doing any Pre-Processing, I will do more discover about 'Daily / Cumulative' column in order to decide what should be informative for the study."
   ]
  },
  {
   "cell_type": "code",
   "execution_count": 13,
   "id": "16be6d4f",
   "metadata": {},
   "outputs": [
    {
     "data": {
      "text/html": [
       "<div>\n",
       "<style scoped>\n",
       "    .dataframe tbody tr th:only-of-type {\n",
       "        vertical-align: middle;\n",
       "    }\n",
       "\n",
       "    .dataframe tbody tr th {\n",
       "        vertical-align: top;\n",
       "    }\n",
       "\n",
       "    .dataframe thead th {\n",
       "        text-align: right;\n",
       "    }\n",
       "</style>\n",
       "<table border=\"1\" class=\"dataframe\">\n",
       "  <thead>\n",
       "    <tr style=\"text-align: right;\">\n",
       "      <th></th>\n",
       "      <th>Daily / Cumulative</th>\n",
       "      <th>Indicator</th>\n",
       "      <th>Date</th>\n",
       "      <th>Event</th>\n",
       "      <th>City</th>\n",
       "      <th>Region</th>\n",
       "      <th>Cases (person)</th>\n",
       "    </tr>\n",
       "  </thead>\n",
       "  <tbody>\n",
       "    <tr>\n",
       "      <th>0</th>\n",
       "      <td>Cumulative</td>\n",
       "      <td>Cases</td>\n",
       "      <td>2020-11-05</td>\n",
       "      <td>NaN</td>\n",
       "      <td>Al Khubar</td>\n",
       "      <td>Eastern Region</td>\n",
       "      <td>7265</td>\n",
       "    </tr>\n",
       "    <tr>\n",
       "      <th>1</th>\n",
       "      <td>Cumulative</td>\n",
       "      <td>Cases</td>\n",
       "      <td>2020-11-05</td>\n",
       "      <td>NaN</td>\n",
       "      <td>Jeddah</td>\n",
       "      <td>Makkah Al Mukarramah</td>\n",
       "      <td>33808</td>\n",
       "    </tr>\n",
       "    <tr>\n",
       "      <th>2</th>\n",
       "      <td>Cumulative</td>\n",
       "      <td>Cases</td>\n",
       "      <td>2020-11-05</td>\n",
       "      <td>NaN</td>\n",
       "      <td>Ar Riyad</td>\n",
       "      <td>Ar Riyad</td>\n",
       "      <td>57841</td>\n",
       "    </tr>\n",
       "    <tr>\n",
       "      <th>3</th>\n",
       "      <td>Cumulative</td>\n",
       "      <td>Cases</td>\n",
       "      <td>2020-11-05</td>\n",
       "      <td>NaN</td>\n",
       "      <td>Ad Duwadimi</td>\n",
       "      <td>Ar Riyad</td>\n",
       "      <td>464</td>\n",
       "    </tr>\n",
       "    <tr>\n",
       "      <th>4</th>\n",
       "      <td>Cumulative</td>\n",
       "      <td>Cases</td>\n",
       "      <td>2020-10-28</td>\n",
       "      <td>NaN</td>\n",
       "      <td>Rabigh</td>\n",
       "      <td>Makkah Al Mukarramah</td>\n",
       "      <td>272</td>\n",
       "    </tr>\n",
       "    <tr>\n",
       "      <th>...</th>\n",
       "      <td>...</td>\n",
       "      <td>...</td>\n",
       "      <td>...</td>\n",
       "      <td>...</td>\n",
       "      <td>...</td>\n",
       "      <td>...</td>\n",
       "      <td>...</td>\n",
       "    </tr>\n",
       "    <tr>\n",
       "      <th>404845</th>\n",
       "      <td>Cumulative</td>\n",
       "      <td>Cases</td>\n",
       "      <td>2020-12-13</td>\n",
       "      <td>NaN</td>\n",
       "      <td>Thar</td>\n",
       "      <td>Najran</td>\n",
       "      <td>39</td>\n",
       "    </tr>\n",
       "    <tr>\n",
       "      <th>404846</th>\n",
       "      <td>Cumulative</td>\n",
       "      <td>Cases</td>\n",
       "      <td>2020-12-31</td>\n",
       "      <td>NaN</td>\n",
       "      <td>Thar</td>\n",
       "      <td>Najran</td>\n",
       "      <td>39</td>\n",
       "    </tr>\n",
       "    <tr>\n",
       "      <th>404847</th>\n",
       "      <td>Cumulative</td>\n",
       "      <td>Cases</td>\n",
       "      <td>2021-01-18</td>\n",
       "      <td>NaN</td>\n",
       "      <td>Thar</td>\n",
       "      <td>Najran</td>\n",
       "      <td>39</td>\n",
       "    </tr>\n",
       "    <tr>\n",
       "      <th>404848</th>\n",
       "      <td>Cumulative</td>\n",
       "      <td>Cases</td>\n",
       "      <td>2021-01-19</td>\n",
       "      <td>NaN</td>\n",
       "      <td>Thar</td>\n",
       "      <td>Najran</td>\n",
       "      <td>39</td>\n",
       "    </tr>\n",
       "    <tr>\n",
       "      <th>404849</th>\n",
       "      <td>Cumulative</td>\n",
       "      <td>Cases</td>\n",
       "      <td>2021-01-21</td>\n",
       "      <td>NaN</td>\n",
       "      <td>Thar</td>\n",
       "      <td>Najran</td>\n",
       "      <td>39</td>\n",
       "    </tr>\n",
       "  </tbody>\n",
       "</table>\n",
       "<p>145405 rows × 7 columns</p>\n",
       "</div>"
      ],
      "text/plain": [
       "       Daily / Cumulative Indicator        Date Event         City  \\\n",
       "0              Cumulative     Cases  2020-11-05   NaN    Al Khubar   \n",
       "1              Cumulative     Cases  2020-11-05   NaN       Jeddah   \n",
       "2              Cumulative     Cases  2020-11-05   NaN     Ar Riyad   \n",
       "3              Cumulative     Cases  2020-11-05   NaN  Ad Duwadimi   \n",
       "4              Cumulative     Cases  2020-10-28   NaN       Rabigh   \n",
       "...                   ...       ...         ...   ...          ...   \n",
       "404845         Cumulative     Cases  2020-12-13   NaN         Thar   \n",
       "404846         Cumulative     Cases  2020-12-31   NaN         Thar   \n",
       "404847         Cumulative     Cases  2021-01-18   NaN         Thar   \n",
       "404848         Cumulative     Cases  2021-01-19   NaN         Thar   \n",
       "404849         Cumulative     Cases  2021-01-21   NaN         Thar   \n",
       "\n",
       "                      Region  Cases (person)  \n",
       "0             Eastern Region            7265  \n",
       "1       Makkah Al Mukarramah           33808  \n",
       "2                   Ar Riyad           57841  \n",
       "3                   Ar Riyad             464  \n",
       "4       Makkah Al Mukarramah             272  \n",
       "...                      ...             ...  \n",
       "404845                Najran              39  \n",
       "404846                Najran              39  \n",
       "404847                Najran              39  \n",
       "404848                Najran              39  \n",
       "404849                Najran              39  \n",
       "\n",
       "[145405 rows x 7 columns]"
      ]
     },
     "execution_count": 13,
     "metadata": {},
     "output_type": "execute_result"
    }
   ],
   "source": [
    "Cases_Indicator = df[df[\"Indicator\"] == 'Cases']\n",
    "Cases_Indicator"
   ]
  },
  {
   "cell_type": "code",
   "execution_count": 14,
   "id": "7ed7d5f7",
   "metadata": {},
   "outputs": [
    {
     "data": {
      "text/plain": [
       "Cumulative    100188\n",
       "Daily          45217\n",
       "Name: Daily / Cumulative, dtype: int64"
      ]
     },
     "execution_count": 14,
     "metadata": {},
     "output_type": "execute_result"
    }
   ],
   "source": [
    "Cases_Indicator['Daily / Cumulative'].value_counts()"
   ]
  },
  {
   "cell_type": "code",
   "execution_count": 15,
   "id": "cbbe351d",
   "metadata": {},
   "outputs": [
    {
     "data": {
      "text/html": [
       "<div>\n",
       "<style scoped>\n",
       "    .dataframe tbody tr th:only-of-type {\n",
       "        vertical-align: middle;\n",
       "    }\n",
       "\n",
       "    .dataframe tbody tr th {\n",
       "        vertical-align: top;\n",
       "    }\n",
       "\n",
       "    .dataframe thead th {\n",
       "        text-align: right;\n",
       "    }\n",
       "</style>\n",
       "<table border=\"1\" class=\"dataframe\">\n",
       "  <thead>\n",
       "    <tr style=\"text-align: right;\">\n",
       "      <th></th>\n",
       "      <th>Daily / Cumulative</th>\n",
       "      <th>Indicator</th>\n",
       "      <th>Date</th>\n",
       "      <th>Event</th>\n",
       "      <th>City</th>\n",
       "      <th>Region</th>\n",
       "      <th>Cases (person)</th>\n",
       "    </tr>\n",
       "  </thead>\n",
       "  <tbody>\n",
       "    <tr>\n",
       "      <th>0</th>\n",
       "      <td>Cumulative</td>\n",
       "      <td>Cases</td>\n",
       "      <td>2020-11-05</td>\n",
       "      <td>NaN</td>\n",
       "      <td>Al Khubar</td>\n",
       "      <td>Eastern Region</td>\n",
       "      <td>7265</td>\n",
       "    </tr>\n",
       "    <tr>\n",
       "      <th>1</th>\n",
       "      <td>Cumulative</td>\n",
       "      <td>Cases</td>\n",
       "      <td>2020-11-05</td>\n",
       "      <td>NaN</td>\n",
       "      <td>Jeddah</td>\n",
       "      <td>Makkah Al Mukarramah</td>\n",
       "      <td>33808</td>\n",
       "    </tr>\n",
       "    <tr>\n",
       "      <th>2</th>\n",
       "      <td>Cumulative</td>\n",
       "      <td>Cases</td>\n",
       "      <td>2020-11-05</td>\n",
       "      <td>NaN</td>\n",
       "      <td>Ar Riyad</td>\n",
       "      <td>Ar Riyad</td>\n",
       "      <td>57841</td>\n",
       "    </tr>\n",
       "    <tr>\n",
       "      <th>3</th>\n",
       "      <td>Cumulative</td>\n",
       "      <td>Cases</td>\n",
       "      <td>2020-11-05</td>\n",
       "      <td>NaN</td>\n",
       "      <td>Ad Duwadimi</td>\n",
       "      <td>Ar Riyad</td>\n",
       "      <td>464</td>\n",
       "    </tr>\n",
       "    <tr>\n",
       "      <th>4</th>\n",
       "      <td>Cumulative</td>\n",
       "      <td>Cases</td>\n",
       "      <td>2020-10-28</td>\n",
       "      <td>NaN</td>\n",
       "      <td>Rabigh</td>\n",
       "      <td>Makkah Al Mukarramah</td>\n",
       "      <td>272</td>\n",
       "    </tr>\n",
       "    <tr>\n",
       "      <th>...</th>\n",
       "      <td>...</td>\n",
       "      <td>...</td>\n",
       "      <td>...</td>\n",
       "      <td>...</td>\n",
       "      <td>...</td>\n",
       "      <td>...</td>\n",
       "      <td>...</td>\n",
       "    </tr>\n",
       "    <tr>\n",
       "      <th>428341</th>\n",
       "      <td>Cumulative</td>\n",
       "      <td>Active</td>\n",
       "      <td>2021-07-01</td>\n",
       "      <td>NaN</td>\n",
       "      <td>Al Lith</td>\n",
       "      <td>Makkah Al Mukarramah</td>\n",
       "      <td>132</td>\n",
       "    </tr>\n",
       "    <tr>\n",
       "      <th>428342</th>\n",
       "      <td>Cumulative</td>\n",
       "      <td>Active</td>\n",
       "      <td>2021-07-01</td>\n",
       "      <td>NaN</td>\n",
       "      <td>Badr</td>\n",
       "      <td>Al Madinah Al Munawwarah</td>\n",
       "      <td>76</td>\n",
       "    </tr>\n",
       "    <tr>\n",
       "      <th>428343</th>\n",
       "      <td>Cumulative</td>\n",
       "      <td>Active</td>\n",
       "      <td>2021-06-30</td>\n",
       "      <td>NaN</td>\n",
       "      <td>Haql</td>\n",
       "      <td>Tabuk</td>\n",
       "      <td>7</td>\n",
       "    </tr>\n",
       "    <tr>\n",
       "      <th>428344</th>\n",
       "      <td>Cumulative</td>\n",
       "      <td>Active</td>\n",
       "      <td>2021-07-01</td>\n",
       "      <td>NaN</td>\n",
       "      <td>Tabarjal</td>\n",
       "      <td>Al Jawf</td>\n",
       "      <td>8</td>\n",
       "    </tr>\n",
       "    <tr>\n",
       "      <th>428345</th>\n",
       "      <td>Cumulative</td>\n",
       "      <td>Active</td>\n",
       "      <td>2021-06-27</td>\n",
       "      <td>NaN</td>\n",
       "      <td>BaqʻAʼ</td>\n",
       "      <td>Hail</td>\n",
       "      <td>4</td>\n",
       "    </tr>\n",
       "  </tbody>\n",
       "</table>\n",
       "<p>333140 rows × 7 columns</p>\n",
       "</div>"
      ],
      "text/plain": [
       "       Daily / Cumulative Indicator        Date Event         City  \\\n",
       "0              Cumulative     Cases  2020-11-05   NaN    Al Khubar   \n",
       "1              Cumulative     Cases  2020-11-05   NaN       Jeddah   \n",
       "2              Cumulative     Cases  2020-11-05   NaN     Ar Riyad   \n",
       "3              Cumulative     Cases  2020-11-05   NaN  Ad Duwadimi   \n",
       "4              Cumulative     Cases  2020-10-28   NaN       Rabigh   \n",
       "...                   ...       ...         ...   ...          ...   \n",
       "428341         Cumulative    Active  2021-07-01   NaN      Al Lith   \n",
       "428342         Cumulative    Active  2021-07-01   NaN         Badr   \n",
       "428343         Cumulative    Active  2021-06-30   NaN         Haql   \n",
       "428344         Cumulative    Active  2021-07-01   NaN     Tabarjal   \n",
       "428345         Cumulative    Active  2021-06-27   NaN       BaqʻAʼ   \n",
       "\n",
       "                          Region  Cases (person)  \n",
       "0                 Eastern Region            7265  \n",
       "1           Makkah Al Mukarramah           33808  \n",
       "2                       Ar Riyad           57841  \n",
       "3                       Ar Riyad             464  \n",
       "4           Makkah Al Mukarramah             272  \n",
       "...                          ...             ...  \n",
       "428341      Makkah Al Mukarramah             132  \n",
       "428342  Al Madinah Al Munawwarah              76  \n",
       "428343                     Tabuk               7  \n",
       "428344                   Al Jawf               8  \n",
       "428345                      Hail               4  \n",
       "\n",
       "[333140 rows x 7 columns]"
      ]
     },
     "execution_count": 15,
     "metadata": {},
     "output_type": "execute_result"
    }
   ],
   "source": [
    "Cumulative_df = df[df[\"Daily / Cumulative\"] == 'Cumulative']\n",
    "Cumulative_df"
   ]
  },
  {
   "cell_type": "code",
   "execution_count": 16,
   "id": "dfc59163",
   "metadata": {},
   "outputs": [
    {
     "ename": "NameError",
     "evalue": "name 'df1' is not defined",
     "output_type": "error",
     "traceback": [
      "\u001b[0;31m---------------------------------------------------------------------------\u001b[0m",
      "\u001b[0;31mNameError\u001b[0m                                 Traceback (most recent call last)",
      "\u001b[0;32m<ipython-input-16-e59d39413d72>\u001b[0m in \u001b[0;36m<module>\u001b[0;34m\u001b[0m\n\u001b[0;32m----> 1\u001b[0;31m \u001b[0mdf1\u001b[0m\u001b[0;34m[\u001b[0m\u001b[0;34m\"Daily / Cumulative\"\u001b[0m\u001b[0;34m]\u001b[0m\u001b[0;34m.\u001b[0m\u001b[0mvalue_counts\u001b[0m\u001b[0;34m(\u001b[0m\u001b[0;34m)\u001b[0m\u001b[0;34m\u001b[0m\u001b[0;34m\u001b[0m\u001b[0m\n\u001b[0m",
      "\u001b[0;31mNameError\u001b[0m: name 'df1' is not defined"
     ]
    }
   ],
   "source": [
    "df1[\"Daily / Cumulative\"].value_counts()"
   ]
  },
  {
   "cell_type": "code",
   "execution_count": 17,
   "id": "d46a6920",
   "metadata": {},
   "outputs": [
    {
     "data": {
      "text/html": [
       "<div>\n",
       "<style scoped>\n",
       "    .dataframe tbody tr th:only-of-type {\n",
       "        vertical-align: middle;\n",
       "    }\n",
       "\n",
       "    .dataframe tbody tr th {\n",
       "        vertical-align: top;\n",
       "    }\n",
       "\n",
       "    .dataframe thead th {\n",
       "        text-align: right;\n",
       "    }\n",
       "</style>\n",
       "<table border=\"1\" class=\"dataframe\">\n",
       "  <thead>\n",
       "    <tr style=\"text-align: right;\">\n",
       "      <th></th>\n",
       "      <th>Daily / Cumulative</th>\n",
       "      <th>Indicator</th>\n",
       "      <th>Date</th>\n",
       "      <th>Event</th>\n",
       "      <th>City</th>\n",
       "      <th>Region</th>\n",
       "      <th>Cases (person)</th>\n",
       "    </tr>\n",
       "  </thead>\n",
       "  <tbody>\n",
       "    <tr>\n",
       "      <th>4053</th>\n",
       "      <td>Daily</td>\n",
       "      <td>Cases</td>\n",
       "      <td>2021-07-31</td>\n",
       "      <td>NaN</td>\n",
       "      <td>ʻUrayʻIrah</td>\n",
       "      <td>Eastern Region</td>\n",
       "      <td>2</td>\n",
       "    </tr>\n",
       "    <tr>\n",
       "      <th>4054</th>\n",
       "      <td>Daily</td>\n",
       "      <td>Cases</td>\n",
       "      <td>2021-07-31</td>\n",
       "      <td>NaN</td>\n",
       "      <td>ʻUqlat As Suqur</td>\n",
       "      <td>Al Qaseem</td>\n",
       "      <td>4</td>\n",
       "    </tr>\n",
       "    <tr>\n",
       "      <th>4055</th>\n",
       "      <td>Daily</td>\n",
       "      <td>Cases</td>\n",
       "      <td>2021-07-31</td>\n",
       "      <td>NaN</td>\n",
       "      <td>Makkah Al Mukarramah</td>\n",
       "      <td>Makkah Al Mukarramah</td>\n",
       "      <td>28</td>\n",
       "    </tr>\n",
       "    <tr>\n",
       "      <th>4056</th>\n",
       "      <td>Daily</td>\n",
       "      <td>Cases</td>\n",
       "      <td>2021-07-31</td>\n",
       "      <td>NaN</td>\n",
       "      <td>Najran</td>\n",
       "      <td>Najran</td>\n",
       "      <td>29</td>\n",
       "    </tr>\n",
       "    <tr>\n",
       "      <th>4057</th>\n",
       "      <td>Daily</td>\n",
       "      <td>Cases</td>\n",
       "      <td>2021-07-31</td>\n",
       "      <td>NaN</td>\n",
       "      <td>Hubuna</td>\n",
       "      <td>Najran</td>\n",
       "      <td>3</td>\n",
       "    </tr>\n",
       "    <tr>\n",
       "      <th>...</th>\n",
       "      <td>...</td>\n",
       "      <td>...</td>\n",
       "      <td>...</td>\n",
       "      <td>...</td>\n",
       "      <td>...</td>\n",
       "      <td>...</td>\n",
       "      <td>...</td>\n",
       "    </tr>\n",
       "    <tr>\n",
       "      <th>423322</th>\n",
       "      <td>Daily</td>\n",
       "      <td>Mortalities</td>\n",
       "      <td>2021-05-15</td>\n",
       "      <td>NaN</td>\n",
       "      <td>Al Madinah Al Munawwarah</td>\n",
       "      <td>Al Madinah Al Munawwarah</td>\n",
       "      <td>1</td>\n",
       "    </tr>\n",
       "    <tr>\n",
       "      <th>423323</th>\n",
       "      <td>Daily</td>\n",
       "      <td>Mortalities</td>\n",
       "      <td>2021-05-16</td>\n",
       "      <td>NaN</td>\n",
       "      <td>Khamis Mushayt</td>\n",
       "      <td>Aseer</td>\n",
       "      <td>1</td>\n",
       "    </tr>\n",
       "    <tr>\n",
       "      <th>423324</th>\n",
       "      <td>Daily</td>\n",
       "      <td>Mortalities</td>\n",
       "      <td>2021-05-16</td>\n",
       "      <td>NaN</td>\n",
       "      <td>Jeddah</td>\n",
       "      <td>Makkah Al Mukarramah</td>\n",
       "      <td>1</td>\n",
       "    </tr>\n",
       "    <tr>\n",
       "      <th>423325</th>\n",
       "      <td>Daily</td>\n",
       "      <td>Mortalities</td>\n",
       "      <td>2021-05-16</td>\n",
       "      <td>NaN</td>\n",
       "      <td>Al Qunfudhah</td>\n",
       "      <td>Makkah Al Mukarramah</td>\n",
       "      <td>1</td>\n",
       "    </tr>\n",
       "    <tr>\n",
       "      <th>423326</th>\n",
       "      <td>Daily</td>\n",
       "      <td>Mortalities</td>\n",
       "      <td>2021-05-17</td>\n",
       "      <td>NaN</td>\n",
       "      <td>Jazan</td>\n",
       "      <td>Jazan</td>\n",
       "      <td>1</td>\n",
       "    </tr>\n",
       "  </tbody>\n",
       "</table>\n",
       "<p>95206 rows × 7 columns</p>\n",
       "</div>"
      ],
      "text/plain": [
       "       Daily / Cumulative    Indicator        Date Event  \\\n",
       "4053                Daily        Cases  2021-07-31   NaN   \n",
       "4054                Daily        Cases  2021-07-31   NaN   \n",
       "4055                Daily        Cases  2021-07-31   NaN   \n",
       "4056                Daily        Cases  2021-07-31   NaN   \n",
       "4057                Daily        Cases  2021-07-31   NaN   \n",
       "...                   ...          ...         ...   ...   \n",
       "423322              Daily  Mortalities  2021-05-15   NaN   \n",
       "423323              Daily  Mortalities  2021-05-16   NaN   \n",
       "423324              Daily  Mortalities  2021-05-16   NaN   \n",
       "423325              Daily  Mortalities  2021-05-16   NaN   \n",
       "423326              Daily  Mortalities  2021-05-17   NaN   \n",
       "\n",
       "                            City                    Region  Cases (person)  \n",
       "4053                  ʻUrayʻIrah            Eastern Region               2  \n",
       "4054             ʻUqlat As Suqur                 Al Qaseem               4  \n",
       "4055        Makkah Al Mukarramah      Makkah Al Mukarramah              28  \n",
       "4056                      Najran                    Najran              29  \n",
       "4057                      Hubuna                    Najran               3  \n",
       "...                          ...                       ...             ...  \n",
       "423322  Al Madinah Al Munawwarah  Al Madinah Al Munawwarah               1  \n",
       "423323            Khamis Mushayt                     Aseer               1  \n",
       "423324                    Jeddah      Makkah Al Mukarramah               1  \n",
       "423325              Al Qunfudhah      Makkah Al Mukarramah               1  \n",
       "423326                     Jazan                     Jazan               1  \n",
       "\n",
       "[95206 rows x 7 columns]"
      ]
     },
     "execution_count": 17,
     "metadata": {},
     "output_type": "execute_result"
    }
   ],
   "source": [
    "Daily_df = df[df[\"Daily / Cumulative\"] == 'Daily']\n",
    "Daily_df"
   ]
  },
  {
   "cell_type": "code",
   "execution_count": 18,
   "id": "069c00ca",
   "metadata": {},
   "outputs": [
    {
     "data": {
      "text/plain": [
       "Total                   2274\n",
       "Jeddah                  1605\n",
       "Makkah Al Mukarramah    1530\n",
       "Ar Riyad                1502\n",
       "Ad Dammam               1366\n",
       "                        ... \n",
       "Abu 'Urwah                 5\n",
       "Samudah                    4\n",
       "As Sulaymaniyyah           2\n",
       "Harad                      2\n",
       "Hadad Bani Malik           2\n",
       "Name: City, Length: 207, dtype: int64"
      ]
     },
     "execution_count": 18,
     "metadata": {},
     "output_type": "execute_result"
    }
   ],
   "source": [
    "Daily_df['City'].value_counts()"
   ]
  },
  {
   "cell_type": "code",
   "execution_count": 19,
   "id": "ba0d9c61",
   "metadata": {},
   "outputs": [
    {
     "data": {
      "text/plain": [
       "Total                   3381\n",
       "Al Qatif                2265\n",
       "Makkah Al Mukarramah    2258\n",
       "Ar Riyad                2257\n",
       "Ad Dammam               2256\n",
       "                        ... \n",
       "Hadda                    125\n",
       "Al Hadban                 86\n",
       "Abu 'Urwah                67\n",
       "As Sulaymaniyyah          24\n",
       "Harad                     24\n",
       "Name: City, Length: 207, dtype: int64"
      ]
     },
     "execution_count": 19,
     "metadata": {},
     "output_type": "execute_result"
    }
   ],
   "source": [
    "Cumulative_df['City'].value_counts()"
   ]
  },
  {
   "cell_type": "code",
   "execution_count": 20,
   "id": "69503f86",
   "metadata": {},
   "outputs": [
    {
     "data": {
      "text/plain": [
       "Eastern Region              15825\n",
       "Ar Riyad                    15215\n",
       "Makkah Al Mukarramah        12044\n",
       "Aseer                       11025\n",
       "Al Qaseem                    7780\n",
       "Jazan                        7557\n",
       "Al Madinah Al Munawwarah     5640\n",
       "Al Bahah                     3541\n",
       "Najran                       3221\n",
       "Hail                         3219\n",
       "Tabuk                        3133\n",
       "Al Jawf                      2432\n",
       "Northern Borders             2300\n",
       "Total                        2274\n",
       "Name: Region, dtype: int64"
      ]
     },
     "execution_count": 20,
     "metadata": {},
     "output_type": "execute_result"
    }
   ],
   "source": [
    "Daily_df['Region'].value_counts()"
   ]
  },
  {
   "cell_type": "code",
   "execution_count": 21,
   "id": "814e9408",
   "metadata": {},
   "outputs": [
    {
     "data": {
      "text/plain": [
       "Ar Riyad                    55302\n",
       "Eastern Region              44347\n",
       "Makkah Al Mukarramah        42046\n",
       "Aseer                       40423\n",
       "Jazan                       31531\n",
       "Al Qaseem                   23715\n",
       "Al Madinah Al Munawwarah    16417\n",
       "Al Bahah                    14432\n",
       "Tabuk                       14020\n",
       "Hail                        13938\n",
       "Al Jawf                     12450\n",
       "Najran                      11098\n",
       "Northern Borders            10040\n",
       "Total                        3381\n",
       "Name: Region, dtype: int64"
      ]
     },
     "execution_count": 21,
     "metadata": {},
     "output_type": "execute_result"
    }
   ],
   "source": [
    "Cumulative_df['Region'].value_counts()"
   ]
  },
  {
   "cell_type": "code",
   "execution_count": 22,
   "id": "750211a9",
   "metadata": {},
   "outputs": [
    {
     "data": {
      "text/plain": [
       "Cases          45217\n",
       "Recoveries     44034\n",
       "Mortalities     5376\n",
       "Tested           579\n",
       "Name: Indicator, dtype: int64"
      ]
     },
     "execution_count": 22,
     "metadata": {},
     "output_type": "execute_result"
    }
   ],
   "source": [
    "Daily_df['Indicator'].value_counts()"
   ]
  },
  {
   "cell_type": "code",
   "execution_count": 23,
   "id": "82c2a819",
   "metadata": {},
   "outputs": [
    {
     "data": {
      "text/plain": [
       "Cases          100188\n",
       "Recoveries      96926\n",
       "Active          94333\n",
       "Mortalities     40596\n",
       "Tested            579\n",
       "Critical          518\n",
       "Name: Indicator, dtype: int64"
      ]
     },
     "execution_count": 23,
     "metadata": {},
     "output_type": "execute_result"
    }
   ],
   "source": [
    "Cumulative_df['Indicator'].value_counts()"
   ]
  },
  {
   "cell_type": "code",
   "execution_count": 24,
   "id": "669de93e",
   "metadata": {},
   "outputs": [
    {
     "name": "stdout",
     "output_type": "stream",
     "text": [
      "<class 'pandas.core.frame.DataFrame'>\n",
      "Int64Index: 333140 entries, 0 to 428345\n",
      "Data columns (total 7 columns):\n",
      " #   Column              Non-Null Count   Dtype \n",
      "---  ------              --------------   ----- \n",
      " 0   Daily / Cumulative  333140 non-null  object\n",
      " 1   Indicator           333140 non-null  object\n",
      " 2   Date                333140 non-null  object\n",
      " 3   Event               1414 non-null    object\n",
      " 4   City                333140 non-null  object\n",
      " 5   Region              333140 non-null  object\n",
      " 6   Cases (person)      333140 non-null  int64 \n",
      "dtypes: int64(1), object(6)\n",
      "memory usage: 20.3+ MB\n"
     ]
    }
   ],
   "source": [
    "Cumulative_df.info()"
   ]
  },
  {
   "cell_type": "markdown",
   "id": "fccb0347",
   "metadata": {},
   "source": [
    "NOTE : <br>\n",
    "    - \"Daily / Cumulative\" have a duplicated data, so I decide to use only a daily cases wich is more informative \n",
    "    "
   ]
  },
  {
   "cell_type": "markdown",
   "id": "7f9c1736",
   "metadata": {},
   "source": [
    "### b. Detect Outliers and Missing Values"
   ]
  },
  {
   "cell_type": "code",
   "execution_count": 25,
   "id": "6d44bd29",
   "metadata": {},
   "outputs": [],
   "source": [
    "#(1)Filling the NaN values in 'Event'\n",
    "df1 = df.fillna({'Event':'No event'})"
   ]
  },
  {
   "cell_type": "code",
   "execution_count": 26,
   "id": "ef595810",
   "metadata": {},
   "outputs": [],
   "source": [
    "#(2) Handel rows that have \"Total\" value in 'Region' and 'city' columns\n",
    "\n",
    "df1.drop(df1.loc[df1['Region']=='Total'].index, inplace=True)\n",
    "df1.drop(df1.loc[df1['City']=='Total'].index, inplace=True)"
   ]
  },
  {
   "cell_type": "code",
   "execution_count": 27,
   "id": "3ff4b0ac",
   "metadata": {},
   "outputs": [],
   "source": [
    "#(3) Handel rows that have \"Tested\" value in 'Indicator' column\n",
    "df1.drop(df1.loc[df1['Indicator']=='Tested'].index, inplace=True)\n",
    "df1.drop(df1.loc[df1['Indicator']=='Cases'].index, inplace=True)"
   ]
  },
  {
   "cell_type": "code",
   "execution_count": 28,
   "id": "02121f29",
   "metadata": {},
   "outputs": [],
   "source": [
    "#(4) Extrat the 'Daily / Cumulative' cases\n",
    "df1.drop(df1.loc[df1['Daily / Cumulative']=='Cumulative'].index, inplace=True)"
   ]
  },
  {
   "cell_type": "code",
   "execution_count": 29,
   "id": "3441fd42",
   "metadata": {},
   "outputs": [
    {
     "data": {
      "text/html": [
       "<div>\n",
       "<style scoped>\n",
       "    .dataframe tbody tr th:only-of-type {\n",
       "        vertical-align: middle;\n",
       "    }\n",
       "\n",
       "    .dataframe tbody tr th {\n",
       "        vertical-align: top;\n",
       "    }\n",
       "\n",
       "    .dataframe thead th {\n",
       "        text-align: right;\n",
       "    }\n",
       "</style>\n",
       "<table border=\"1\" class=\"dataframe\">\n",
       "  <thead>\n",
       "    <tr style=\"text-align: right;\">\n",
       "      <th></th>\n",
       "      <th>Daily / Cumulative</th>\n",
       "      <th>Indicator</th>\n",
       "      <th>Date</th>\n",
       "      <th>Event</th>\n",
       "      <th>City</th>\n",
       "      <th>Region</th>\n",
       "      <th>Cases (person)</th>\n",
       "    </tr>\n",
       "  </thead>\n",
       "  <tbody>\n",
       "    <tr>\n",
       "      <th>25397</th>\n",
       "      <td>Daily</td>\n",
       "      <td>Recoveries</td>\n",
       "      <td>2020-03-27</td>\n",
       "      <td>No event</td>\n",
       "      <td>Ar Riyad</td>\n",
       "      <td>Ar Riyad</td>\n",
       "      <td>2</td>\n",
       "    </tr>\n",
       "    <tr>\n",
       "      <th>25398</th>\n",
       "      <td>Daily</td>\n",
       "      <td>Recoveries</td>\n",
       "      <td>2020-03-28</td>\n",
       "      <td>No event</td>\n",
       "      <td>Ar Riyad</td>\n",
       "      <td>Ar Riyad</td>\n",
       "      <td>2</td>\n",
       "    </tr>\n",
       "    <tr>\n",
       "      <th>25399</th>\n",
       "      <td>Daily</td>\n",
       "      <td>Recoveries</td>\n",
       "      <td>2020-03-29</td>\n",
       "      <td>Jeddah lockdown</td>\n",
       "      <td>Makkah Al Mukarramah</td>\n",
       "      <td>Makkah Al Mukarramah</td>\n",
       "      <td>25</td>\n",
       "    </tr>\n",
       "    <tr>\n",
       "      <th>25400</th>\n",
       "      <td>Daily</td>\n",
       "      <td>Recoveries</td>\n",
       "      <td>2020-03-31</td>\n",
       "      <td>No event</td>\n",
       "      <td>Al Qatif</td>\n",
       "      <td>Eastern Region</td>\n",
       "      <td>1</td>\n",
       "    </tr>\n",
       "    <tr>\n",
       "      <th>25401</th>\n",
       "      <td>Daily</td>\n",
       "      <td>Recoveries</td>\n",
       "      <td>2020-03-31</td>\n",
       "      <td>No event</td>\n",
       "      <td>Jeddah</td>\n",
       "      <td>Makkah Al Mukarramah</td>\n",
       "      <td>28</td>\n",
       "    </tr>\n",
       "    <tr>\n",
       "      <th>...</th>\n",
       "      <td>...</td>\n",
       "      <td>...</td>\n",
       "      <td>...</td>\n",
       "      <td>...</td>\n",
       "      <td>...</td>\n",
       "      <td>...</td>\n",
       "      <td>...</td>\n",
       "    </tr>\n",
       "    <tr>\n",
       "      <th>423322</th>\n",
       "      <td>Daily</td>\n",
       "      <td>Mortalities</td>\n",
       "      <td>2021-05-15</td>\n",
       "      <td>No event</td>\n",
       "      <td>Al Madinah Al Munawwarah</td>\n",
       "      <td>Al Madinah Al Munawwarah</td>\n",
       "      <td>1</td>\n",
       "    </tr>\n",
       "    <tr>\n",
       "      <th>423323</th>\n",
       "      <td>Daily</td>\n",
       "      <td>Mortalities</td>\n",
       "      <td>2021-05-16</td>\n",
       "      <td>No event</td>\n",
       "      <td>Khamis Mushayt</td>\n",
       "      <td>Aseer</td>\n",
       "      <td>1</td>\n",
       "    </tr>\n",
       "    <tr>\n",
       "      <th>423324</th>\n",
       "      <td>Daily</td>\n",
       "      <td>Mortalities</td>\n",
       "      <td>2021-05-16</td>\n",
       "      <td>No event</td>\n",
       "      <td>Jeddah</td>\n",
       "      <td>Makkah Al Mukarramah</td>\n",
       "      <td>1</td>\n",
       "    </tr>\n",
       "    <tr>\n",
       "      <th>423325</th>\n",
       "      <td>Daily</td>\n",
       "      <td>Mortalities</td>\n",
       "      <td>2021-05-16</td>\n",
       "      <td>No event</td>\n",
       "      <td>Al Qunfudhah</td>\n",
       "      <td>Makkah Al Mukarramah</td>\n",
       "      <td>1</td>\n",
       "    </tr>\n",
       "    <tr>\n",
       "      <th>423326</th>\n",
       "      <td>Daily</td>\n",
       "      <td>Mortalities</td>\n",
       "      <td>2021-05-17</td>\n",
       "      <td>No event</td>\n",
       "      <td>Jazan</td>\n",
       "      <td>Jazan</td>\n",
       "      <td>1</td>\n",
       "    </tr>\n",
       "  </tbody>\n",
       "</table>\n",
       "<p>48292 rows × 7 columns</p>\n",
       "</div>"
      ],
      "text/plain": [
       "       Daily / Cumulative    Indicator        Date            Event  \\\n",
       "25397               Daily   Recoveries  2020-03-27         No event   \n",
       "25398               Daily   Recoveries  2020-03-28         No event   \n",
       "25399               Daily   Recoveries  2020-03-29  Jeddah lockdown   \n",
       "25400               Daily   Recoveries  2020-03-31         No event   \n",
       "25401               Daily   Recoveries  2020-03-31         No event   \n",
       "...                   ...          ...         ...              ...   \n",
       "423322              Daily  Mortalities  2021-05-15         No event   \n",
       "423323              Daily  Mortalities  2021-05-16         No event   \n",
       "423324              Daily  Mortalities  2021-05-16         No event   \n",
       "423325              Daily  Mortalities  2021-05-16         No event   \n",
       "423326              Daily  Mortalities  2021-05-17         No event   \n",
       "\n",
       "                            City                    Region  Cases (person)  \n",
       "25397                   Ar Riyad                  Ar Riyad               2  \n",
       "25398                   Ar Riyad                  Ar Riyad               2  \n",
       "25399       Makkah Al Mukarramah      Makkah Al Mukarramah              25  \n",
       "25400                   Al Qatif            Eastern Region               1  \n",
       "25401                     Jeddah      Makkah Al Mukarramah              28  \n",
       "...                          ...                       ...             ...  \n",
       "423322  Al Madinah Al Munawwarah  Al Madinah Al Munawwarah               1  \n",
       "423323            Khamis Mushayt                     Aseer               1  \n",
       "423324                    Jeddah      Makkah Al Mukarramah               1  \n",
       "423325              Al Qunfudhah      Makkah Al Mukarramah               1  \n",
       "423326                     Jazan                     Jazan               1  \n",
       "\n",
       "[48292 rows x 7 columns]"
      ]
     },
     "execution_count": 29,
     "metadata": {},
     "output_type": "execute_result"
    }
   ],
   "source": [
    "df1"
   ]
  },
  {
   "cell_type": "code",
   "execution_count": 30,
   "id": "2d6eb424",
   "metadata": {},
   "outputs": [
    {
     "name": "stdout",
     "output_type": "stream",
     "text": [
      "Shape of dataset befor handling (428346, 7)\n",
      "Shape of dataset After handling (48292, 7)\n"
     ]
    }
   ],
   "source": [
    "print ('Shape of dataset befor handling',df.shape)\n",
    "print ('Shape of dataset After handling',df1.shape)"
   ]
  },
  {
   "cell_type": "markdown",
   "id": "44ec7d49",
   "metadata": {},
   "source": [
    "### c. Feature Engineering \n"
   ]
  },
  {
   "cell_type": "code",
   "execution_count": 31,
   "id": "6443c31b",
   "metadata": {},
   "outputs": [],
   "source": [
    "#(1) Convert 'Data' type\n",
    "df1['Date'] = pd.to_datetime(df1['Date'])"
   ]
  },
  {
   "cell_type": "code",
   "execution_count": 32,
   "id": "582d7fa5",
   "metadata": {},
   "outputs": [
    {
     "name": "stdout",
     "output_type": "stream",
     "text": [
      "<class 'pandas.core.frame.DataFrame'>\n",
      "Int64Index: 48292 entries, 25397 to 423326\n",
      "Data columns (total 7 columns):\n",
      " #   Column              Non-Null Count  Dtype         \n",
      "---  ------              --------------  -----         \n",
      " 0   Daily / Cumulative  48292 non-null  object        \n",
      " 1   Indicator           48292 non-null  object        \n",
      " 2   Date                48292 non-null  datetime64[ns]\n",
      " 3   Event               48292 non-null  object        \n",
      " 4   City                48292 non-null  object        \n",
      " 5   Region              48292 non-null  object        \n",
      " 6   Cases (person)      48292 non-null  int64         \n",
      "dtypes: datetime64[ns](1), int64(1), object(5)\n",
      "memory usage: 2.9+ MB\n"
     ]
    }
   ],
   "source": [
    "df1.info()"
   ]
  },
  {
   "cell_type": "code",
   "execution_count": 33,
   "id": "2b487d9b",
   "metadata": {},
   "outputs": [],
   "source": [
    "#(2) Add 'Day_name' column\n",
    "df1['Day_name'] = df1['Date'].dt.day_name() "
   ]
  },
  {
   "cell_type": "code",
   "execution_count": 34,
   "id": "aa290014",
   "metadata": {},
   "outputs": [],
   "source": [
    "#(3) Add 'Day','year' and 'month' column\n",
    "df1['Day'] = df1['Date'].dt.day\n",
    "df1['Month'] = df1['Date'].dt.month\n",
    "df1['Year'] = df1['Date'].dt.year"
   ]
  },
  {
   "cell_type": "code",
   "execution_count": 35,
   "id": "ba81e2b4",
   "metadata": {},
   "outputs": [],
   "source": [
    "#(4) Rename 'Cases (person)' column\n",
    "df1 = df1.rename(columns = {'Cases (person)':'Cases'}, inplace = False)"
   ]
  },
  {
   "cell_type": "code",
   "execution_count": 36,
   "id": "f2a8da88",
   "metadata": {},
   "outputs": [
    {
     "data": {
      "text/html": [
       "<div>\n",
       "<style scoped>\n",
       "    .dataframe tbody tr th:only-of-type {\n",
       "        vertical-align: middle;\n",
       "    }\n",
       "\n",
       "    .dataframe tbody tr th {\n",
       "        vertical-align: top;\n",
       "    }\n",
       "\n",
       "    .dataframe thead th {\n",
       "        text-align: right;\n",
       "    }\n",
       "</style>\n",
       "<table border=\"1\" class=\"dataframe\">\n",
       "  <thead>\n",
       "    <tr style=\"text-align: right;\">\n",
       "      <th></th>\n",
       "      <th>Date</th>\n",
       "      <th>Day_name</th>\n",
       "      <th>Day</th>\n",
       "      <th>Month</th>\n",
       "      <th>Year</th>\n",
       "      <th>Cases</th>\n",
       "      <th>City</th>\n",
       "      <th>Region</th>\n",
       "      <th>Indicator</th>\n",
       "      <th>Event</th>\n",
       "      <th>Daily / Cumulative</th>\n",
       "    </tr>\n",
       "  </thead>\n",
       "  <tbody>\n",
       "    <tr>\n",
       "      <th>25397</th>\n",
       "      <td>2020-03-27</td>\n",
       "      <td>Friday</td>\n",
       "      <td>27</td>\n",
       "      <td>3</td>\n",
       "      <td>2020</td>\n",
       "      <td>2</td>\n",
       "      <td>Ar Riyad</td>\n",
       "      <td>Ar Riyad</td>\n",
       "      <td>Recoveries</td>\n",
       "      <td>No event</td>\n",
       "      <td>Daily</td>\n",
       "    </tr>\n",
       "    <tr>\n",
       "      <th>25398</th>\n",
       "      <td>2020-03-28</td>\n",
       "      <td>Saturday</td>\n",
       "      <td>28</td>\n",
       "      <td>3</td>\n",
       "      <td>2020</td>\n",
       "      <td>2</td>\n",
       "      <td>Ar Riyad</td>\n",
       "      <td>Ar Riyad</td>\n",
       "      <td>Recoveries</td>\n",
       "      <td>No event</td>\n",
       "      <td>Daily</td>\n",
       "    </tr>\n",
       "    <tr>\n",
       "      <th>25399</th>\n",
       "      <td>2020-03-29</td>\n",
       "      <td>Sunday</td>\n",
       "      <td>29</td>\n",
       "      <td>3</td>\n",
       "      <td>2020</td>\n",
       "      <td>25</td>\n",
       "      <td>Makkah Al Mukarramah</td>\n",
       "      <td>Makkah Al Mukarramah</td>\n",
       "      <td>Recoveries</td>\n",
       "      <td>Jeddah lockdown</td>\n",
       "      <td>Daily</td>\n",
       "    </tr>\n",
       "    <tr>\n",
       "      <th>25400</th>\n",
       "      <td>2020-03-31</td>\n",
       "      <td>Tuesday</td>\n",
       "      <td>31</td>\n",
       "      <td>3</td>\n",
       "      <td>2020</td>\n",
       "      <td>1</td>\n",
       "      <td>Al Qatif</td>\n",
       "      <td>Eastern Region</td>\n",
       "      <td>Recoveries</td>\n",
       "      <td>No event</td>\n",
       "      <td>Daily</td>\n",
       "    </tr>\n",
       "    <tr>\n",
       "      <th>25401</th>\n",
       "      <td>2020-03-31</td>\n",
       "      <td>Tuesday</td>\n",
       "      <td>31</td>\n",
       "      <td>3</td>\n",
       "      <td>2020</td>\n",
       "      <td>28</td>\n",
       "      <td>Jeddah</td>\n",
       "      <td>Makkah Al Mukarramah</td>\n",
       "      <td>Recoveries</td>\n",
       "      <td>No event</td>\n",
       "      <td>Daily</td>\n",
       "    </tr>\n",
       "    <tr>\n",
       "      <th>...</th>\n",
       "      <td>...</td>\n",
       "      <td>...</td>\n",
       "      <td>...</td>\n",
       "      <td>...</td>\n",
       "      <td>...</td>\n",
       "      <td>...</td>\n",
       "      <td>...</td>\n",
       "      <td>...</td>\n",
       "      <td>...</td>\n",
       "      <td>...</td>\n",
       "      <td>...</td>\n",
       "    </tr>\n",
       "    <tr>\n",
       "      <th>423322</th>\n",
       "      <td>2021-05-15</td>\n",
       "      <td>Saturday</td>\n",
       "      <td>15</td>\n",
       "      <td>5</td>\n",
       "      <td>2021</td>\n",
       "      <td>1</td>\n",
       "      <td>Al Madinah Al Munawwarah</td>\n",
       "      <td>Al Madinah Al Munawwarah</td>\n",
       "      <td>Mortalities</td>\n",
       "      <td>No event</td>\n",
       "      <td>Daily</td>\n",
       "    </tr>\n",
       "    <tr>\n",
       "      <th>423323</th>\n",
       "      <td>2021-05-16</td>\n",
       "      <td>Sunday</td>\n",
       "      <td>16</td>\n",
       "      <td>5</td>\n",
       "      <td>2021</td>\n",
       "      <td>1</td>\n",
       "      <td>Khamis Mushayt</td>\n",
       "      <td>Aseer</td>\n",
       "      <td>Mortalities</td>\n",
       "      <td>No event</td>\n",
       "      <td>Daily</td>\n",
       "    </tr>\n",
       "    <tr>\n",
       "      <th>423324</th>\n",
       "      <td>2021-05-16</td>\n",
       "      <td>Sunday</td>\n",
       "      <td>16</td>\n",
       "      <td>5</td>\n",
       "      <td>2021</td>\n",
       "      <td>1</td>\n",
       "      <td>Jeddah</td>\n",
       "      <td>Makkah Al Mukarramah</td>\n",
       "      <td>Mortalities</td>\n",
       "      <td>No event</td>\n",
       "      <td>Daily</td>\n",
       "    </tr>\n",
       "    <tr>\n",
       "      <th>423325</th>\n",
       "      <td>2021-05-16</td>\n",
       "      <td>Sunday</td>\n",
       "      <td>16</td>\n",
       "      <td>5</td>\n",
       "      <td>2021</td>\n",
       "      <td>1</td>\n",
       "      <td>Al Qunfudhah</td>\n",
       "      <td>Makkah Al Mukarramah</td>\n",
       "      <td>Mortalities</td>\n",
       "      <td>No event</td>\n",
       "      <td>Daily</td>\n",
       "    </tr>\n",
       "    <tr>\n",
       "      <th>423326</th>\n",
       "      <td>2021-05-17</td>\n",
       "      <td>Monday</td>\n",
       "      <td>17</td>\n",
       "      <td>5</td>\n",
       "      <td>2021</td>\n",
       "      <td>1</td>\n",
       "      <td>Jazan</td>\n",
       "      <td>Jazan</td>\n",
       "      <td>Mortalities</td>\n",
       "      <td>No event</td>\n",
       "      <td>Daily</td>\n",
       "    </tr>\n",
       "  </tbody>\n",
       "</table>\n",
       "<p>48292 rows × 11 columns</p>\n",
       "</div>"
      ],
      "text/plain": [
       "             Date  Day_name  Day  Month  Year  Cases  \\\n",
       "25397  2020-03-27    Friday   27      3  2020      2   \n",
       "25398  2020-03-28  Saturday   28      3  2020      2   \n",
       "25399  2020-03-29    Sunday   29      3  2020     25   \n",
       "25400  2020-03-31   Tuesday   31      3  2020      1   \n",
       "25401  2020-03-31   Tuesday   31      3  2020     28   \n",
       "...           ...       ...  ...    ...   ...    ...   \n",
       "423322 2021-05-15  Saturday   15      5  2021      1   \n",
       "423323 2021-05-16    Sunday   16      5  2021      1   \n",
       "423324 2021-05-16    Sunday   16      5  2021      1   \n",
       "423325 2021-05-16    Sunday   16      5  2021      1   \n",
       "423326 2021-05-17    Monday   17      5  2021      1   \n",
       "\n",
       "                            City                    Region    Indicator  \\\n",
       "25397                   Ar Riyad                  Ar Riyad   Recoveries   \n",
       "25398                   Ar Riyad                  Ar Riyad   Recoveries   \n",
       "25399       Makkah Al Mukarramah      Makkah Al Mukarramah   Recoveries   \n",
       "25400                   Al Qatif            Eastern Region   Recoveries   \n",
       "25401                     Jeddah      Makkah Al Mukarramah   Recoveries   \n",
       "...                          ...                       ...          ...   \n",
       "423322  Al Madinah Al Munawwarah  Al Madinah Al Munawwarah  Mortalities   \n",
       "423323            Khamis Mushayt                     Aseer  Mortalities   \n",
       "423324                    Jeddah      Makkah Al Mukarramah  Mortalities   \n",
       "423325              Al Qunfudhah      Makkah Al Mukarramah  Mortalities   \n",
       "423326                     Jazan                     Jazan  Mortalities   \n",
       "\n",
       "                  Event Daily / Cumulative  \n",
       "25397          No event              Daily  \n",
       "25398          No event              Daily  \n",
       "25399   Jeddah lockdown              Daily  \n",
       "25400          No event              Daily  \n",
       "25401          No event              Daily  \n",
       "...                 ...                ...  \n",
       "423322         No event              Daily  \n",
       "423323         No event              Daily  \n",
       "423324         No event              Daily  \n",
       "423325         No event              Daily  \n",
       "423326         No event              Daily  \n",
       "\n",
       "[48292 rows x 11 columns]"
      ]
     },
     "execution_count": 36,
     "metadata": {},
     "output_type": "execute_result"
    }
   ],
   "source": [
    "#(5)Rearrange Features\n",
    "df1 = df1 [[\"Date\",\"Day_name\",\"Day\",\"Month\",\"Year\",\"Cases\",\"City\",\"Region\",\"Indicator\",\"Event\",\"Daily / Cumulative\"]]\n",
    "df1"
   ]
  },
  {
   "cell_type": "code",
   "execution_count": null,
   "id": "97ba8aac",
   "metadata": {},
   "outputs": [],
   "source": [
    "#(6) drop un-needed column from df_dailey\n",
    "\n",
    "df1.drop(df1.columns[[10]], axis = 1,inplace=True)\n"
   ]
  },
  {
   "cell_type": "code",
   "execution_count": 45,
   "id": "221a756e",
   "metadata": {},
   "outputs": [
    {
     "data": {
      "text/html": [
       "<div>\n",
       "<style scoped>\n",
       "    .dataframe tbody tr th:only-of-type {\n",
       "        vertical-align: middle;\n",
       "    }\n",
       "\n",
       "    .dataframe tbody tr th {\n",
       "        vertical-align: top;\n",
       "    }\n",
       "\n",
       "    .dataframe thead th {\n",
       "        text-align: right;\n",
       "    }\n",
       "</style>\n",
       "<table border=\"1\" class=\"dataframe\">\n",
       "  <thead>\n",
       "    <tr style=\"text-align: right;\">\n",
       "      <th></th>\n",
       "      <th>Date</th>\n",
       "      <th>Day_name</th>\n",
       "      <th>Day</th>\n",
       "      <th>Month</th>\n",
       "      <th>Year</th>\n",
       "      <th>Cases</th>\n",
       "      <th>City</th>\n",
       "      <th>Region</th>\n",
       "      <th>Indicator</th>\n",
       "      <th>Event</th>\n",
       "    </tr>\n",
       "  </thead>\n",
       "  <tbody>\n",
       "    <tr>\n",
       "      <th>25397</th>\n",
       "      <td>2020-03-27</td>\n",
       "      <td>Friday</td>\n",
       "      <td>27</td>\n",
       "      <td>3</td>\n",
       "      <td>2020</td>\n",
       "      <td>2</td>\n",
       "      <td>Ar Riyad</td>\n",
       "      <td>Ar Riyad</td>\n",
       "      <td>Recoveries</td>\n",
       "      <td>No event</td>\n",
       "    </tr>\n",
       "    <tr>\n",
       "      <th>25398</th>\n",
       "      <td>2020-03-28</td>\n",
       "      <td>Saturday</td>\n",
       "      <td>28</td>\n",
       "      <td>3</td>\n",
       "      <td>2020</td>\n",
       "      <td>2</td>\n",
       "      <td>Ar Riyad</td>\n",
       "      <td>Ar Riyad</td>\n",
       "      <td>Recoveries</td>\n",
       "      <td>No event</td>\n",
       "    </tr>\n",
       "    <tr>\n",
       "      <th>25399</th>\n",
       "      <td>2020-03-29</td>\n",
       "      <td>Sunday</td>\n",
       "      <td>29</td>\n",
       "      <td>3</td>\n",
       "      <td>2020</td>\n",
       "      <td>25</td>\n",
       "      <td>Makkah Al Mukarramah</td>\n",
       "      <td>Makkah Al Mukarramah</td>\n",
       "      <td>Recoveries</td>\n",
       "      <td>Jeddah lockdown</td>\n",
       "    </tr>\n",
       "    <tr>\n",
       "      <th>25400</th>\n",
       "      <td>2020-03-31</td>\n",
       "      <td>Tuesday</td>\n",
       "      <td>31</td>\n",
       "      <td>3</td>\n",
       "      <td>2020</td>\n",
       "      <td>1</td>\n",
       "      <td>Al Qatif</td>\n",
       "      <td>Eastern Region</td>\n",
       "      <td>Recoveries</td>\n",
       "      <td>No event</td>\n",
       "    </tr>\n",
       "    <tr>\n",
       "      <th>25401</th>\n",
       "      <td>2020-03-31</td>\n",
       "      <td>Tuesday</td>\n",
       "      <td>31</td>\n",
       "      <td>3</td>\n",
       "      <td>2020</td>\n",
       "      <td>28</td>\n",
       "      <td>Jeddah</td>\n",
       "      <td>Makkah Al Mukarramah</td>\n",
       "      <td>Recoveries</td>\n",
       "      <td>No event</td>\n",
       "    </tr>\n",
       "    <tr>\n",
       "      <th>...</th>\n",
       "      <td>...</td>\n",
       "      <td>...</td>\n",
       "      <td>...</td>\n",
       "      <td>...</td>\n",
       "      <td>...</td>\n",
       "      <td>...</td>\n",
       "      <td>...</td>\n",
       "      <td>...</td>\n",
       "      <td>...</td>\n",
       "      <td>...</td>\n",
       "    </tr>\n",
       "    <tr>\n",
       "      <th>423322</th>\n",
       "      <td>2021-05-15</td>\n",
       "      <td>Saturday</td>\n",
       "      <td>15</td>\n",
       "      <td>5</td>\n",
       "      <td>2021</td>\n",
       "      <td>1</td>\n",
       "      <td>Al Madinah Al Munawwarah</td>\n",
       "      <td>Al Madinah Al Munawwarah</td>\n",
       "      <td>Mortalities</td>\n",
       "      <td>No event</td>\n",
       "    </tr>\n",
       "    <tr>\n",
       "      <th>423323</th>\n",
       "      <td>2021-05-16</td>\n",
       "      <td>Sunday</td>\n",
       "      <td>16</td>\n",
       "      <td>5</td>\n",
       "      <td>2021</td>\n",
       "      <td>1</td>\n",
       "      <td>Khamis Mushayt</td>\n",
       "      <td>Aseer</td>\n",
       "      <td>Mortalities</td>\n",
       "      <td>No event</td>\n",
       "    </tr>\n",
       "    <tr>\n",
       "      <th>423324</th>\n",
       "      <td>2021-05-16</td>\n",
       "      <td>Sunday</td>\n",
       "      <td>16</td>\n",
       "      <td>5</td>\n",
       "      <td>2021</td>\n",
       "      <td>1</td>\n",
       "      <td>Jeddah</td>\n",
       "      <td>Makkah Al Mukarramah</td>\n",
       "      <td>Mortalities</td>\n",
       "      <td>No event</td>\n",
       "    </tr>\n",
       "    <tr>\n",
       "      <th>423325</th>\n",
       "      <td>2021-05-16</td>\n",
       "      <td>Sunday</td>\n",
       "      <td>16</td>\n",
       "      <td>5</td>\n",
       "      <td>2021</td>\n",
       "      <td>1</td>\n",
       "      <td>Al Qunfudhah</td>\n",
       "      <td>Makkah Al Mukarramah</td>\n",
       "      <td>Mortalities</td>\n",
       "      <td>No event</td>\n",
       "    </tr>\n",
       "    <tr>\n",
       "      <th>423326</th>\n",
       "      <td>2021-05-17</td>\n",
       "      <td>Monday</td>\n",
       "      <td>17</td>\n",
       "      <td>5</td>\n",
       "      <td>2021</td>\n",
       "      <td>1</td>\n",
       "      <td>Jazan</td>\n",
       "      <td>Jazan</td>\n",
       "      <td>Mortalities</td>\n",
       "      <td>No event</td>\n",
       "    </tr>\n",
       "  </tbody>\n",
       "</table>\n",
       "<p>48292 rows × 10 columns</p>\n",
       "</div>"
      ],
      "text/plain": [
       "             Date  Day_name  Day  Month  Year  Cases  \\\n",
       "25397  2020-03-27    Friday   27      3  2020      2   \n",
       "25398  2020-03-28  Saturday   28      3  2020      2   \n",
       "25399  2020-03-29    Sunday   29      3  2020     25   \n",
       "25400  2020-03-31   Tuesday   31      3  2020      1   \n",
       "25401  2020-03-31   Tuesday   31      3  2020     28   \n",
       "...           ...       ...  ...    ...   ...    ...   \n",
       "423322 2021-05-15  Saturday   15      5  2021      1   \n",
       "423323 2021-05-16    Sunday   16      5  2021      1   \n",
       "423324 2021-05-16    Sunday   16      5  2021      1   \n",
       "423325 2021-05-16    Sunday   16      5  2021      1   \n",
       "423326 2021-05-17    Monday   17      5  2021      1   \n",
       "\n",
       "                            City                    Region    Indicator  \\\n",
       "25397                   Ar Riyad                  Ar Riyad   Recoveries   \n",
       "25398                   Ar Riyad                  Ar Riyad   Recoveries   \n",
       "25399       Makkah Al Mukarramah      Makkah Al Mukarramah   Recoveries   \n",
       "25400                   Al Qatif            Eastern Region   Recoveries   \n",
       "25401                     Jeddah      Makkah Al Mukarramah   Recoveries   \n",
       "...                          ...                       ...          ...   \n",
       "423322  Al Madinah Al Munawwarah  Al Madinah Al Munawwarah  Mortalities   \n",
       "423323            Khamis Mushayt                     Aseer  Mortalities   \n",
       "423324                    Jeddah      Makkah Al Mukarramah  Mortalities   \n",
       "423325              Al Qunfudhah      Makkah Al Mukarramah  Mortalities   \n",
       "423326                     Jazan                     Jazan  Mortalities   \n",
       "\n",
       "                  Event  \n",
       "25397          No event  \n",
       "25398          No event  \n",
       "25399   Jeddah lockdown  \n",
       "25400          No event  \n",
       "25401          No event  \n",
       "...                 ...  \n",
       "423322         No event  \n",
       "423323         No event  \n",
       "423324         No event  \n",
       "423325         No event  \n",
       "423326         No event  \n",
       "\n",
       "[48292 rows x 10 columns]"
      ]
     },
     "execution_count": 45,
     "metadata": {},
     "output_type": "execute_result"
    }
   ],
   "source": [
    "df1"
   ]
  },
  {
   "cell_type": "code",
   "execution_count": 46,
   "id": "4e01636c",
   "metadata": {},
   "outputs": [],
   "source": [
    "df1.drop(df1.columns[[0]], axis = 1,inplace=True)\n"
   ]
  },
  {
   "cell_type": "code",
   "execution_count": 47,
   "id": "37cc92c5",
   "metadata": {},
   "outputs": [
    {
     "data": {
      "text/html": [
       "<div>\n",
       "<style scoped>\n",
       "    .dataframe tbody tr th:only-of-type {\n",
       "        vertical-align: middle;\n",
       "    }\n",
       "\n",
       "    .dataframe tbody tr th {\n",
       "        vertical-align: top;\n",
       "    }\n",
       "\n",
       "    .dataframe thead th {\n",
       "        text-align: right;\n",
       "    }\n",
       "</style>\n",
       "<table border=\"1\" class=\"dataframe\">\n",
       "  <thead>\n",
       "    <tr style=\"text-align: right;\">\n",
       "      <th></th>\n",
       "      <th>Day_name</th>\n",
       "      <th>Day</th>\n",
       "      <th>Month</th>\n",
       "      <th>Year</th>\n",
       "      <th>Cases</th>\n",
       "      <th>City</th>\n",
       "      <th>Region</th>\n",
       "      <th>Indicator</th>\n",
       "      <th>Event</th>\n",
       "    </tr>\n",
       "  </thead>\n",
       "  <tbody>\n",
       "    <tr>\n",
       "      <th>25397</th>\n",
       "      <td>Friday</td>\n",
       "      <td>27</td>\n",
       "      <td>3</td>\n",
       "      <td>2020</td>\n",
       "      <td>2</td>\n",
       "      <td>Ar Riyad</td>\n",
       "      <td>Ar Riyad</td>\n",
       "      <td>Recoveries</td>\n",
       "      <td>No event</td>\n",
       "    </tr>\n",
       "    <tr>\n",
       "      <th>25398</th>\n",
       "      <td>Saturday</td>\n",
       "      <td>28</td>\n",
       "      <td>3</td>\n",
       "      <td>2020</td>\n",
       "      <td>2</td>\n",
       "      <td>Ar Riyad</td>\n",
       "      <td>Ar Riyad</td>\n",
       "      <td>Recoveries</td>\n",
       "      <td>No event</td>\n",
       "    </tr>\n",
       "    <tr>\n",
       "      <th>25399</th>\n",
       "      <td>Sunday</td>\n",
       "      <td>29</td>\n",
       "      <td>3</td>\n",
       "      <td>2020</td>\n",
       "      <td>25</td>\n",
       "      <td>Makkah Al Mukarramah</td>\n",
       "      <td>Makkah Al Mukarramah</td>\n",
       "      <td>Recoveries</td>\n",
       "      <td>Jeddah lockdown</td>\n",
       "    </tr>\n",
       "    <tr>\n",
       "      <th>25400</th>\n",
       "      <td>Tuesday</td>\n",
       "      <td>31</td>\n",
       "      <td>3</td>\n",
       "      <td>2020</td>\n",
       "      <td>1</td>\n",
       "      <td>Al Qatif</td>\n",
       "      <td>Eastern Region</td>\n",
       "      <td>Recoveries</td>\n",
       "      <td>No event</td>\n",
       "    </tr>\n",
       "    <tr>\n",
       "      <th>25401</th>\n",
       "      <td>Tuesday</td>\n",
       "      <td>31</td>\n",
       "      <td>3</td>\n",
       "      <td>2020</td>\n",
       "      <td>28</td>\n",
       "      <td>Jeddah</td>\n",
       "      <td>Makkah Al Mukarramah</td>\n",
       "      <td>Recoveries</td>\n",
       "      <td>No event</td>\n",
       "    </tr>\n",
       "    <tr>\n",
       "      <th>...</th>\n",
       "      <td>...</td>\n",
       "      <td>...</td>\n",
       "      <td>...</td>\n",
       "      <td>...</td>\n",
       "      <td>...</td>\n",
       "      <td>...</td>\n",
       "      <td>...</td>\n",
       "      <td>...</td>\n",
       "      <td>...</td>\n",
       "    </tr>\n",
       "    <tr>\n",
       "      <th>423322</th>\n",
       "      <td>Saturday</td>\n",
       "      <td>15</td>\n",
       "      <td>5</td>\n",
       "      <td>2021</td>\n",
       "      <td>1</td>\n",
       "      <td>Al Madinah Al Munawwarah</td>\n",
       "      <td>Al Madinah Al Munawwarah</td>\n",
       "      <td>Mortalities</td>\n",
       "      <td>No event</td>\n",
       "    </tr>\n",
       "    <tr>\n",
       "      <th>423323</th>\n",
       "      <td>Sunday</td>\n",
       "      <td>16</td>\n",
       "      <td>5</td>\n",
       "      <td>2021</td>\n",
       "      <td>1</td>\n",
       "      <td>Khamis Mushayt</td>\n",
       "      <td>Aseer</td>\n",
       "      <td>Mortalities</td>\n",
       "      <td>No event</td>\n",
       "    </tr>\n",
       "    <tr>\n",
       "      <th>423324</th>\n",
       "      <td>Sunday</td>\n",
       "      <td>16</td>\n",
       "      <td>5</td>\n",
       "      <td>2021</td>\n",
       "      <td>1</td>\n",
       "      <td>Jeddah</td>\n",
       "      <td>Makkah Al Mukarramah</td>\n",
       "      <td>Mortalities</td>\n",
       "      <td>No event</td>\n",
       "    </tr>\n",
       "    <tr>\n",
       "      <th>423325</th>\n",
       "      <td>Sunday</td>\n",
       "      <td>16</td>\n",
       "      <td>5</td>\n",
       "      <td>2021</td>\n",
       "      <td>1</td>\n",
       "      <td>Al Qunfudhah</td>\n",
       "      <td>Makkah Al Mukarramah</td>\n",
       "      <td>Mortalities</td>\n",
       "      <td>No event</td>\n",
       "    </tr>\n",
       "    <tr>\n",
       "      <th>423326</th>\n",
       "      <td>Monday</td>\n",
       "      <td>17</td>\n",
       "      <td>5</td>\n",
       "      <td>2021</td>\n",
       "      <td>1</td>\n",
       "      <td>Jazan</td>\n",
       "      <td>Jazan</td>\n",
       "      <td>Mortalities</td>\n",
       "      <td>No event</td>\n",
       "    </tr>\n",
       "  </tbody>\n",
       "</table>\n",
       "<p>48292 rows × 9 columns</p>\n",
       "</div>"
      ],
      "text/plain": [
       "        Day_name  Day  Month  Year  Cases                      City  \\\n",
       "25397     Friday   27      3  2020      2                  Ar Riyad   \n",
       "25398   Saturday   28      3  2020      2                  Ar Riyad   \n",
       "25399     Sunday   29      3  2020     25      Makkah Al Mukarramah   \n",
       "25400    Tuesday   31      3  2020      1                  Al Qatif   \n",
       "25401    Tuesday   31      3  2020     28                    Jeddah   \n",
       "...          ...  ...    ...   ...    ...                       ...   \n",
       "423322  Saturday   15      5  2021      1  Al Madinah Al Munawwarah   \n",
       "423323    Sunday   16      5  2021      1            Khamis Mushayt   \n",
       "423324    Sunday   16      5  2021      1                    Jeddah   \n",
       "423325    Sunday   16      5  2021      1              Al Qunfudhah   \n",
       "423326    Monday   17      5  2021      1                     Jazan   \n",
       "\n",
       "                          Region    Indicator            Event  \n",
       "25397                   Ar Riyad   Recoveries         No event  \n",
       "25398                   Ar Riyad   Recoveries         No event  \n",
       "25399       Makkah Al Mukarramah   Recoveries  Jeddah lockdown  \n",
       "25400             Eastern Region   Recoveries         No event  \n",
       "25401       Makkah Al Mukarramah   Recoveries         No event  \n",
       "...                          ...          ...              ...  \n",
       "423322  Al Madinah Al Munawwarah  Mortalities         No event  \n",
       "423323                     Aseer  Mortalities         No event  \n",
       "423324      Makkah Al Mukarramah  Mortalities         No event  \n",
       "423325      Makkah Al Mukarramah  Mortalities         No event  \n",
       "423326                     Jazan  Mortalities         No event  \n",
       "\n",
       "[48292 rows x 9 columns]"
      ]
     },
     "execution_count": 47,
     "metadata": {},
     "output_type": "execute_result"
    }
   ],
   "source": [
    "df1"
   ]
  },
  {
   "cell_type": "markdown",
   "id": "86b8e717",
   "metadata": {},
   "source": [
    "### d. Features Analysis\n"
   ]
  },
  {
   "cell_type": "code",
   "execution_count": 471,
   "id": "c540fd35",
   "metadata": {},
   "outputs": [
    {
     "data": {
      "image/png": "[encoded data removed]",
      "text/plain": [
       "<Figure size 432x288 with 1 Axes>"
      ]
     },
     "metadata": {},
     "output_type": "display_data"
    }
   ],
   "source": [
    "#Cases per year\n",
    "sns.barplot(x=\"Year\", y=\"Cases\", data=df1,  palette=\"Blues_d\")\n",
    "plt.show()"
   ]
  },
  {
   "cell_type": "markdown",
   "id": "5f527ba4",
   "metadata": {},
   "source": [
    "NOTE: <br>\n",
    "Cases in 2021 are less than they were in 2020"
   ]
  },
  {
   "cell_type": "code",
   "execution_count": 472,
   "id": "95b15f66",
   "metadata": {},
   "outputs": [
    {
     "data": {
      "image/png": "[encoded data removed]",
      "text/plain": [
       "<Figure size 432x288 with 1 Axes>"
      ]
     },
     "metadata": {},
     "output_type": "display_data"
    }
   ],
   "source": [
    "#Cases per indicator\n",
    "sns.barplot(x=\"Indicator\", y=\"Cases\", data=df1,  palette=\"Blues_d\")\n",
    "plt.show()"
   ]
  },
  {
   "cell_type": "markdown",
   "id": "5101cbfe",
   "metadata": {},
   "source": [
    "NOTE: <br>\n",
    "Realistically, the mortalitaies cases less than recovery cases."
   ]
  },
  {
   "cell_type": "code",
   "execution_count": null,
   "id": "8f83c731",
   "metadata": {},
   "outputs": [],
   "source": [
    "#PLOT Day & Cases\n",
    "\n",
    "new_x = df1.Day_name\n",
    "new_y = df1.Cases\n",
    "\n",
    "plt.bar(new_x,new_y)\n",
    "plt.xlabel('Day')\n",
    "plt.ylabel('Cases Counts')\n",
    "plt.title('Cases per Day', size = 15);"
   ]
  },
  {
   "cell_type": "markdown",
   "id": "6e3e56d3",
   "metadata": {},
   "source": [
    "NOTE : <br>\n",
    "The interpretation for this may be due to the increasing number of meetings at the end of the week.  According to the ministry of health studies, the symptoms of the injured do not appear until after four days"
   ]
  },
  {
   "cell_type": "code",
   "execution_count": 108,
   "id": "bce2b1c7",
   "metadata": {},
   "outputs": [
    {
     "data": {
      "image/png": "[encoded data removed]",
      "text/plain": [
       "<Figure size 1440x144 with 1 Axes>"
      ]
     },
     "metadata": {
      "needs_background": "light"
     },
     "output_type": "display_data"
    }
   ],
   "source": [
    "#Cases per region\n",
    "\n",
    "plt.figure(figsize = [20,2])\n",
    "sns.barplot(x=df1['Region'], y=\"Cases\", data=df1,  palette=\"Blues_d\")\n",
    "plt. savefig(\"output.png\")\n",
    "plt.show()"
   ]
  },
  {
   "cell_type": "markdown",
   "id": "fb91d38b",
   "metadata": {},
   "source": [
    "NOTE: <br>\n",
    "As shown,Makkah have the most maximum average cases during the two years, then Riyadh, Eeastern, Madinah respectively."
   ]
  },
  {
   "cell_type": "code",
   "execution_count": 105,
   "id": "ecea1863",
   "metadata": {},
   "outputs": [
    {
     "data": {
      "image/png": "[encoded data removed]",
      "text/plain": [
       "<Figure size 360x4320 with 1 Axes>"
      ]
     },
     "metadata": {
      "needs_background": "light"
     },
     "output_type": "display_data"
    }
   ],
   "source": [
    "#PLOT average cases per city\n",
    "cases_per_city = df1.groupby(['City'], sort=False)['Cases'].mean().sort_values()\n",
    "#cases_per_city\n",
    "plt.figure(figsize = [5,60])\n",
    "\n",
    "cases_per_city.plot(kind = 'barh')\n",
    "plt.xlabel('Counts')\n",
    "plt.ylabel('City')\n",
    "plt.title('Cases per City', size = 15);\n",
    "plt. savefig(\"output.png\")\n"
   ]
  },
  {
   "cell_type": "code",
   "execution_count": 411,
   "id": "1b33ee9c",
   "metadata": {},
   "outputs": [],
   "source": [
    "cases_per_city.plot?"
   ]
  },
  {
   "cell_type": "markdown",
   "id": "951ebfa6",
   "metadata": {},
   "source": [
    "NOTe: <br>\n",
    "It is noted that in the big cities, cases are increasing, this may be due to the increase in the population, or perhaps the increase in awareness and keenness to go and conduct tests"
   ]
  },
  {
   "cell_type": "code",
   "execution_count": 387,
   "id": "1e6b5a93",
   "metadata": {},
   "outputs": [
    {
     "data": {
      "image/png": "[encoded data removed]",
      "text/plain": [
       "<Figure size 720x360 with 1 Axes>"
      ]
     },
     "metadata": {},
     "output_type": "display_data"
    }
   ],
   "source": [
    "# PLOT cases_per_month\n",
    "cases_per_month = df1.groupby(['Month'], sort=True)['Cases'].sum()\n",
    "plt.figure(figsize = [10,5])\n",
    "cases_per_month.plot(kind = 'bar')\n",
    "plt.xlabel('Months')\n",
    "plt.ylabel('Counts')\n",
    "plt.title('Cases per month', size = 15);"
   ]
  },
  {
   "cell_type": "code",
   "execution_count": 385,
   "id": "234089e9",
   "metadata": {},
   "outputs": [
    {
     "data": {
      "image/png": "[encoded data removed]",
      "text/plain": [
       "<Figure size 432x288 with 1 Axes>"
      ]
     },
     "metadata": {},
     "output_type": "display_data"
    }
   ],
   "source": [
    "sns.scatterplot(data=df1, x=\"Month\", y=\"Cases\")\n",
    "plt.show()"
   ]
  },
  {
   "cell_type": "markdown",
   "id": "87bf057c",
   "metadata": {},
   "source": [
    "NOTE: <br>\n",
    "It is noticeable that during the holiday, the cases increase"
   ]
  },
  {
   "cell_type": "code",
   "execution_count": 386,
   "id": "905d3a5b",
   "metadata": {},
   "outputs": [
    {
     "data": {
      "image/png": "[encoded data removed]",
      "text/plain": [
       "<Figure size 432x288 with 1 Axes>"
      ]
     },
     "metadata": {},
     "output_type": "display_data"
    }
   ],
   "source": [
    "sns.kdeplot(df1['Cases'])\n",
    "plt.show()"
   ]
  },
  {
   "cell_type": "code",
   "execution_count": 388,
   "id": "d0db295a",
   "metadata": {},
   "outputs": [
    {
     "name": "stdout",
     "output_type": "stream",
     "text": [
      "count    48292.000000\n",
      "mean        11.285555\n",
      "std         47.794051\n",
      "min          1.000000\n",
      "25%          1.000000\n",
      "50%          2.000000\n",
      "75%          6.000000\n",
      "max       3165.000000\n",
      "Name: Cases, dtype: float64\n"
     ]
    }
   ],
   "source": [
    "print(df1['Cases'].describe())"
   ]
  },
  {
   "cell_type": "code",
   "execution_count": 48,
   "id": "2c21e020",
   "metadata": {},
   "outputs": [
    {
     "data": {
      "text/html": [
       "<div>\n",
       "<style scoped>\n",
       "    .dataframe tbody tr th:only-of-type {\n",
       "        vertical-align: middle;\n",
       "    }\n",
       "\n",
       "    .dataframe tbody tr th {\n",
       "        vertical-align: top;\n",
       "    }\n",
       "\n",
       "    .dataframe thead th {\n",
       "        text-align: right;\n",
       "    }\n",
       "</style>\n",
       "<table border=\"1\" class=\"dataframe\">\n",
       "  <thead>\n",
       "    <tr style=\"text-align: right;\">\n",
       "      <th></th>\n",
       "      <th>Day_name</th>\n",
       "      <th>Day</th>\n",
       "      <th>Month</th>\n",
       "      <th>Year</th>\n",
       "      <th>Cases</th>\n",
       "      <th>City</th>\n",
       "      <th>Region</th>\n",
       "      <th>Indicator</th>\n",
       "      <th>Event</th>\n",
       "    </tr>\n",
       "  </thead>\n",
       "  <tbody>\n",
       "    <tr>\n",
       "      <th>50495</th>\n",
       "      <td>Sunday</td>\n",
       "      <td>19</td>\n",
       "      <td>7</td>\n",
       "      <td>2020</td>\n",
       "      <td>1676</td>\n",
       "      <td>Ar Riyad</td>\n",
       "      <td>Ar Riyad</td>\n",
       "      <td>Recoveries</td>\n",
       "      <td>No event</td>\n",
       "    </tr>\n",
       "    <tr>\n",
       "      <th>148510</th>\n",
       "      <td>Sunday</td>\n",
       "      <td>14</td>\n",
       "      <td>6</td>\n",
       "      <td>2020</td>\n",
       "      <td>1977</td>\n",
       "      <td>Ar Riyad</td>\n",
       "      <td>Ar Riyad</td>\n",
       "      <td>Recoveries</td>\n",
       "      <td>No event</td>\n",
       "    </tr>\n",
       "    <tr>\n",
       "      <th>391683</th>\n",
       "      <td>Wednesday</td>\n",
       "      <td>24</td>\n",
       "      <td>6</td>\n",
       "      <td>2020</td>\n",
       "      <td>3165</td>\n",
       "      <td>Ar Riyad</td>\n",
       "      <td>Ar Riyad</td>\n",
       "      <td>Recoveries</td>\n",
       "      <td>No event</td>\n",
       "    </tr>\n",
       "  </tbody>\n",
       "</table>\n",
       "</div>"
      ],
      "text/plain": [
       "         Day_name  Day  Month  Year  Cases      City    Region   Indicator  \\\n",
       "50495      Sunday   19      7  2020   1676  Ar Riyad  Ar Riyad  Recoveries   \n",
       "148510     Sunday   14      6  2020   1977  Ar Riyad  Ar Riyad  Recoveries   \n",
       "391683  Wednesday   24      6  2020   3165  Ar Riyad  Ar Riyad  Recoveries   \n",
       "\n",
       "           Event  \n",
       "50495   No event  \n",
       "148510  No event  \n",
       "391683  No event  "
      ]
     },
     "execution_count": 48,
     "metadata": {},
     "output_type": "execute_result"
    }
   ],
   "source": [
    "select_r = df1.loc[df1['Cases'] >= 1600]\n",
    "select_r"
   ]
  },
  {
   "cell_type": "markdown",
   "id": "9c55256f",
   "metadata": {},
   "source": [
    "## 3. Train Model on Data\n",
    "- Data Encoading\n",
    "- Data Splitting (Training/Testing)\n",
    "- Model Building"
   ]
  },
  {
   "cell_type": "code",
   "execution_count": 49,
   "id": "9b2e0556",
   "metadata": {},
   "outputs": [],
   "source": [
    "from sklearn.model_selection import train_test_split\n",
    "from sklearn.linear_model import LinearRegression, Ridge #ordinary linear regression + w/ ridge regularization\n",
    "from sklearn.preprocessing import StandardScaler, PolynomialFeatures\n",
    "from sklearn.neighbors import KNeighborsClassifier\n",
    "from sklearn.linear_model import LogisticRegression\n",
    "from sklearn.model_selection import train_test_split\n",
    "from sklearn.metrics import precision_score, recall_score, precision_recall_curve,f1_score, fbeta_score, r2_score, mean_squared_error"
   ]
  },
  {
   "cell_type": "markdown",
   "id": "124e6134",
   "metadata": {},
   "source": [
    "### a. Data Encoading"
   ]
  },
  {
   "cell_type": "markdown",
   "id": "1a75147b",
   "metadata": {},
   "source": [
    "* Feature variable (input): Date, City, event ...\n",
    "* Target variable (Output): Cases"
   ]
  },
  {
   "cell_type": "code",
   "execution_count": 50,
   "id": "10cef839",
   "metadata": {},
   "outputs": [
    {
     "data": {
      "text/html": [
       "<div>\n",
       "<style scoped>\n",
       "    .dataframe tbody tr th:only-of-type {\n",
       "        vertical-align: middle;\n",
       "    }\n",
       "\n",
       "    .dataframe tbody tr th {\n",
       "        vertical-align: top;\n",
       "    }\n",
       "\n",
       "    .dataframe thead th {\n",
       "        text-align: right;\n",
       "    }\n",
       "</style>\n",
       "<table border=\"1\" class=\"dataframe\">\n",
       "  <thead>\n",
       "    <tr style=\"text-align: right;\">\n",
       "      <th></th>\n",
       "      <th>Day_name</th>\n",
       "      <th>Day</th>\n",
       "      <th>Month</th>\n",
       "      <th>Year</th>\n",
       "      <th>Cases</th>\n",
       "      <th>City</th>\n",
       "      <th>Region</th>\n",
       "      <th>Indicator</th>\n",
       "      <th>Event</th>\n",
       "    </tr>\n",
       "  </thead>\n",
       "  <tbody>\n",
       "    <tr>\n",
       "      <th>25397</th>\n",
       "      <td>Friday</td>\n",
       "      <td>27</td>\n",
       "      <td>3</td>\n",
       "      <td>2020</td>\n",
       "      <td>2</td>\n",
       "      <td>Ar Riyad</td>\n",
       "      <td>Ar Riyad</td>\n",
       "      <td>Recoveries</td>\n",
       "      <td>No event</td>\n",
       "    </tr>\n",
       "    <tr>\n",
       "      <th>25398</th>\n",
       "      <td>Saturday</td>\n",
       "      <td>28</td>\n",
       "      <td>3</td>\n",
       "      <td>2020</td>\n",
       "      <td>2</td>\n",
       "      <td>Ar Riyad</td>\n",
       "      <td>Ar Riyad</td>\n",
       "      <td>Recoveries</td>\n",
       "      <td>No event</td>\n",
       "    </tr>\n",
       "    <tr>\n",
       "      <th>25399</th>\n",
       "      <td>Sunday</td>\n",
       "      <td>29</td>\n",
       "      <td>3</td>\n",
       "      <td>2020</td>\n",
       "      <td>25</td>\n",
       "      <td>Makkah Al Mukarramah</td>\n",
       "      <td>Makkah Al Mukarramah</td>\n",
       "      <td>Recoveries</td>\n",
       "      <td>Jeddah lockdown</td>\n",
       "    </tr>\n",
       "    <tr>\n",
       "      <th>25400</th>\n",
       "      <td>Tuesday</td>\n",
       "      <td>31</td>\n",
       "      <td>3</td>\n",
       "      <td>2020</td>\n",
       "      <td>1</td>\n",
       "      <td>Al Qatif</td>\n",
       "      <td>Eastern Region</td>\n",
       "      <td>Recoveries</td>\n",
       "      <td>No event</td>\n",
       "    </tr>\n",
       "    <tr>\n",
       "      <th>25401</th>\n",
       "      <td>Tuesday</td>\n",
       "      <td>31</td>\n",
       "      <td>3</td>\n",
       "      <td>2020</td>\n",
       "      <td>28</td>\n",
       "      <td>Jeddah</td>\n",
       "      <td>Makkah Al Mukarramah</td>\n",
       "      <td>Recoveries</td>\n",
       "      <td>No event</td>\n",
       "    </tr>\n",
       "    <tr>\n",
       "      <th>...</th>\n",
       "      <td>...</td>\n",
       "      <td>...</td>\n",
       "      <td>...</td>\n",
       "      <td>...</td>\n",
       "      <td>...</td>\n",
       "      <td>...</td>\n",
       "      <td>...</td>\n",
       "      <td>...</td>\n",
       "      <td>...</td>\n",
       "    </tr>\n",
       "    <tr>\n",
       "      <th>423322</th>\n",
       "      <td>Saturday</td>\n",
       "      <td>15</td>\n",
       "      <td>5</td>\n",
       "      <td>2021</td>\n",
       "      <td>1</td>\n",
       "      <td>Al Madinah Al Munawwarah</td>\n",
       "      <td>Al Madinah Al Munawwarah</td>\n",
       "      <td>Mortalities</td>\n",
       "      <td>No event</td>\n",
       "    </tr>\n",
       "    <tr>\n",
       "      <th>423323</th>\n",
       "      <td>Sunday</td>\n",
       "      <td>16</td>\n",
       "      <td>5</td>\n",
       "      <td>2021</td>\n",
       "      <td>1</td>\n",
       "      <td>Khamis Mushayt</td>\n",
       "      <td>Aseer</td>\n",
       "      <td>Mortalities</td>\n",
       "      <td>No event</td>\n",
       "    </tr>\n",
       "    <tr>\n",
       "      <th>423324</th>\n",
       "      <td>Sunday</td>\n",
       "      <td>16</td>\n",
       "      <td>5</td>\n",
       "      <td>2021</td>\n",
       "      <td>1</td>\n",
       "      <td>Jeddah</td>\n",
       "      <td>Makkah Al Mukarramah</td>\n",
       "      <td>Mortalities</td>\n",
       "      <td>No event</td>\n",
       "    </tr>\n",
       "    <tr>\n",
       "      <th>423325</th>\n",
       "      <td>Sunday</td>\n",
       "      <td>16</td>\n",
       "      <td>5</td>\n",
       "      <td>2021</td>\n",
       "      <td>1</td>\n",
       "      <td>Al Qunfudhah</td>\n",
       "      <td>Makkah Al Mukarramah</td>\n",
       "      <td>Mortalities</td>\n",
       "      <td>No event</td>\n",
       "    </tr>\n",
       "    <tr>\n",
       "      <th>423326</th>\n",
       "      <td>Monday</td>\n",
       "      <td>17</td>\n",
       "      <td>5</td>\n",
       "      <td>2021</td>\n",
       "      <td>1</td>\n",
       "      <td>Jazan</td>\n",
       "      <td>Jazan</td>\n",
       "      <td>Mortalities</td>\n",
       "      <td>No event</td>\n",
       "    </tr>\n",
       "  </tbody>\n",
       "</table>\n",
       "<p>48292 rows × 9 columns</p>\n",
       "</div>"
      ],
      "text/plain": [
       "        Day_name  Day  Month  Year  Cases                      City  \\\n",
       "25397     Friday   27      3  2020      2                  Ar Riyad   \n",
       "25398   Saturday   28      3  2020      2                  Ar Riyad   \n",
       "25399     Sunday   29      3  2020     25      Makkah Al Mukarramah   \n",
       "25400    Tuesday   31      3  2020      1                  Al Qatif   \n",
       "25401    Tuesday   31      3  2020     28                    Jeddah   \n",
       "...          ...  ...    ...   ...    ...                       ...   \n",
       "423322  Saturday   15      5  2021      1  Al Madinah Al Munawwarah   \n",
       "423323    Sunday   16      5  2021      1            Khamis Mushayt   \n",
       "423324    Sunday   16      5  2021      1                    Jeddah   \n",
       "423325    Sunday   16      5  2021      1              Al Qunfudhah   \n",
       "423326    Monday   17      5  2021      1                     Jazan   \n",
       "\n",
       "                          Region    Indicator            Event  \n",
       "25397                   Ar Riyad   Recoveries         No event  \n",
       "25398                   Ar Riyad   Recoveries         No event  \n",
       "25399       Makkah Al Mukarramah   Recoveries  Jeddah lockdown  \n",
       "25400             Eastern Region   Recoveries         No event  \n",
       "25401       Makkah Al Mukarramah   Recoveries         No event  \n",
       "...                          ...          ...              ...  \n",
       "423322  Al Madinah Al Munawwarah  Mortalities         No event  \n",
       "423323                     Aseer  Mortalities         No event  \n",
       "423324      Makkah Al Mukarramah  Mortalities         No event  \n",
       "423325      Makkah Al Mukarramah  Mortalities         No event  \n",
       "423326                     Jazan  Mortalities         No event  \n",
       "\n",
       "[48292 rows x 9 columns]"
      ]
     },
     "execution_count": 50,
     "metadata": {},
     "output_type": "execute_result"
    }
   ],
   "source": [
    "test_df_dailey = df1\n",
    "test_df_dailey"
   ]
  },
  {
   "cell_type": "code",
   "execution_count": 51,
   "id": "27d2fa18",
   "metadata": {},
   "outputs": [
    {
     "data": {
      "text/html": [
       "<div>\n",
       "<style scoped>\n",
       "    .dataframe tbody tr th:only-of-type {\n",
       "        vertical-align: middle;\n",
       "    }\n",
       "\n",
       "    .dataframe tbody tr th {\n",
       "        vertical-align: top;\n",
       "    }\n",
       "\n",
       "    .dataframe thead th {\n",
       "        text-align: right;\n",
       "    }\n",
       "</style>\n",
       "<table border=\"1\" class=\"dataframe\">\n",
       "  <thead>\n",
       "    <tr style=\"text-align: right;\">\n",
       "      <th></th>\n",
       "      <th>Day</th>\n",
       "      <th>Month</th>\n",
       "      <th>Year</th>\n",
       "      <th>Cases</th>\n",
       "      <th>Al Bahah</th>\n",
       "      <th>Al Jawf</th>\n",
       "      <th>Al Madinah Al Munawwarah</th>\n",
       "      <th>Al Qaseem</th>\n",
       "      <th>Ar Riyad</th>\n",
       "      <th>Aseer</th>\n",
       "      <th>Eastern Region</th>\n",
       "      <th>Hail</th>\n",
       "      <th>Jazan</th>\n",
       "      <th>Makkah Al Mukarramah</th>\n",
       "      <th>Najran</th>\n",
       "      <th>Northern Borders</th>\n",
       "      <th>Tabuk</th>\n",
       "    </tr>\n",
       "  </thead>\n",
       "  <tbody>\n",
       "    <tr>\n",
       "      <th>25397</th>\n",
       "      <td>27</td>\n",
       "      <td>3</td>\n",
       "      <td>2020</td>\n",
       "      <td>2</td>\n",
       "      <td>0</td>\n",
       "      <td>0</td>\n",
       "      <td>0</td>\n",
       "      <td>0</td>\n",
       "      <td>1</td>\n",
       "      <td>0</td>\n",
       "      <td>0</td>\n",
       "      <td>0</td>\n",
       "      <td>0</td>\n",
       "      <td>0</td>\n",
       "      <td>0</td>\n",
       "      <td>0</td>\n",
       "      <td>0</td>\n",
       "    </tr>\n",
       "    <tr>\n",
       "      <th>25398</th>\n",
       "      <td>28</td>\n",
       "      <td>3</td>\n",
       "      <td>2020</td>\n",
       "      <td>2</td>\n",
       "      <td>0</td>\n",
       "      <td>0</td>\n",
       "      <td>0</td>\n",
       "      <td>0</td>\n",
       "      <td>1</td>\n",
       "      <td>0</td>\n",
       "      <td>0</td>\n",
       "      <td>0</td>\n",
       "      <td>0</td>\n",
       "      <td>0</td>\n",
       "      <td>0</td>\n",
       "      <td>0</td>\n",
       "      <td>0</td>\n",
       "    </tr>\n",
       "    <tr>\n",
       "      <th>25399</th>\n",
       "      <td>29</td>\n",
       "      <td>3</td>\n",
       "      <td>2020</td>\n",
       "      <td>25</td>\n",
       "      <td>0</td>\n",
       "      <td>0</td>\n",
       "      <td>0</td>\n",
       "      <td>0</td>\n",
       "      <td>0</td>\n",
       "      <td>0</td>\n",
       "      <td>0</td>\n",
       "      <td>0</td>\n",
       "      <td>0</td>\n",
       "      <td>1</td>\n",
       "      <td>0</td>\n",
       "      <td>0</td>\n",
       "      <td>0</td>\n",
       "    </tr>\n",
       "    <tr>\n",
       "      <th>25400</th>\n",
       "      <td>31</td>\n",
       "      <td>3</td>\n",
       "      <td>2020</td>\n",
       "      <td>1</td>\n",
       "      <td>0</td>\n",
       "      <td>0</td>\n",
       "      <td>0</td>\n",
       "      <td>0</td>\n",
       "      <td>0</td>\n",
       "      <td>0</td>\n",
       "      <td>1</td>\n",
       "      <td>0</td>\n",
       "      <td>0</td>\n",
       "      <td>0</td>\n",
       "      <td>0</td>\n",
       "      <td>0</td>\n",
       "      <td>0</td>\n",
       "    </tr>\n",
       "    <tr>\n",
       "      <th>25401</th>\n",
       "      <td>31</td>\n",
       "      <td>3</td>\n",
       "      <td>2020</td>\n",
       "      <td>28</td>\n",
       "      <td>0</td>\n",
       "      <td>0</td>\n",
       "      <td>0</td>\n",
       "      <td>0</td>\n",
       "      <td>0</td>\n",
       "      <td>0</td>\n",
       "      <td>0</td>\n",
       "      <td>0</td>\n",
       "      <td>0</td>\n",
       "      <td>1</td>\n",
       "      <td>0</td>\n",
       "      <td>0</td>\n",
       "      <td>0</td>\n",
       "    </tr>\n",
       "    <tr>\n",
       "      <th>...</th>\n",
       "      <td>...</td>\n",
       "      <td>...</td>\n",
       "      <td>...</td>\n",
       "      <td>...</td>\n",
       "      <td>...</td>\n",
       "      <td>...</td>\n",
       "      <td>...</td>\n",
       "      <td>...</td>\n",
       "      <td>...</td>\n",
       "      <td>...</td>\n",
       "      <td>...</td>\n",
       "      <td>...</td>\n",
       "      <td>...</td>\n",
       "      <td>...</td>\n",
       "      <td>...</td>\n",
       "      <td>...</td>\n",
       "      <td>...</td>\n",
       "    </tr>\n",
       "    <tr>\n",
       "      <th>423322</th>\n",
       "      <td>15</td>\n",
       "      <td>5</td>\n",
       "      <td>2021</td>\n",
       "      <td>1</td>\n",
       "      <td>0</td>\n",
       "      <td>0</td>\n",
       "      <td>1</td>\n",
       "      <td>0</td>\n",
       "      <td>0</td>\n",
       "      <td>0</td>\n",
       "      <td>0</td>\n",
       "      <td>0</td>\n",
       "      <td>0</td>\n",
       "      <td>0</td>\n",
       "      <td>0</td>\n",
       "      <td>0</td>\n",
       "      <td>0</td>\n",
       "    </tr>\n",
       "    <tr>\n",
       "      <th>423323</th>\n",
       "      <td>16</td>\n",
       "      <td>5</td>\n",
       "      <td>2021</td>\n",
       "      <td>1</td>\n",
       "      <td>0</td>\n",
       "      <td>0</td>\n",
       "      <td>0</td>\n",
       "      <td>0</td>\n",
       "      <td>0</td>\n",
       "      <td>1</td>\n",
       "      <td>0</td>\n",
       "      <td>0</td>\n",
       "      <td>0</td>\n",
       "      <td>0</td>\n",
       "      <td>0</td>\n",
       "      <td>0</td>\n",
       "      <td>0</td>\n",
       "    </tr>\n",
       "    <tr>\n",
       "      <th>423324</th>\n",
       "      <td>16</td>\n",
       "      <td>5</td>\n",
       "      <td>2021</td>\n",
       "      <td>1</td>\n",
       "      <td>0</td>\n",
       "      <td>0</td>\n",
       "      <td>0</td>\n",
       "      <td>0</td>\n",
       "      <td>0</td>\n",
       "      <td>0</td>\n",
       "      <td>0</td>\n",
       "      <td>0</td>\n",
       "      <td>0</td>\n",
       "      <td>1</td>\n",
       "      <td>0</td>\n",
       "      <td>0</td>\n",
       "      <td>0</td>\n",
       "    </tr>\n",
       "    <tr>\n",
       "      <th>423325</th>\n",
       "      <td>16</td>\n",
       "      <td>5</td>\n",
       "      <td>2021</td>\n",
       "      <td>1</td>\n",
       "      <td>0</td>\n",
       "      <td>0</td>\n",
       "      <td>0</td>\n",
       "      <td>0</td>\n",
       "      <td>0</td>\n",
       "      <td>0</td>\n",
       "      <td>0</td>\n",
       "      <td>0</td>\n",
       "      <td>0</td>\n",
       "      <td>1</td>\n",
       "      <td>0</td>\n",
       "      <td>0</td>\n",
       "      <td>0</td>\n",
       "    </tr>\n",
       "    <tr>\n",
       "      <th>423326</th>\n",
       "      <td>17</td>\n",
       "      <td>5</td>\n",
       "      <td>2021</td>\n",
       "      <td>1</td>\n",
       "      <td>0</td>\n",
       "      <td>0</td>\n",
       "      <td>0</td>\n",
       "      <td>0</td>\n",
       "      <td>0</td>\n",
       "      <td>0</td>\n",
       "      <td>0</td>\n",
       "      <td>0</td>\n",
       "      <td>1</td>\n",
       "      <td>0</td>\n",
       "      <td>0</td>\n",
       "      <td>0</td>\n",
       "      <td>0</td>\n",
       "    </tr>\n",
       "  </tbody>\n",
       "</table>\n",
       "<p>48292 rows × 17 columns</p>\n",
       "</div>"
      ],
      "text/plain": [
       "        Day  Month  Year  Cases  Al Bahah  Al Jawf  Al Madinah Al Munawwarah  \\\n",
       "25397    27      3  2020      2         0        0                         0   \n",
       "25398    28      3  2020      2         0        0                         0   \n",
       "25399    29      3  2020     25         0        0                         0   \n",
       "25400    31      3  2020      1         0        0                         0   \n",
       "25401    31      3  2020     28         0        0                         0   \n",
       "...     ...    ...   ...    ...       ...      ...                       ...   \n",
       "423322   15      5  2021      1         0        0                         1   \n",
       "423323   16      5  2021      1         0        0                         0   \n",
       "423324   16      5  2021      1         0        0                         0   \n",
       "423325   16      5  2021      1         0        0                         0   \n",
       "423326   17      5  2021      1         0        0                         0   \n",
       "\n",
       "        Al Qaseem  Ar Riyad  Aseer  Eastern Region  Hail  Jazan  \\\n",
       "25397           0         1      0               0     0      0   \n",
       "25398           0         1      0               0     0      0   \n",
       "25399           0         0      0               0     0      0   \n",
       "25400           0         0      0               1     0      0   \n",
       "25401           0         0      0               0     0      0   \n",
       "...           ...       ...    ...             ...   ...    ...   \n",
       "423322          0         0      0               0     0      0   \n",
       "423323          0         0      1               0     0      0   \n",
       "423324          0         0      0               0     0      0   \n",
       "423325          0         0      0               0     0      0   \n",
       "423326          0         0      0               0     0      1   \n",
       "\n",
       "        Makkah Al Mukarramah  Najran  Northern Borders  Tabuk  \n",
       "25397                      0       0                 0      0  \n",
       "25398                      0       0                 0      0  \n",
       "25399                      1       0                 0      0  \n",
       "25400                      0       0                 0      0  \n",
       "25401                      1       0                 0      0  \n",
       "...                      ...     ...               ...    ...  \n",
       "423322                     0       0                 0      0  \n",
       "423323                     0       0                 0      0  \n",
       "423324                     1       0                 0      0  \n",
       "423325                     1       0                 0      0  \n",
       "423326                     0       0                 0      0  \n",
       "\n",
       "[48292 rows x 17 columns]"
      ]
     },
     "execution_count": 51,
     "metadata": {},
     "output_type": "execute_result"
    }
   ],
   "source": [
    "Region_dummies = pd.get_dummies(test_df_dailey.Region)\n",
    "test_merged_df = pd.concat([test_df_dailey,Region_dummies],axis = 'columns')\n",
    "new_test_df_dailey = test_merged_df.drop(['Day_name','City','Region','Event','Indicator'],axis = 'columns')\n",
    "new_test_df_dailey"
   ]
  },
  {
   "cell_type": "code",
   "execution_count": 133,
   "id": "c07b1dda",
   "metadata": {},
   "outputs": [
    {
     "data": {
      "text/plain": [
       "(48292, 225)"
      ]
     },
     "execution_count": 133,
     "metadata": {},
     "output_type": "execute_result"
    }
   ],
   "source": [
    "Region_dummies = pd.get_dummies(test_df_dailey.Region)\n",
    "Indicator_dummies = pd.get_dummies(test_df_dailey.Indicator)\n",
    "City_dummies = pd.get_dummies(test_df_dailey.City)\n",
    "Event_dummies =  pd.get_dummies(df_dailey.Event)\n",
    "Day_dummies = pd.get_dummies(df_dailey.Day_name)\n",
    "test2_merged_df = pd.concat([test_df_dailey,Region_dummies,Indicator_dummies,City_dummies],axis = 'columns')\n",
    "new2_test_df_dailey = test2_merged_df.drop(['Day_name','City','Region','Event','Indicator'],axis = 'columns')\n",
    "new2_test_df_dailey.shape"
   ]
  },
  {
   "cell_type": "code",
   "execution_count": 200,
   "id": "05c8e661",
   "metadata": {},
   "outputs": [],
   "source": [
    "#Indicator_dummies = pd.get_dummies(test_df_dailey.Indicator)\n",
    "#City_dummies = pd.get_dummies(test_df_dailey.City)\n",
    "#Event_dummies =  pd.get_dummies(df_dailey.Event)\n",
    "#Day_dummies = pd.get_dummies(df_dailey.Day_name)"
   ]
  },
  {
   "cell_type": "code",
   "execution_count": 52,
   "id": "e12c0d91",
   "metadata": {},
   "outputs": [
    {
     "data": {
      "text/plain": [
       "(48292, 17)"
      ]
     },
     "execution_count": 52,
     "metadata": {},
     "output_type": "execute_result"
    }
   ],
   "source": [
    "new_test_df_dailey.shape"
   ]
  },
  {
   "cell_type": "code",
   "execution_count": 135,
   "id": "19ce7ea3",
   "metadata": {},
   "outputs": [],
   "source": [
    "X, y = new2_test_df_dailey.drop('Cases',axis=1), new2_test_df_dailey['Cases']\n",
    "\n",
    "# 80% training 20% testing\n",
    "XXX_train, XXX_test, yyy_train, yyy_test= train_test_split(X, y, test_size=.2)"
   ]
  },
  {
   "cell_type": "code",
   "execution_count": 136,
   "id": "5e3e349d",
   "metadata": {},
   "outputs": [
    {
     "name": "stderr",
     "output_type": "stream",
     "text": [
      "/opt/anaconda3/lib/python3.8/site-packages/sklearn/linear_model/_logistic.py:763: ConvergenceWarning: lbfgs failed to converge (status=1):\n",
      "STOP: TOTAL NO. of ITERATIONS REACHED LIMIT.\n",
      "\n",
      "Increase the number of iterations (max_iter) or scale the data as shown in:\n",
      "    https://scikit-learn.org/stable/modules/preprocessing.html\n",
      "Please also refer to the documentation for alternative solver options:\n",
      "    https://scikit-learn.org/stable/modules/linear_model.html#logistic-regression\n",
      "  n_iter_i = _check_optimize_result(\n"
     ]
    },
    {
     "data": {
      "text/plain": [
       "0.3679469924422818"
      ]
     },
     "execution_count": 136,
     "metadata": {},
     "output_type": "execute_result"
    }
   ],
   "source": [
    "model4 = LogisticRegression()\n",
    "model4.fit(XXX_train, yyy_train)\n",
    "model4.score(XXX_test,yyy_test)"
   ]
  },
  {
   "cell_type": "code",
   "execution_count": 137,
   "id": "a0d48697",
   "metadata": {},
   "outputs": [
    {
     "data": {
      "text/plain": [
       "0.3051040480380992"
      ]
     },
     "execution_count": 137,
     "metadata": {},
     "output_type": "execute_result"
    }
   ],
   "source": [
    "model4 = RandomForestClassifier()\n",
    "model4.fit(XXX_train, yyy_train)\n",
    "model4.score(XXX_test,yyy_test)"
   ]
  },
  {
   "cell_type": "code",
   "execution_count": 138,
   "id": "6b1c8f1a",
   "metadata": {},
   "outputs": [
    {
     "data": {
      "text/plain": [
       "0.3046899264934258"
      ]
     },
     "execution_count": 138,
     "metadata": {},
     "output_type": "execute_result"
    }
   ],
   "source": [
    "pipe3 = make_pipeline(StandardScaler(), RandomForestClassifier())\n",
    "pipe3.fit(XXX_train, yyy_train)\n",
    "pipe3.score(XXX_test, yyy_test)"
   ]
  },
  {
   "cell_type": "code",
   "execution_count": 139,
   "id": "3bf2390b",
   "metadata": {},
   "outputs": [
    {
     "name": "stderr",
     "output_type": "stream",
     "text": [
      "/opt/anaconda3/lib/python3.8/site-packages/sklearn/linear_model/_logistic.py:763: ConvergenceWarning: lbfgs failed to converge (status=1):\n",
      "STOP: TOTAL NO. of ITERATIONS REACHED LIMIT.\n",
      "\n",
      "Increase the number of iterations (max_iter) or scale the data as shown in:\n",
      "    https://scikit-learn.org/stable/modules/preprocessing.html\n",
      "Please also refer to the documentation for alternative solver options:\n",
      "    https://scikit-learn.org/stable/modules/linear_model.html#logistic-regression\n",
      "  n_iter_i = _check_optimize_result(\n"
     ]
    },
    {
     "data": {
      "text/plain": [
       "0.36266694274769645"
      ]
     },
     "execution_count": 139,
     "metadata": {},
     "output_type": "execute_result"
    }
   ],
   "source": [
    "pipe3 = make_pipeline(StandardScaler(), LogisticRegression())\n",
    "pipe3.fit(XXX_train, yyy_train)\n",
    "pipe3.score(XXX_test, yyy_test)"
   ]
  },
  {
   "cell_type": "markdown",
   "id": "4cc7d7cf",
   "metadata": {},
   "source": [
    "### b. Data Splitting (Training/Testing)"
   ]
  },
  {
   "cell_type": "code",
   "execution_count": 53,
   "id": "7c3dc4f5",
   "metadata": {},
   "outputs": [],
   "source": [
    "X, y = new_test_df_dailey.drop('Cases',axis=1), new_test_df_dailey['Cases']\n",
    "\n",
    "# 80% training 20% testing\n",
    "X_train, X_test, y_train, y_test= train_test_split(X, y, test_size=.2)"
   ]
  },
  {
   "cell_type": "code",
   "execution_count": 54,
   "id": "b2d2101c",
   "metadata": {},
   "outputs": [
    {
     "name": "stdout",
     "output_type": "stream",
     "text": [
      "All data shape (48292, 9)\n",
      "X_train sape : (38633, 16)\n",
      "y_train sape : (38633,)\n",
      "X_test sape : (9659, 16)\n",
      "y_test sape : (9659,)\n"
     ]
    }
   ],
   "source": [
    "print ('All data shape' ,df_dailey.shape )\n",
    "print ('X_train sape :' ,X_train.shape )\n",
    "print ('y_train sape :' ,y_train.shape )\n",
    "print ('X_test sape :' ,X_test.shape )\n",
    "print ('y_test sape :' ,y_test.shape )"
   ]
  },
  {
   "cell_type": "markdown",
   "id": "9ee400d9",
   "metadata": {},
   "source": [
    "### c. Model Building"
   ]
  },
  {
   "cell_type": "code",
   "execution_count": 55,
   "id": "61cbce44",
   "metadata": {},
   "outputs": [
    {
     "name": "stderr",
     "output_type": "stream",
     "text": [
      "/opt/anaconda3/lib/python3.8/site-packages/sklearn/linear_model/_logistic.py:763: ConvergenceWarning: lbfgs failed to converge (status=1):\n",
      "STOP: TOTAL NO. of ITERATIONS REACHED LIMIT.\n",
      "\n",
      "Increase the number of iterations (max_iter) or scale the data as shown in:\n",
      "    https://scikit-learn.org/stable/modules/preprocessing.html\n",
      "Please also refer to the documentation for alternative solver options:\n",
      "    https://scikit-learn.org/stable/modules/linear_model.html#logistic-regression\n",
      "  n_iter_i = _check_optimize_result(\n"
     ]
    },
    {
     "data": {
      "text/plain": [
       "0.3627704731338648"
      ]
     },
     "execution_count": 55,
     "metadata": {},
     "output_type": "execute_result"
    }
   ],
   "source": [
    "## loGISTIC REGRISSION ##\n",
    "## Before Scaling\n",
    "model3 = LogisticRegression()\n",
    "model3.fit(X_train, y_train)\n",
    "model3.score(X_test,y_test)"
   ]
  },
  {
   "cell_type": "code",
   "execution_count": 62,
   "id": "250f037e",
   "metadata": {},
   "outputs": [
    {
     "data": {
      "text/plain": [
       "0.27808261724816236"
      ]
     },
     "execution_count": 62,
     "metadata": {},
     "output_type": "execute_result"
    }
   ],
   "source": [
    "##  RANDOMFOREST ## \n",
    "## Before Scaling\n",
    "from sklearn.ensemble import RandomForestClassifier\n",
    "model2 = RandomForestClassifier()\n",
    "model2.fit(X_train, y_train)\n",
    "model2.score(X_test,y_test)"
   ]
  },
  {
   "cell_type": "markdown",
   "id": "d01fa347",
   "metadata": {},
   "source": [
    "=================================================================================="
   ]
  },
  {
   "cell_type": "code",
   "execution_count": 66,
   "id": "910fd190",
   "metadata": {},
   "outputs": [
    {
     "name": "stderr",
     "output_type": "stream",
     "text": [
      "/opt/anaconda3/lib/python3.8/site-packages/sklearn/linear_model/_logistic.py:763: ConvergenceWarning: lbfgs failed to converge (status=1):\n",
      "STOP: TOTAL NO. of ITERATIONS REACHED LIMIT.\n",
      "\n",
      "Increase the number of iterations (max_iter) or scale the data as shown in:\n",
      "    https://scikit-learn.org/stable/modules/preprocessing.html\n",
      "Please also refer to the documentation for alternative solver options:\n",
      "    https://scikit-learn.org/stable/modules/linear_model.html#logistic-regression\n",
      "  n_iter_i = _check_optimize_result(\n"
     ]
    },
    {
     "data": {
      "text/plain": [
       "0.3645304896987266"
      ]
     },
     "execution_count": 66,
     "metadata": {},
     "output_type": "execute_result"
    }
   ],
   "source": [
    "#Scale dataset\n",
    "from sklearn.preprocessing import StandardScaler\n",
    "from sklearn.pipeline import make_pipelineX, y = new_test_df_dailey.drop('Cases',axis=1), new_test_df_dailey['Cases']\n",
    "\n",
    "# 80% training 20% testing\n",
    "XX_train, XX_test, yy_train, yy_test= train_test_split(X, y, test_size=.2)\n",
    "\n",
    "## TESTING loGISTIC REGRISSION ##\n",
    "## After Scaling\n",
    "pipe = make_pipeline(StandardScaler(),LogisticRegression())\n",
    "pipe.fit(XX_train, yy_train)\n",
    "pipe.score(XX_test, yy_test)"
   ]
  },
  {
   "cell_type": "code",
   "execution_count": 142,
   "id": "029cf6b5",
   "metadata": {},
   "outputs": [
    {
     "data": {
      "text/plain": [
       "0.27911792110984573"
      ]
     },
     "execution_count": 142,
     "metadata": {},
     "output_type": "execute_result"
    }
   ],
   "source": [
    "## TESTING RANDOMFOREST ## \n",
    "## After Scaling\n",
    "pipe2 = make_pipeline(StandardScaler(), RandomForestClassifier())\n",
    "pipe2.fit(XX_train, yy_train)\n",
    "pipe2.score(XX_test, yy_test)"
   ]
  },
  {
   "cell_type": "markdown",
   "id": "6c9646bd",
   "metadata": {},
   "source": [
    "=================================================================================="
   ]
  },
  {
   "cell_type": "code",
   "execution_count": 84,
   "id": "52cccdce",
   "metadata": {},
   "outputs": [
    {
     "data": {
      "text/plain": [
       "KFold(n_splits=5, random_state=None, shuffle=False)"
      ]
     },
     "execution_count": 84,
     "metadata": {},
     "output_type": "execute_result"
    }
   ],
   "source": [
    "### Kfold ###\n",
    "from sklearn.model_selection import KFold\n",
    "kf = KFold(n_splits=5)\n",
    "kf"
   ]
  },
  {
   "cell_type": "code",
   "execution_count": 85,
   "id": "684f4ffe",
   "metadata": {},
   "outputs": [],
   "source": [
    "def get_score(model,X_train, X_test, y_train, y_test):\n",
    "    model.fit(X_train, y_train)\n",
    "    return model.score(X_test,y_test)"
   ]
  },
  {
   "cell_type": "code",
   "execution_count": 87,
   "id": "7db571a5",
   "metadata": {},
   "outputs": [
    {
     "data": {
      "text/plain": [
       "0.27632260068330056"
      ]
     },
     "execution_count": 87,
     "metadata": {},
     "output_type": "execute_result"
    }
   ],
   "source": [
    "#RandomForestClassifier ## befor Scaling\n",
    "get_score (RandomForestClassifier(),X_train, X_test, y_train, y_test )"
   ]
  },
  {
   "cell_type": "code",
   "execution_count": 88,
   "id": "334a862d",
   "metadata": {},
   "outputs": [
    {
     "data": {
      "text/plain": [
       "0.27994616419919244"
      ]
     },
     "execution_count": 88,
     "metadata": {},
     "output_type": "execute_result"
    }
   ],
   "source": [
    "#RandomForestClassifier ## after Scaling\n",
    "et_score (RandomForestClassifier(),XX_train, XX_test, yy_train, yy_test)"
   ]
  },
  {
   "cell_type": "code",
   "execution_count": 82,
   "id": "1f2b676e",
   "metadata": {},
   "outputs": [
    {
     "name": "stderr",
     "output_type": "stream",
     "text": [
      "/opt/anaconda3/lib/python3.8/site-packages/sklearn/linear_model/_logistic.py:763: ConvergenceWarning: lbfgs failed to converge (status=1):\n",
      "STOP: TOTAL NO. of ITERATIONS REACHED LIMIT.\n",
      "\n",
      "Increase the number of iterations (max_iter) or scale the data as shown in:\n",
      "    https://scikit-learn.org/stable/modules/preprocessing.html\n",
      "Please also refer to the documentation for alternative solver options:\n",
      "    https://scikit-learn.org/stable/modules/linear_model.html#logistic-regression\n",
      "  n_iter_i = _check_optimize_result(\n"
     ]
    },
    {
     "data": {
      "text/plain": [
       "0.3627704731338648"
      ]
     },
     "execution_count": 82,
     "metadata": {},
     "output_type": "execute_result"
    }
   ],
   "source": [
    "#LogisticRegression ## befor Scaling\n",
    "get_score (LogisticRegression(),X_train, X_test, y_train, y_test )"
   ]
  },
  {
   "cell_type": "code",
   "execution_count": 86,
   "id": "9950afdf",
   "metadata": {},
   "outputs": [
    {
     "name": "stderr",
     "output_type": "stream",
     "text": [
      "/opt/anaconda3/lib/python3.8/site-packages/sklearn/linear_model/_logistic.py:763: ConvergenceWarning: lbfgs failed to converge (status=1):\n",
      "STOP: TOTAL NO. of ITERATIONS REACHED LIMIT.\n",
      "\n",
      "Increase the number of iterations (max_iter) or scale the data as shown in:\n",
      "    https://scikit-learn.org/stable/modules/preprocessing.html\n",
      "Please also refer to the documentation for alternative solver options:\n",
      "    https://scikit-learn.org/stable/modules/linear_model.html#logistic-regression\n",
      "  n_iter_i = _check_optimize_result(\n"
     ]
    },
    {
     "data": {
      "text/plain": [
       "0.3645304896987266"
      ]
     },
     "execution_count": 86,
     "metadata": {},
     "output_type": "execute_result"
    }
   ],
   "source": [
    "#LogisticRegression ## after Scaling\n",
    "get_score (LogisticRegression(),XX_train, XX_test, yy_train, yy_test )"
   ]
  },
  {
   "cell_type": "markdown",
   "id": "8dc14246",
   "metadata": {},
   "source": [
    "## 4. Analysis and Evaluation \n",
    "- Evaluation Metrics \n",
    "       - recall_score\n",
    "       - precision_score"
   ]
  },
  {
   "cell_type": "code",
   "execution_count": 126,
   "id": "2192c3f5",
   "metadata": {},
   "outputs": [
    {
     "name": "stdout",
     "output_type": "stream",
     "text": [
      "recall_score : 0.004032258064516129\n",
      "precision_score : 0.001462784165862358\n",
      "f1_score 0.0021467799526041957\n",
      "Accuracy  0.3627704731338648\n"
     ]
    },
    {
     "name": "stderr",
     "output_type": "stream",
     "text": [
      "/opt/anaconda3/lib/python3.8/site-packages/sklearn/metrics/_classification.py:1245: UndefinedMetricWarning: Precision is ill-defined and being set to 0.0 in labels with no predicted samples. Use `zero_division` parameter to control this behavior.\n",
      "  _warn_prf(average, modifier, msg_start, len(result))\n"
     ]
    }
   ],
   "source": [
    "from sklearn.metrics import PrecisionRecallDisplay\n",
    "from sklearn.metrics import recall_score\n",
    "from sklearn.metrics import average_precision_score\n",
    "from sklearn.metrics import accuracy_score\n",
    "\n",
    "\n",
    "y_Prediction = model3.predict(X_test)\n",
    "print('recall_score :', recall_score(y_test, y_Prediction, average='macro'))\n",
    "print('precision_score :' , precision_score(y_test, y_Prediction, average='macro')) \n",
    "print('f1_score',f1_score(y_test, y_Prediction, average='macro'))\n",
    "print('Accuracy ', accuracy_score(y_test, y_Prediction, normalize=True))"
   ]
  },
  {
   "cell_type": "code",
   "execution_count": null,
   "id": "233384a9",
   "metadata": {},
   "outputs": [],
   "source": [
    "y_Prediction = model2.predict(X_test)\n",
    "print('recall_score :', recall_score(y_test, y_Prediction, average='macro'))\n",
    "print('precision_score :' , precision_score(y_test, y_Prediction, average='macro')) \n",
    "print('f1_score',f1_score(y_test, y_Prediction, average='macro'))\n",
    "print('Accuracy ', accuracy_score(y_test, y_Prediction, normalize=True))"
   ]
  },
  {
   "cell_type": "markdown",
   "id": "014a38cf",
   "metadata": {},
   "source": [
    "## 5. Conclusion "
   ]
  },
  {
   "cell_type": "markdown",
   "id": "9c108c3b",
   "metadata": {},
   "source": [
    "This study set out to investigates COVID 19 cases in Saudi Arabia. This study has found that generally emphasize that COVID 19 decreases . The investigation of daily cases has shown that events (such vacation) is factor for increasing COVID-19 cases. However, cases are not monitored every day so this obveiously is affect the prediction."
   ]
  }
 ],
 "metadata": {
  "kernelspec": {
   "display_name": "Python 3",
   "language": "python",
   "name": "python3"
  },
  "language_info": {
   "codemirror_mode": {
    "name": "ipython",
    "version": 3
   },
   "file_extension": ".py",
   "mimetype": "text/x-python",
   "name": "python",
   "nbconvert_exporter": "python",
   "pygments_lexer": "ipython3",
   "version": "3.8.8"
  }
 },
 "nbformat": 4,
 "nbformat_minor": 5
}
