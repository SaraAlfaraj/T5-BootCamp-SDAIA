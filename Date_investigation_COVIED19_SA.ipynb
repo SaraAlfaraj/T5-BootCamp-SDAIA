{
 "cells": [
  {
   "cell_type": "markdown",
   "id": "bcb27c50",
   "metadata": {},
   "source": [
    "# Investigation of Saudi Arabia COVID-19 Cases (Mar 2020 - Oct 2021)"
   ]
  },
  {
   "cell_type": "markdown",
   "id": "86bdb729",
   "metadata": {},
   "source": [
    "Recently, there has been a huge interest in pandemic COVID-19 studies due that led to major global disruptions. In this investigation I will focus on Saudi Arabia COVID-19 Cases. \n",
    " \n",
    "## 1. Data Collection \n",
    "##### - Questions\n",
    "- Are the different seasons and events (Summer, Winter, holidays, Eids...) affect the number of COVID-19 cases?\n",
    "- Do the numbers of COVID-19 cases differ between big/main cities and small cities?\n",
    "- What is the expected date of reaching zero cases?\n",
    "- Is the COVID-19 cases indicators expected to rise again after returning back to school ( at 31 Oct 2021)?\n",
    "\n",
    "##### - Type of Data\n",
    "Time series data that obtained from The King Abdullah Petroleum Studies and Research Center in CSV format. The dataset include a sequence of data points (COVID-19 cases) indexed in time order from 2 Mar 2020 to 1 Oct 2021. It consists of 428346 row، related to 207 cities in Saudi Arabia. Additionally, it include fetures such:\n",
    "\n",
    "- Number of Cases (Daily / Cumulative)\n",
    "- Case Indicators (Active, Mortalities, Critical ...)\n",
    "- Number of Cases\n",
    "- Date & Days\n",
    "- Events\n",
    "- City & Region\n",
    "\n",
    "##### - Sources\n",
    "- https://datasource.kapsarc.org/explore/dataset/saudi-arabia-coronavirus-disease-covid-19-situation/export/?disjunctive.daily_cumulative&disjunctive.indicator&disjunctive.event&disjunctive.city_en&disjunctive.region_en\n",
    "\n",
    "- https://covid19.moh.gov.sa/\n",
    " \n"
   ]
  },
  {
   "cell_type": "markdown",
   "id": "ea42e875",
   "metadata": {},
   "source": [
    "## 2.  Exploratory Data Analysis (EDA)\n",
    "This section shows:\n",
    "- Distinguishes Attributes\n",
    "- Detect Outliers and Missing Values\n",
    "- Features Engineering \n",
    "- Features analysis (Uni/multivariate) \n",
    "### a. Distinguishes Attributes"
   ]
  },
  {
   "cell_type": "code",
   "execution_count": 75,
   "id": "3c8bc14d",
   "metadata": {},
   "outputs": [],
   "source": [
    "import matplotlib.pyplot as plt\n",
    "import numpy as np\n",
    "import pandas as pd\n",
    "import seaborn as sns"
   ]
  },
  {
   "cell_type": "code",
   "execution_count": 76,
   "id": "558ace03",
   "metadata": {},
   "outputs": [],
   "source": [
    "\n",
    "dataset = \"dataset_covied19.csv\"\n",
    "df = pd.read_csv(dataset, error_bad_lines=False, sep=';')"
   ]
  },
  {
   "cell_type": "code",
   "execution_count": 77,
   "id": "38f138ee",
   "metadata": {},
   "outputs": [
    {
     "data": {
      "text/html": [
       "<div>\n",
       "<style scoped>\n",
       "    .dataframe tbody tr th:only-of-type {\n",
       "        vertical-align: middle;\n",
       "    }\n",
       "\n",
       "    .dataframe tbody tr th {\n",
       "        vertical-align: top;\n",
       "    }\n",
       "\n",
       "    .dataframe thead th {\n",
       "        text-align: right;\n",
       "    }\n",
       "</style>\n",
       "<table border=\"1\" class=\"dataframe\">\n",
       "  <thead>\n",
       "    <tr style=\"text-align: right;\">\n",
       "      <th></th>\n",
       "      <th>Daily / Cumulative</th>\n",
       "      <th>Indicator</th>\n",
       "      <th>Date</th>\n",
       "      <th>Event</th>\n",
       "      <th>City</th>\n",
       "      <th>Region</th>\n",
       "      <th>Cases (person)</th>\n",
       "    </tr>\n",
       "  </thead>\n",
       "  <tbody>\n",
       "    <tr>\n",
       "      <th>0</th>\n",
       "      <td>Cumulative</td>\n",
       "      <td>Cases</td>\n",
       "      <td>2020-11-05</td>\n",
       "      <td>NaN</td>\n",
       "      <td>Al Khubar</td>\n",
       "      <td>Eastern Region</td>\n",
       "      <td>7265</td>\n",
       "    </tr>\n",
       "    <tr>\n",
       "      <th>1</th>\n",
       "      <td>Cumulative</td>\n",
       "      <td>Cases</td>\n",
       "      <td>2020-11-05</td>\n",
       "      <td>NaN</td>\n",
       "      <td>Jeddah</td>\n",
       "      <td>Makkah Al Mukarramah</td>\n",
       "      <td>33808</td>\n",
       "    </tr>\n",
       "    <tr>\n",
       "      <th>2</th>\n",
       "      <td>Cumulative</td>\n",
       "      <td>Cases</td>\n",
       "      <td>2020-11-05</td>\n",
       "      <td>NaN</td>\n",
       "      <td>Ar Riyad</td>\n",
       "      <td>Ar Riyad</td>\n",
       "      <td>57841</td>\n",
       "    </tr>\n",
       "    <tr>\n",
       "      <th>3</th>\n",
       "      <td>Cumulative</td>\n",
       "      <td>Cases</td>\n",
       "      <td>2020-11-05</td>\n",
       "      <td>NaN</td>\n",
       "      <td>Ad Duwadimi</td>\n",
       "      <td>Ar Riyad</td>\n",
       "      <td>464</td>\n",
       "    </tr>\n",
       "    <tr>\n",
       "      <th>4</th>\n",
       "      <td>Cumulative</td>\n",
       "      <td>Cases</td>\n",
       "      <td>2020-10-28</td>\n",
       "      <td>NaN</td>\n",
       "      <td>Rabigh</td>\n",
       "      <td>Makkah Al Mukarramah</td>\n",
       "      <td>272</td>\n",
       "    </tr>\n",
       "  </tbody>\n",
       "</table>\n",
       "</div>"
      ],
      "text/plain": [
       "  Daily / Cumulative Indicator        Date Event         City  \\\n",
       "0         Cumulative     Cases  2020-11-05   NaN    Al Khubar   \n",
       "1         Cumulative     Cases  2020-11-05   NaN       Jeddah   \n",
       "2         Cumulative     Cases  2020-11-05   NaN     Ar Riyad   \n",
       "3         Cumulative     Cases  2020-11-05   NaN  Ad Duwadimi   \n",
       "4         Cumulative     Cases  2020-10-28   NaN       Rabigh   \n",
       "\n",
       "                 Region  Cases (person)  \n",
       "0        Eastern Region            7265  \n",
       "1  Makkah Al Mukarramah           33808  \n",
       "2              Ar Riyad           57841  \n",
       "3              Ar Riyad             464  \n",
       "4  Makkah Al Mukarramah             272  "
      ]
     },
     "execution_count": 77,
     "metadata": {},
     "output_type": "execute_result"
    }
   ],
   "source": [
    "df.head()"
   ]
  },
  {
   "cell_type": "code",
   "execution_count": 78,
   "id": "2586056c",
   "metadata": {},
   "outputs": [
    {
     "data": {
      "text/plain": [
       "(428346, 7)"
      ]
     },
     "execution_count": 78,
     "metadata": {},
     "output_type": "execute_result"
    }
   ],
   "source": [
    "df.shape"
   ]
  },
  {
   "cell_type": "code",
   "execution_count": 79,
   "id": "f1ac6132",
   "metadata": {},
   "outputs": [
    {
     "name": "stdout",
     "output_type": "stream",
     "text": [
      "<class 'pandas.core.frame.DataFrame'>\n",
      "RangeIndex: 428346 entries, 0 to 428345\n",
      "Data columns (total 7 columns):\n",
      " #   Column              Non-Null Count   Dtype \n",
      "---  ------              --------------   ----- \n",
      " 0   Daily / Cumulative  428346 non-null  object\n",
      " 1   Indicator           428346 non-null  object\n",
      " 2   Date                428346 non-null  object\n",
      " 3   Event               1900 non-null    object\n",
      " 4   City                428346 non-null  object\n",
      " 5   Region              428346 non-null  object\n",
      " 6   Cases (person)      428346 non-null  int64 \n",
      "dtypes: int64(1), object(6)\n",
      "memory usage: 22.9+ MB\n"
     ]
    }
   ],
   "source": [
    "df.info()"
   ]
  },
  {
   "cell_type": "code",
   "execution_count": null,
   "id": "27fcc9c3",
   "metadata": {},
   "outputs": [],
   "source": []
  },
  {
   "cell_type": "code",
   "execution_count": 80,
   "id": "1e9fe588",
   "metadata": {},
   "outputs": [
    {
     "name": "stdout",
     "output_type": "stream",
     "text": [
      "Tha dataset consists information about 206 cities  arround Saudi Arabia for  13 regions.\n"
     ]
    }
   ],
   "source": [
    "print('Tha dataset consists information about', df.City.nunique()-1, 'cities  arround Saudi Arabia for ', df.Region.nunique()-1, 'regions.')"
   ]
  },
  {
   "cell_type": "code",
   "execution_count": 81,
   "id": "bb8244cd",
   "metadata": {},
   "outputs": [
    {
     "data": {
      "text/plain": [
       "Cases          145405\n",
       "Recoveries     140960\n",
       "Active          94333\n",
       "Mortalities     45972\n",
       "Tested           1158\n",
       "Critical          518\n",
       "Name: Indicator, dtype: int64"
      ]
     },
     "execution_count": 81,
     "metadata": {},
     "output_type": "execute_result"
    }
   ],
   "source": [
    "df.Indicator.value_counts()"
   ]
  },
  {
   "cell_type": "code",
   "execution_count": 82,
   "id": "cf4cc040",
   "metadata": {},
   "outputs": [
    {
     "data": {
      "text/plain": [
       "Total                   5655\n",
       "Jeddah                  3857\n",
       "Makkah Al Mukarramah    3788\n",
       "Ar Riyad                3759\n",
       "Ad Dammam               3622\n",
       "                        ... \n",
       "Hadda                    154\n",
       "Al Hadban                 93\n",
       "Abu 'Urwah                72\n",
       "Harad                     26\n",
       "As Sulaymaniyyah          26\n",
       "Name: City, Length: 207, dtype: int64"
      ]
     },
     "execution_count": 82,
     "metadata": {},
     "output_type": "execute_result"
    }
   ],
   "source": [
    "df.City.value_counts()"
   ]
  },
  {
   "cell_type": "code",
   "execution_count": 83,
   "id": "d3417b18",
   "metadata": {},
   "outputs": [
    {
     "data": {
      "text/plain": [
       "Curfew lifted(all regions)                                                        939\n",
       "Partial lifting of curfew in all cities except Makkah                             179\n",
       "Jeddah areas lockdown - 24 h curfew                                               173\n",
       "Makkah lockdown                                                                   136\n",
       "Riyadh, Dammam , Tabuk , Dahran, Hafuf, Jeddah, Taif, Qatif , Khobar24h curfew    115\n",
       "Jeddah lockdown                                                                    80\n",
       "Makkah , Madinah 24 hours curfew                                                   79\n",
       "Riyadh, Makkah and Madinah lockdown - curfew (6am - 3pm)                           70\n",
       "Domestic flights suspension                                                        40\n",
       "Gov / private suspension                                                           31\n",
       "International flights suspension for 14 days                                       27\n",
       "Umrah suspension                                                                   12\n",
       "flights suspended to number of countries                                           11\n",
       "First case of COVID-19                                                              8\n",
       "Name: Event, dtype: int64"
      ]
     },
     "execution_count": 83,
     "metadata": {},
     "output_type": "execute_result"
    }
   ],
   "source": [
    "df.Event.value_counts()"
   ]
  },
  {
   "cell_type": "code",
   "execution_count": 84,
   "id": "3d635bd3",
   "metadata": {},
   "outputs": [
    {
     "data": {
      "text/plain": [
       "Ar Riyad                    70517\n",
       "Eastern Region              60172\n",
       "Makkah Al Mukarramah        54090\n",
       "Aseer                       51448\n",
       "Jazan                       39088\n",
       "Al Qaseem                   31495\n",
       "Al Madinah Al Munawwarah    22057\n",
       "Al Bahah                    17973\n",
       "Hail                        17157\n",
       "Tabuk                       17153\n",
       "Al Jawf                     14882\n",
       "Najran                      14319\n",
       "Northern Borders            12340\n",
       "Total                        5655\n",
       "Name: Region, dtype: int64"
      ]
     },
     "execution_count": 84,
     "metadata": {},
     "output_type": "execute_result"
    }
   ],
   "source": [
    "df.Region.value_counts()"
   ]
  },
  {
   "cell_type": "code",
   "execution_count": 85,
   "id": "3555a975",
   "metadata": {},
   "outputs": [
    {
     "data": {
      "text/plain": [
       "Total                   5655\n",
       "Jeddah                  3857\n",
       "Makkah Al Mukarramah    3788\n",
       "Ar Riyad                3759\n",
       "Ad Dammam               3622\n",
       "                        ... \n",
       "Hadda                    154\n",
       "Al Hadban                 93\n",
       "Abu 'Urwah                72\n",
       "Harad                     26\n",
       "As Sulaymaniyyah          26\n",
       "Name: City, Length: 207, dtype: int64"
      ]
     },
     "execution_count": 85,
     "metadata": {},
     "output_type": "execute_result"
    }
   ],
   "source": [
    "df.City.value_counts()"
   ]
  },
  {
   "cell_type": "markdown",
   "id": "e0fdfd78",
   "metadata": {},
   "source": [
    "Before doing any Pre-Processing, I will do more discover about 'Daily / Cumulative' column in order to decide what should be informative for the study."
   ]
  },
  {
   "cell_type": "code",
   "execution_count": 86,
   "id": "81a25bd0",
   "metadata": {},
   "outputs": [
    {
     "data": {
      "text/plain": [
       "Cumulative    333140\n",
       "Daily          95206\n",
       "Name: Daily / Cumulative, dtype: int64"
      ]
     },
     "execution_count": 86,
     "metadata": {},
     "output_type": "execute_result"
    }
   ],
   "source": [
    "df['Daily / Cumulative'].value_counts()"
   ]
  },
  {
   "cell_type": "code",
   "execution_count": 87,
   "id": "24d4c023",
   "metadata": {},
   "outputs": [
    {
     "data": {
      "text/html": [
       "<div>\n",
       "<style scoped>\n",
       "    .dataframe tbody tr th:only-of-type {\n",
       "        vertical-align: middle;\n",
       "    }\n",
       "\n",
       "    .dataframe tbody tr th {\n",
       "        vertical-align: top;\n",
       "    }\n",
       "\n",
       "    .dataframe thead th {\n",
       "        text-align: right;\n",
       "    }\n",
       "</style>\n",
       "<table border=\"1\" class=\"dataframe\">\n",
       "  <thead>\n",
       "    <tr style=\"text-align: right;\">\n",
       "      <th></th>\n",
       "      <th>Daily / Cumulative</th>\n",
       "      <th>Indicator</th>\n",
       "      <th>Date</th>\n",
       "      <th>Event</th>\n",
       "      <th>City</th>\n",
       "      <th>Region</th>\n",
       "      <th>Cases (person)</th>\n",
       "    </tr>\n",
       "  </thead>\n",
       "  <tbody>\n",
       "    <tr>\n",
       "      <th>0</th>\n",
       "      <td>Cumulative</td>\n",
       "      <td>Cases</td>\n",
       "      <td>2020-11-05</td>\n",
       "      <td>NaN</td>\n",
       "      <td>Al Khubar</td>\n",
       "      <td>Eastern Region</td>\n",
       "      <td>7265</td>\n",
       "    </tr>\n",
       "    <tr>\n",
       "      <th>1</th>\n",
       "      <td>Cumulative</td>\n",
       "      <td>Cases</td>\n",
       "      <td>2020-11-05</td>\n",
       "      <td>NaN</td>\n",
       "      <td>Jeddah</td>\n",
       "      <td>Makkah Al Mukarramah</td>\n",
       "      <td>33808</td>\n",
       "    </tr>\n",
       "    <tr>\n",
       "      <th>2</th>\n",
       "      <td>Cumulative</td>\n",
       "      <td>Cases</td>\n",
       "      <td>2020-11-05</td>\n",
       "      <td>NaN</td>\n",
       "      <td>Ar Riyad</td>\n",
       "      <td>Ar Riyad</td>\n",
       "      <td>57841</td>\n",
       "    </tr>\n",
       "    <tr>\n",
       "      <th>3</th>\n",
       "      <td>Cumulative</td>\n",
       "      <td>Cases</td>\n",
       "      <td>2020-11-05</td>\n",
       "      <td>NaN</td>\n",
       "      <td>Ad Duwadimi</td>\n",
       "      <td>Ar Riyad</td>\n",
       "      <td>464</td>\n",
       "    </tr>\n",
       "    <tr>\n",
       "      <th>4</th>\n",
       "      <td>Cumulative</td>\n",
       "      <td>Cases</td>\n",
       "      <td>2020-10-28</td>\n",
       "      <td>NaN</td>\n",
       "      <td>Rabigh</td>\n",
       "      <td>Makkah Al Mukarramah</td>\n",
       "      <td>272</td>\n",
       "    </tr>\n",
       "    <tr>\n",
       "      <th>...</th>\n",
       "      <td>...</td>\n",
       "      <td>...</td>\n",
       "      <td>...</td>\n",
       "      <td>...</td>\n",
       "      <td>...</td>\n",
       "      <td>...</td>\n",
       "      <td>...</td>\n",
       "    </tr>\n",
       "    <tr>\n",
       "      <th>404845</th>\n",
       "      <td>Cumulative</td>\n",
       "      <td>Cases</td>\n",
       "      <td>2020-12-13</td>\n",
       "      <td>NaN</td>\n",
       "      <td>Thar</td>\n",
       "      <td>Najran</td>\n",
       "      <td>39</td>\n",
       "    </tr>\n",
       "    <tr>\n",
       "      <th>404846</th>\n",
       "      <td>Cumulative</td>\n",
       "      <td>Cases</td>\n",
       "      <td>2020-12-31</td>\n",
       "      <td>NaN</td>\n",
       "      <td>Thar</td>\n",
       "      <td>Najran</td>\n",
       "      <td>39</td>\n",
       "    </tr>\n",
       "    <tr>\n",
       "      <th>404847</th>\n",
       "      <td>Cumulative</td>\n",
       "      <td>Cases</td>\n",
       "      <td>2021-01-18</td>\n",
       "      <td>NaN</td>\n",
       "      <td>Thar</td>\n",
       "      <td>Najran</td>\n",
       "      <td>39</td>\n",
       "    </tr>\n",
       "    <tr>\n",
       "      <th>404848</th>\n",
       "      <td>Cumulative</td>\n",
       "      <td>Cases</td>\n",
       "      <td>2021-01-19</td>\n",
       "      <td>NaN</td>\n",
       "      <td>Thar</td>\n",
       "      <td>Najran</td>\n",
       "      <td>39</td>\n",
       "    </tr>\n",
       "    <tr>\n",
       "      <th>404849</th>\n",
       "      <td>Cumulative</td>\n",
       "      <td>Cases</td>\n",
       "      <td>2021-01-21</td>\n",
       "      <td>NaN</td>\n",
       "      <td>Thar</td>\n",
       "      <td>Najran</td>\n",
       "      <td>39</td>\n",
       "    </tr>\n",
       "  </tbody>\n",
       "</table>\n",
       "<p>145405 rows × 7 columns</p>\n",
       "</div>"
      ],
      "text/plain": [
       "       Daily / Cumulative Indicator        Date Event         City  \\\n",
       "0              Cumulative     Cases  2020-11-05   NaN    Al Khubar   \n",
       "1              Cumulative     Cases  2020-11-05   NaN       Jeddah   \n",
       "2              Cumulative     Cases  2020-11-05   NaN     Ar Riyad   \n",
       "3              Cumulative     Cases  2020-11-05   NaN  Ad Duwadimi   \n",
       "4              Cumulative     Cases  2020-10-28   NaN       Rabigh   \n",
       "...                   ...       ...         ...   ...          ...   \n",
       "404845         Cumulative     Cases  2020-12-13   NaN         Thar   \n",
       "404846         Cumulative     Cases  2020-12-31   NaN         Thar   \n",
       "404847         Cumulative     Cases  2021-01-18   NaN         Thar   \n",
       "404848         Cumulative     Cases  2021-01-19   NaN         Thar   \n",
       "404849         Cumulative     Cases  2021-01-21   NaN         Thar   \n",
       "\n",
       "                      Region  Cases (person)  \n",
       "0             Eastern Region            7265  \n",
       "1       Makkah Al Mukarramah           33808  \n",
       "2                   Ar Riyad           57841  \n",
       "3                   Ar Riyad             464  \n",
       "4       Makkah Al Mukarramah             272  \n",
       "...                      ...             ...  \n",
       "404845                Najran              39  \n",
       "404846                Najran              39  \n",
       "404847                Najran              39  \n",
       "404848                Najran              39  \n",
       "404849                Najran              39  \n",
       "\n",
       "[145405 rows x 7 columns]"
      ]
     },
     "execution_count": 87,
     "metadata": {},
     "output_type": "execute_result"
    }
   ],
   "source": [
    "Cases_Indicator = df[df[\"Indicator\"] == 'Cases']\n",
    "Cases_Indicator"
   ]
  },
  {
   "cell_type": "code",
   "execution_count": 88,
   "id": "597efa4d",
   "metadata": {},
   "outputs": [
    {
     "data": {
      "text/plain": [
       "Cumulative    100188\n",
       "Daily          45217\n",
       "Name: Daily / Cumulative, dtype: int64"
      ]
     },
     "execution_count": 88,
     "metadata": {},
     "output_type": "execute_result"
    }
   ],
   "source": [
    "Cases_Indicator['Daily / Cumulative'].value_counts()"
   ]
  },
  {
   "cell_type": "code",
   "execution_count": 89,
   "id": "723690fd",
   "metadata": {},
   "outputs": [
    {
     "data": {
      "text/html": [
       "<div>\n",
       "<style scoped>\n",
       "    .dataframe tbody tr th:only-of-type {\n",
       "        vertical-align: middle;\n",
       "    }\n",
       "\n",
       "    .dataframe tbody tr th {\n",
       "        vertical-align: top;\n",
       "    }\n",
       "\n",
       "    .dataframe thead th {\n",
       "        text-align: right;\n",
       "    }\n",
       "</style>\n",
       "<table border=\"1\" class=\"dataframe\">\n",
       "  <thead>\n",
       "    <tr style=\"text-align: right;\">\n",
       "      <th></th>\n",
       "      <th>Daily / Cumulative</th>\n",
       "      <th>Indicator</th>\n",
       "      <th>Date</th>\n",
       "      <th>Event</th>\n",
       "      <th>City</th>\n",
       "      <th>Region</th>\n",
       "      <th>Cases (person)</th>\n",
       "    </tr>\n",
       "  </thead>\n",
       "  <tbody>\n",
       "    <tr>\n",
       "      <th>0</th>\n",
       "      <td>Cumulative</td>\n",
       "      <td>Cases</td>\n",
       "      <td>2020-11-05</td>\n",
       "      <td>NaN</td>\n",
       "      <td>Al Khubar</td>\n",
       "      <td>Eastern Region</td>\n",
       "      <td>7265</td>\n",
       "    </tr>\n",
       "    <tr>\n",
       "      <th>1</th>\n",
       "      <td>Cumulative</td>\n",
       "      <td>Cases</td>\n",
       "      <td>2020-11-05</td>\n",
       "      <td>NaN</td>\n",
       "      <td>Jeddah</td>\n",
       "      <td>Makkah Al Mukarramah</td>\n",
       "      <td>33808</td>\n",
       "    </tr>\n",
       "    <tr>\n",
       "      <th>2</th>\n",
       "      <td>Cumulative</td>\n",
       "      <td>Cases</td>\n",
       "      <td>2020-11-05</td>\n",
       "      <td>NaN</td>\n",
       "      <td>Ar Riyad</td>\n",
       "      <td>Ar Riyad</td>\n",
       "      <td>57841</td>\n",
       "    </tr>\n",
       "    <tr>\n",
       "      <th>3</th>\n",
       "      <td>Cumulative</td>\n",
       "      <td>Cases</td>\n",
       "      <td>2020-11-05</td>\n",
       "      <td>NaN</td>\n",
       "      <td>Ad Duwadimi</td>\n",
       "      <td>Ar Riyad</td>\n",
       "      <td>464</td>\n",
       "    </tr>\n",
       "    <tr>\n",
       "      <th>4</th>\n",
       "      <td>Cumulative</td>\n",
       "      <td>Cases</td>\n",
       "      <td>2020-10-28</td>\n",
       "      <td>NaN</td>\n",
       "      <td>Rabigh</td>\n",
       "      <td>Makkah Al Mukarramah</td>\n",
       "      <td>272</td>\n",
       "    </tr>\n",
       "    <tr>\n",
       "      <th>...</th>\n",
       "      <td>...</td>\n",
       "      <td>...</td>\n",
       "      <td>...</td>\n",
       "      <td>...</td>\n",
       "      <td>...</td>\n",
       "      <td>...</td>\n",
       "      <td>...</td>\n",
       "    </tr>\n",
       "    <tr>\n",
       "      <th>428341</th>\n",
       "      <td>Cumulative</td>\n",
       "      <td>Active</td>\n",
       "      <td>2021-07-01</td>\n",
       "      <td>NaN</td>\n",
       "      <td>Al Lith</td>\n",
       "      <td>Makkah Al Mukarramah</td>\n",
       "      <td>132</td>\n",
       "    </tr>\n",
       "    <tr>\n",
       "      <th>428342</th>\n",
       "      <td>Cumulative</td>\n",
       "      <td>Active</td>\n",
       "      <td>2021-07-01</td>\n",
       "      <td>NaN</td>\n",
       "      <td>Badr</td>\n",
       "      <td>Al Madinah Al Munawwarah</td>\n",
       "      <td>76</td>\n",
       "    </tr>\n",
       "    <tr>\n",
       "      <th>428343</th>\n",
       "      <td>Cumulative</td>\n",
       "      <td>Active</td>\n",
       "      <td>2021-06-30</td>\n",
       "      <td>NaN</td>\n",
       "      <td>Haql</td>\n",
       "      <td>Tabuk</td>\n",
       "      <td>7</td>\n",
       "    </tr>\n",
       "    <tr>\n",
       "      <th>428344</th>\n",
       "      <td>Cumulative</td>\n",
       "      <td>Active</td>\n",
       "      <td>2021-07-01</td>\n",
       "      <td>NaN</td>\n",
       "      <td>Tabarjal</td>\n",
       "      <td>Al Jawf</td>\n",
       "      <td>8</td>\n",
       "    </tr>\n",
       "    <tr>\n",
       "      <th>428345</th>\n",
       "      <td>Cumulative</td>\n",
       "      <td>Active</td>\n",
       "      <td>2021-06-27</td>\n",
       "      <td>NaN</td>\n",
       "      <td>BaqʻAʼ</td>\n",
       "      <td>Hail</td>\n",
       "      <td>4</td>\n",
       "    </tr>\n",
       "  </tbody>\n",
       "</table>\n",
       "<p>333140 rows × 7 columns</p>\n",
       "</div>"
      ],
      "text/plain": [
       "       Daily / Cumulative Indicator        Date Event         City  \\\n",
       "0              Cumulative     Cases  2020-11-05   NaN    Al Khubar   \n",
       "1              Cumulative     Cases  2020-11-05   NaN       Jeddah   \n",
       "2              Cumulative     Cases  2020-11-05   NaN     Ar Riyad   \n",
       "3              Cumulative     Cases  2020-11-05   NaN  Ad Duwadimi   \n",
       "4              Cumulative     Cases  2020-10-28   NaN       Rabigh   \n",
       "...                   ...       ...         ...   ...          ...   \n",
       "428341         Cumulative    Active  2021-07-01   NaN      Al Lith   \n",
       "428342         Cumulative    Active  2021-07-01   NaN         Badr   \n",
       "428343         Cumulative    Active  2021-06-30   NaN         Haql   \n",
       "428344         Cumulative    Active  2021-07-01   NaN     Tabarjal   \n",
       "428345         Cumulative    Active  2021-06-27   NaN       BaqʻAʼ   \n",
       "\n",
       "                          Region  Cases (person)  \n",
       "0                 Eastern Region            7265  \n",
       "1           Makkah Al Mukarramah           33808  \n",
       "2                       Ar Riyad           57841  \n",
       "3                       Ar Riyad             464  \n",
       "4           Makkah Al Mukarramah             272  \n",
       "...                          ...             ...  \n",
       "428341      Makkah Al Mukarramah             132  \n",
       "428342  Al Madinah Al Munawwarah              76  \n",
       "428343                     Tabuk               7  \n",
       "428344                   Al Jawf               8  \n",
       "428345                      Hail               4  \n",
       "\n",
       "[333140 rows x 7 columns]"
      ]
     },
     "execution_count": 89,
     "metadata": {},
     "output_type": "execute_result"
    }
   ],
   "source": [
    "Cumulative_df = df[df[\"Daily / Cumulative\"] == 'Cumulative']\n",
    "Cumulative_df"
   ]
  },
  {
   "cell_type": "code",
   "execution_count": 90,
   "id": "f5f4ba40",
   "metadata": {},
   "outputs": [
    {
     "data": {
      "text/html": [
       "<div>\n",
       "<style scoped>\n",
       "    .dataframe tbody tr th:only-of-type {\n",
       "        vertical-align: middle;\n",
       "    }\n",
       "\n",
       "    .dataframe tbody tr th {\n",
       "        vertical-align: top;\n",
       "    }\n",
       "\n",
       "    .dataframe thead th {\n",
       "        text-align: right;\n",
       "    }\n",
       "</style>\n",
       "<table border=\"1\" class=\"dataframe\">\n",
       "  <thead>\n",
       "    <tr style=\"text-align: right;\">\n",
       "      <th></th>\n",
       "      <th>Daily / Cumulative</th>\n",
       "      <th>Indicator</th>\n",
       "      <th>Date</th>\n",
       "      <th>Event</th>\n",
       "      <th>City</th>\n",
       "      <th>Region</th>\n",
       "      <th>Cases (person)</th>\n",
       "    </tr>\n",
       "  </thead>\n",
       "  <tbody>\n",
       "    <tr>\n",
       "      <th>4053</th>\n",
       "      <td>Daily</td>\n",
       "      <td>Cases</td>\n",
       "      <td>2021-07-31</td>\n",
       "      <td>NaN</td>\n",
       "      <td>ʻUrayʻIrah</td>\n",
       "      <td>Eastern Region</td>\n",
       "      <td>2</td>\n",
       "    </tr>\n",
       "    <tr>\n",
       "      <th>4054</th>\n",
       "      <td>Daily</td>\n",
       "      <td>Cases</td>\n",
       "      <td>2021-07-31</td>\n",
       "      <td>NaN</td>\n",
       "      <td>ʻUqlat As Suqur</td>\n",
       "      <td>Al Qaseem</td>\n",
       "      <td>4</td>\n",
       "    </tr>\n",
       "    <tr>\n",
       "      <th>4055</th>\n",
       "      <td>Daily</td>\n",
       "      <td>Cases</td>\n",
       "      <td>2021-07-31</td>\n",
       "      <td>NaN</td>\n",
       "      <td>Makkah Al Mukarramah</td>\n",
       "      <td>Makkah Al Mukarramah</td>\n",
       "      <td>28</td>\n",
       "    </tr>\n",
       "    <tr>\n",
       "      <th>4056</th>\n",
       "      <td>Daily</td>\n",
       "      <td>Cases</td>\n",
       "      <td>2021-07-31</td>\n",
       "      <td>NaN</td>\n",
       "      <td>Najran</td>\n",
       "      <td>Najran</td>\n",
       "      <td>29</td>\n",
       "    </tr>\n",
       "    <tr>\n",
       "      <th>4057</th>\n",
       "      <td>Daily</td>\n",
       "      <td>Cases</td>\n",
       "      <td>2021-07-31</td>\n",
       "      <td>NaN</td>\n",
       "      <td>Hubuna</td>\n",
       "      <td>Najran</td>\n",
       "      <td>3</td>\n",
       "    </tr>\n",
       "    <tr>\n",
       "      <th>...</th>\n",
       "      <td>...</td>\n",
       "      <td>...</td>\n",
       "      <td>...</td>\n",
       "      <td>...</td>\n",
       "      <td>...</td>\n",
       "      <td>...</td>\n",
       "      <td>...</td>\n",
       "    </tr>\n",
       "    <tr>\n",
       "      <th>423322</th>\n",
       "      <td>Daily</td>\n",
       "      <td>Mortalities</td>\n",
       "      <td>2021-05-15</td>\n",
       "      <td>NaN</td>\n",
       "      <td>Al Madinah Al Munawwarah</td>\n",
       "      <td>Al Madinah Al Munawwarah</td>\n",
       "      <td>1</td>\n",
       "    </tr>\n",
       "    <tr>\n",
       "      <th>423323</th>\n",
       "      <td>Daily</td>\n",
       "      <td>Mortalities</td>\n",
       "      <td>2021-05-16</td>\n",
       "      <td>NaN</td>\n",
       "      <td>Khamis Mushayt</td>\n",
       "      <td>Aseer</td>\n",
       "      <td>1</td>\n",
       "    </tr>\n",
       "    <tr>\n",
       "      <th>423324</th>\n",
       "      <td>Daily</td>\n",
       "      <td>Mortalities</td>\n",
       "      <td>2021-05-16</td>\n",
       "      <td>NaN</td>\n",
       "      <td>Jeddah</td>\n",
       "      <td>Makkah Al Mukarramah</td>\n",
       "      <td>1</td>\n",
       "    </tr>\n",
       "    <tr>\n",
       "      <th>423325</th>\n",
       "      <td>Daily</td>\n",
       "      <td>Mortalities</td>\n",
       "      <td>2021-05-16</td>\n",
       "      <td>NaN</td>\n",
       "      <td>Al Qunfudhah</td>\n",
       "      <td>Makkah Al Mukarramah</td>\n",
       "      <td>1</td>\n",
       "    </tr>\n",
       "    <tr>\n",
       "      <th>423326</th>\n",
       "      <td>Daily</td>\n",
       "      <td>Mortalities</td>\n",
       "      <td>2021-05-17</td>\n",
       "      <td>NaN</td>\n",
       "      <td>Jazan</td>\n",
       "      <td>Jazan</td>\n",
       "      <td>1</td>\n",
       "    </tr>\n",
       "  </tbody>\n",
       "</table>\n",
       "<p>95206 rows × 7 columns</p>\n",
       "</div>"
      ],
      "text/plain": [
       "       Daily / Cumulative    Indicator        Date Event  \\\n",
       "4053                Daily        Cases  2021-07-31   NaN   \n",
       "4054                Daily        Cases  2021-07-31   NaN   \n",
       "4055                Daily        Cases  2021-07-31   NaN   \n",
       "4056                Daily        Cases  2021-07-31   NaN   \n",
       "4057                Daily        Cases  2021-07-31   NaN   \n",
       "...                   ...          ...         ...   ...   \n",
       "423322              Daily  Mortalities  2021-05-15   NaN   \n",
       "423323              Daily  Mortalities  2021-05-16   NaN   \n",
       "423324              Daily  Mortalities  2021-05-16   NaN   \n",
       "423325              Daily  Mortalities  2021-05-16   NaN   \n",
       "423326              Daily  Mortalities  2021-05-17   NaN   \n",
       "\n",
       "                            City                    Region  Cases (person)  \n",
       "4053                  ʻUrayʻIrah            Eastern Region               2  \n",
       "4054             ʻUqlat As Suqur                 Al Qaseem               4  \n",
       "4055        Makkah Al Mukarramah      Makkah Al Mukarramah              28  \n",
       "4056                      Najran                    Najran              29  \n",
       "4057                      Hubuna                    Najran               3  \n",
       "...                          ...                       ...             ...  \n",
       "423322  Al Madinah Al Munawwarah  Al Madinah Al Munawwarah               1  \n",
       "423323            Khamis Mushayt                     Aseer               1  \n",
       "423324                    Jeddah      Makkah Al Mukarramah               1  \n",
       "423325              Al Qunfudhah      Makkah Al Mukarramah               1  \n",
       "423326                     Jazan                     Jazan               1  \n",
       "\n",
       "[95206 rows x 7 columns]"
      ]
     },
     "execution_count": 90,
     "metadata": {},
     "output_type": "execute_result"
    }
   ],
   "source": [
    "Daily_df = df[df[\"Daily / Cumulative\"] == 'Daily']\n",
    "Daily_df"
   ]
  },
  {
   "cell_type": "code",
   "execution_count": 91,
   "id": "8211c2f2",
   "metadata": {},
   "outputs": [
    {
     "data": {
      "text/plain": [
       "Total                   2274\n",
       "Jeddah                  1605\n",
       "Makkah Al Mukarramah    1530\n",
       "Ar Riyad                1502\n",
       "Ad Dammam               1366\n",
       "                        ... \n",
       "Abu 'Urwah                 5\n",
       "Samudah                    4\n",
       "Harad                      2\n",
       "As Sulaymaniyyah           2\n",
       "Hadad Bani Malik           2\n",
       "Name: City, Length: 207, dtype: int64"
      ]
     },
     "execution_count": 91,
     "metadata": {},
     "output_type": "execute_result"
    }
   ],
   "source": [
    "Daily_df['City'].value_counts()"
   ]
  },
  {
   "cell_type": "code",
   "execution_count": 92,
   "id": "285471bd",
   "metadata": {},
   "outputs": [
    {
     "data": {
      "text/plain": [
       "Total                   3381\n",
       "Al Qatif                2265\n",
       "Makkah Al Mukarramah    2258\n",
       "Ar Riyad                2257\n",
       "Ad Dammam               2256\n",
       "                        ... \n",
       "Hadda                    125\n",
       "Al Hadban                 86\n",
       "Abu 'Urwah                67\n",
       "Harad                     24\n",
       "As Sulaymaniyyah          24\n",
       "Name: City, Length: 207, dtype: int64"
      ]
     },
     "execution_count": 92,
     "metadata": {},
     "output_type": "execute_result"
    }
   ],
   "source": [
    "Cumulative_df['City'].value_counts()"
   ]
  },
  {
   "cell_type": "code",
   "execution_count": 93,
   "id": "8486c413",
   "metadata": {},
   "outputs": [
    {
     "data": {
      "text/plain": [
       "Eastern Region              15825\n",
       "Ar Riyad                    15215\n",
       "Makkah Al Mukarramah        12044\n",
       "Aseer                       11025\n",
       "Al Qaseem                    7780\n",
       "Jazan                        7557\n",
       "Al Madinah Al Munawwarah     5640\n",
       "Al Bahah                     3541\n",
       "Najran                       3221\n",
       "Hail                         3219\n",
       "Tabuk                        3133\n",
       "Al Jawf                      2432\n",
       "Northern Borders             2300\n",
       "Total                        2274\n",
       "Name: Region, dtype: int64"
      ]
     },
     "execution_count": 93,
     "metadata": {},
     "output_type": "execute_result"
    }
   ],
   "source": [
    "Daily_df['Region'].value_counts()"
   ]
  },
  {
   "cell_type": "code",
   "execution_count": 94,
   "id": "aa90e9bc",
   "metadata": {},
   "outputs": [
    {
     "data": {
      "text/plain": [
       "Ar Riyad                    55302\n",
       "Eastern Region              44347\n",
       "Makkah Al Mukarramah        42046\n",
       "Aseer                       40423\n",
       "Jazan                       31531\n",
       "Al Qaseem                   23715\n",
       "Al Madinah Al Munawwarah    16417\n",
       "Al Bahah                    14432\n",
       "Tabuk                       14020\n",
       "Hail                        13938\n",
       "Al Jawf                     12450\n",
       "Najran                      11098\n",
       "Northern Borders            10040\n",
       "Total                        3381\n",
       "Name: Region, dtype: int64"
      ]
     },
     "execution_count": 94,
     "metadata": {},
     "output_type": "execute_result"
    }
   ],
   "source": [
    "Cumulative_df['Region'].value_counts()"
   ]
  },
  {
   "cell_type": "code",
   "execution_count": 95,
   "id": "8a218a7f",
   "metadata": {},
   "outputs": [
    {
     "data": {
      "text/plain": [
       "Cases          45217\n",
       "Recoveries     44034\n",
       "Mortalities     5376\n",
       "Tested           579\n",
       "Name: Indicator, dtype: int64"
      ]
     },
     "execution_count": 95,
     "metadata": {},
     "output_type": "execute_result"
    }
   ],
   "source": [
    "Daily_df['Indicator'].value_counts()"
   ]
  },
  {
   "cell_type": "code",
   "execution_count": 96,
   "id": "74808818",
   "metadata": {},
   "outputs": [
    {
     "data": {
      "text/plain": [
       "Cases          100188\n",
       "Recoveries      96926\n",
       "Active          94333\n",
       "Mortalities     40596\n",
       "Tested            579\n",
       "Critical          518\n",
       "Name: Indicator, dtype: int64"
      ]
     },
     "execution_count": 96,
     "metadata": {},
     "output_type": "execute_result"
    }
   ],
   "source": [
    "Cumulative_df['Indicator'].value_counts()"
   ]
  },
  {
   "cell_type": "code",
   "execution_count": 97,
   "id": "19489c2b",
   "metadata": {},
   "outputs": [
    {
     "name": "stdout",
     "output_type": "stream",
     "text": [
      "<class 'pandas.core.frame.DataFrame'>\n",
      "Int64Index: 333140 entries, 0 to 428345\n",
      "Data columns (total 7 columns):\n",
      " #   Column              Non-Null Count   Dtype \n",
      "---  ------              --------------   ----- \n",
      " 0   Daily / Cumulative  333140 non-null  object\n",
      " 1   Indicator           333140 non-null  object\n",
      " 2   Date                333140 non-null  object\n",
      " 3   Event               1414 non-null    object\n",
      " 4   City                333140 non-null  object\n",
      " 5   Region              333140 non-null  object\n",
      " 6   Cases (person)      333140 non-null  int64 \n",
      "dtypes: int64(1), object(6)\n",
      "memory usage: 20.3+ MB\n"
     ]
    }
   ],
   "source": [
    "Cumulative_df.info()"
   ]
  },
  {
   "cell_type": "markdown",
   "id": "f7b7666a",
   "metadata": {},
   "source": [
    "From shown above, the Daily_df seems to be mor inforattive."
   ]
  },
  {
   "cell_type": "markdown",
   "id": "14cdbeb1",
   "metadata": {},
   "source": [
    "### b. Detect Outliers and Missing Values"
   ]
  },
  {
   "cell_type": "code",
   "execution_count": 98,
   "id": "d00a7df9",
   "metadata": {},
   "outputs": [],
   "source": [
    "#(1)Filling the NaN values in 'Event'\n",
    "df1 = df.fillna({'Event':'No event'})"
   ]
  },
  {
   "cell_type": "code",
   "execution_count": 99,
   "id": "8b1f94fd",
   "metadata": {},
   "outputs": [],
   "source": [
    "#(2) Handel rows that have \"Total\" value in 'Region' and 'city' columns\n",
    "\n",
    "df1.drop(df1.loc[df1['Region']=='Total'].index, inplace=True)\n",
    "df1.drop(df1.loc[df1['City']=='Total'].index, inplace=True)"
   ]
  },
  {
   "cell_type": "code",
   "execution_count": 100,
   "id": "c5c284db",
   "metadata": {},
   "outputs": [],
   "source": [
    "#(3) Handel rows that have \"Tested\" value in 'Indicator' column\n",
    "df1.drop(df1.loc[df1['Indicator']=='Tested'].index, inplace=True)"
   ]
  },
  {
   "cell_type": "code",
   "execution_count": 101,
   "id": "d8e814c1",
   "metadata": {},
   "outputs": [
    {
     "data": {
      "text/html": [
       "<div>\n",
       "<style scoped>\n",
       "    .dataframe tbody tr th:only-of-type {\n",
       "        vertical-align: middle;\n",
       "    }\n",
       "\n",
       "    .dataframe tbody tr th {\n",
       "        vertical-align: top;\n",
       "    }\n",
       "\n",
       "    .dataframe thead th {\n",
       "        text-align: right;\n",
       "    }\n",
       "</style>\n",
       "<table border=\"1\" class=\"dataframe\">\n",
       "  <thead>\n",
       "    <tr style=\"text-align: right;\">\n",
       "      <th></th>\n",
       "      <th>Daily / Cumulative</th>\n",
       "      <th>Indicator</th>\n",
       "      <th>Date</th>\n",
       "      <th>Event</th>\n",
       "      <th>City</th>\n",
       "      <th>Region</th>\n",
       "      <th>Cases (person)</th>\n",
       "    </tr>\n",
       "  </thead>\n",
       "  <tbody>\n",
       "    <tr>\n",
       "      <th>0</th>\n",
       "      <td>Cumulative</td>\n",
       "      <td>Cases</td>\n",
       "      <td>2020-11-05</td>\n",
       "      <td>No event</td>\n",
       "      <td>Al Khubar</td>\n",
       "      <td>Eastern Region</td>\n",
       "      <td>7265</td>\n",
       "    </tr>\n",
       "    <tr>\n",
       "      <th>1</th>\n",
       "      <td>Cumulative</td>\n",
       "      <td>Cases</td>\n",
       "      <td>2020-11-05</td>\n",
       "      <td>No event</td>\n",
       "      <td>Jeddah</td>\n",
       "      <td>Makkah Al Mukarramah</td>\n",
       "      <td>33808</td>\n",
       "    </tr>\n",
       "    <tr>\n",
       "      <th>2</th>\n",
       "      <td>Cumulative</td>\n",
       "      <td>Cases</td>\n",
       "      <td>2020-11-05</td>\n",
       "      <td>No event</td>\n",
       "      <td>Ar Riyad</td>\n",
       "      <td>Ar Riyad</td>\n",
       "      <td>57841</td>\n",
       "    </tr>\n",
       "    <tr>\n",
       "      <th>3</th>\n",
       "      <td>Cumulative</td>\n",
       "      <td>Cases</td>\n",
       "      <td>2020-11-05</td>\n",
       "      <td>No event</td>\n",
       "      <td>Ad Duwadimi</td>\n",
       "      <td>Ar Riyad</td>\n",
       "      <td>464</td>\n",
       "    </tr>\n",
       "    <tr>\n",
       "      <th>4</th>\n",
       "      <td>Cumulative</td>\n",
       "      <td>Cases</td>\n",
       "      <td>2020-10-28</td>\n",
       "      <td>No event</td>\n",
       "      <td>Rabigh</td>\n",
       "      <td>Makkah Al Mukarramah</td>\n",
       "      <td>272</td>\n",
       "    </tr>\n",
       "    <tr>\n",
       "      <th>...</th>\n",
       "      <td>...</td>\n",
       "      <td>...</td>\n",
       "      <td>...</td>\n",
       "      <td>...</td>\n",
       "      <td>...</td>\n",
       "      <td>...</td>\n",
       "      <td>...</td>\n",
       "    </tr>\n",
       "    <tr>\n",
       "      <th>428341</th>\n",
       "      <td>Cumulative</td>\n",
       "      <td>Active</td>\n",
       "      <td>2021-07-01</td>\n",
       "      <td>No event</td>\n",
       "      <td>Al Lith</td>\n",
       "      <td>Makkah Al Mukarramah</td>\n",
       "      <td>132</td>\n",
       "    </tr>\n",
       "    <tr>\n",
       "      <th>428342</th>\n",
       "      <td>Cumulative</td>\n",
       "      <td>Active</td>\n",
       "      <td>2021-07-01</td>\n",
       "      <td>No event</td>\n",
       "      <td>Badr</td>\n",
       "      <td>Al Madinah Al Munawwarah</td>\n",
       "      <td>76</td>\n",
       "    </tr>\n",
       "    <tr>\n",
       "      <th>428343</th>\n",
       "      <td>Cumulative</td>\n",
       "      <td>Active</td>\n",
       "      <td>2021-06-30</td>\n",
       "      <td>No event</td>\n",
       "      <td>Haql</td>\n",
       "      <td>Tabuk</td>\n",
       "      <td>7</td>\n",
       "    </tr>\n",
       "    <tr>\n",
       "      <th>428344</th>\n",
       "      <td>Cumulative</td>\n",
       "      <td>Active</td>\n",
       "      <td>2021-07-01</td>\n",
       "      <td>No event</td>\n",
       "      <td>Tabarjal</td>\n",
       "      <td>Al Jawf</td>\n",
       "      <td>8</td>\n",
       "    </tr>\n",
       "    <tr>\n",
       "      <th>428345</th>\n",
       "      <td>Cumulative</td>\n",
       "      <td>Active</td>\n",
       "      <td>2021-06-27</td>\n",
       "      <td>No event</td>\n",
       "      <td>BaqʻAʼ</td>\n",
       "      <td>Hail</td>\n",
       "      <td>4</td>\n",
       "    </tr>\n",
       "  </tbody>\n",
       "</table>\n",
       "<p>422691 rows × 7 columns</p>\n",
       "</div>"
      ],
      "text/plain": [
       "       Daily / Cumulative Indicator        Date     Event         City  \\\n",
       "0              Cumulative     Cases  2020-11-05  No event    Al Khubar   \n",
       "1              Cumulative     Cases  2020-11-05  No event       Jeddah   \n",
       "2              Cumulative     Cases  2020-11-05  No event     Ar Riyad   \n",
       "3              Cumulative     Cases  2020-11-05  No event  Ad Duwadimi   \n",
       "4              Cumulative     Cases  2020-10-28  No event       Rabigh   \n",
       "...                   ...       ...         ...       ...          ...   \n",
       "428341         Cumulative    Active  2021-07-01  No event      Al Lith   \n",
       "428342         Cumulative    Active  2021-07-01  No event         Badr   \n",
       "428343         Cumulative    Active  2021-06-30  No event         Haql   \n",
       "428344         Cumulative    Active  2021-07-01  No event     Tabarjal   \n",
       "428345         Cumulative    Active  2021-06-27  No event       BaqʻAʼ   \n",
       "\n",
       "                          Region  Cases (person)  \n",
       "0                 Eastern Region            7265  \n",
       "1           Makkah Al Mukarramah           33808  \n",
       "2                       Ar Riyad           57841  \n",
       "3                       Ar Riyad             464  \n",
       "4           Makkah Al Mukarramah             272  \n",
       "...                          ...             ...  \n",
       "428341      Makkah Al Mukarramah             132  \n",
       "428342  Al Madinah Al Munawwarah              76  \n",
       "428343                     Tabuk               7  \n",
       "428344                   Al Jawf               8  \n",
       "428345                      Hail               4  \n",
       "\n",
       "[422691 rows x 7 columns]"
      ]
     },
     "execution_count": 101,
     "metadata": {},
     "output_type": "execute_result"
    }
   ],
   "source": [
    "df1"
   ]
  },
  {
   "cell_type": "code",
   "execution_count": 102,
   "id": "3527eae8",
   "metadata": {},
   "outputs": [
    {
     "name": "stdout",
     "output_type": "stream",
     "text": [
      "Shape of dataset befor handling (428346, 7)\n",
      "Shape of dataset After handling (422691, 7)\n"
     ]
    }
   ],
   "source": [
    "print ('Shape of dataset befor handling',df.shape)\n",
    "print ('Shape of dataset After handling',df1.shape)"
   ]
  },
  {
   "cell_type": "markdown",
   "id": "38d27b30",
   "metadata": {},
   "source": [
    "### c. Feature Engineering \n"
   ]
  },
  {
   "cell_type": "code",
   "execution_count": 103,
   "id": "699cb19b",
   "metadata": {},
   "outputs": [],
   "source": [
    "#(1) Convert 'Data' type\n",
    "df1['Date'] = pd.to_datetime(df1['Date'])"
   ]
  },
  {
   "cell_type": "code",
   "execution_count": 104,
   "id": "bc0f7dc7",
   "metadata": {},
   "outputs": [
    {
     "name": "stdout",
     "output_type": "stream",
     "text": [
      "<class 'pandas.core.frame.DataFrame'>\n",
      "Int64Index: 422691 entries, 0 to 428345\n",
      "Data columns (total 7 columns):\n",
      " #   Column              Non-Null Count   Dtype         \n",
      "---  ------              --------------   -----         \n",
      " 0   Daily / Cumulative  422691 non-null  object        \n",
      " 1   Indicator           422691 non-null  object        \n",
      " 2   Date                422691 non-null  datetime64[ns]\n",
      " 3   Event               422691 non-null  object        \n",
      " 4   City                422691 non-null  object        \n",
      " 5   Region              422691 non-null  object        \n",
      " 6   Cases (person)      422691 non-null  int64         \n",
      "dtypes: datetime64[ns](1), int64(1), object(5)\n",
      "memory usage: 41.9+ MB\n"
     ]
    }
   ],
   "source": [
    "df1.info()"
   ]
  },
  {
   "cell_type": "code",
   "execution_count": 105,
   "id": "d00a10bc",
   "metadata": {},
   "outputs": [],
   "source": [
    "#(2) Add 'Day_name' column\n",
    "df1['Day_name'] = df1['Date'].dt.day_name() "
   ]
  },
  {
   "cell_type": "code",
   "execution_count": 106,
   "id": "c4ed5a28",
   "metadata": {},
   "outputs": [],
   "source": [
    "#(3) Add 'Day','year' and 'month' column\n",
    "df1['Day'] = df1['Date'].dt.day\n",
    "df1['Month'] = df1['Date'].dt.month\n",
    "df1['Year'] = df1['Date'].dt.year"
   ]
  },
  {
   "cell_type": "code",
   "execution_count": 111,
   "id": "87dd78ce",
   "metadata": {},
   "outputs": [],
   "source": [
    "#(4) Rename 'Cases (person)' column\n",
    "df1 = df1.rename(columns = {'Cases (person)':'Cases'}, inplace = False)"
   ]
  },
  {
   "cell_type": "code",
   "execution_count": 110,
   "id": "48b45fb2",
   "metadata": {},
   "outputs": [
    {
     "data": {
      "text/html": [
       "<div>\n",
       "<style scoped>\n",
       "    .dataframe tbody tr th:only-of-type {\n",
       "        vertical-align: middle;\n",
       "    }\n",
       "\n",
       "    .dataframe tbody tr th {\n",
       "        vertical-align: top;\n",
       "    }\n",
       "\n",
       "    .dataframe thead th {\n",
       "        text-align: right;\n",
       "    }\n",
       "</style>\n",
       "<table border=\"1\" class=\"dataframe\">\n",
       "  <thead>\n",
       "    <tr style=\"text-align: right;\">\n",
       "      <th></th>\n",
       "      <th>Date</th>\n",
       "      <th>Day_name</th>\n",
       "      <th>Day</th>\n",
       "      <th>Month</th>\n",
       "      <th>Year</th>\n",
       "      <th>Cases</th>\n",
       "      <th>City</th>\n",
       "      <th>Region</th>\n",
       "      <th>Indicator</th>\n",
       "      <th>Event</th>\n",
       "      <th>Daily / Cumulative</th>\n",
       "    </tr>\n",
       "  </thead>\n",
       "  <tbody>\n",
       "    <tr>\n",
       "      <th>0</th>\n",
       "      <td>2020-11-05</td>\n",
       "      <td>Thursday</td>\n",
       "      <td>5</td>\n",
       "      <td>11</td>\n",
       "      <td>2020</td>\n",
       "      <td>7265</td>\n",
       "      <td>Al Khubar</td>\n",
       "      <td>Eastern Region</td>\n",
       "      <td>Cases</td>\n",
       "      <td>No event</td>\n",
       "      <td>Cumulative</td>\n",
       "    </tr>\n",
       "    <tr>\n",
       "      <th>1</th>\n",
       "      <td>2020-11-05</td>\n",
       "      <td>Thursday</td>\n",
       "      <td>5</td>\n",
       "      <td>11</td>\n",
       "      <td>2020</td>\n",
       "      <td>33808</td>\n",
       "      <td>Jeddah</td>\n",
       "      <td>Makkah Al Mukarramah</td>\n",
       "      <td>Cases</td>\n",
       "      <td>No event</td>\n",
       "      <td>Cumulative</td>\n",
       "    </tr>\n",
       "    <tr>\n",
       "      <th>2</th>\n",
       "      <td>2020-11-05</td>\n",
       "      <td>Thursday</td>\n",
       "      <td>5</td>\n",
       "      <td>11</td>\n",
       "      <td>2020</td>\n",
       "      <td>57841</td>\n",
       "      <td>Ar Riyad</td>\n",
       "      <td>Ar Riyad</td>\n",
       "      <td>Cases</td>\n",
       "      <td>No event</td>\n",
       "      <td>Cumulative</td>\n",
       "    </tr>\n",
       "    <tr>\n",
       "      <th>3</th>\n",
       "      <td>2020-11-05</td>\n",
       "      <td>Thursday</td>\n",
       "      <td>5</td>\n",
       "      <td>11</td>\n",
       "      <td>2020</td>\n",
       "      <td>464</td>\n",
       "      <td>Ad Duwadimi</td>\n",
       "      <td>Ar Riyad</td>\n",
       "      <td>Cases</td>\n",
       "      <td>No event</td>\n",
       "      <td>Cumulative</td>\n",
       "    </tr>\n",
       "    <tr>\n",
       "      <th>4</th>\n",
       "      <td>2020-10-28</td>\n",
       "      <td>Wednesday</td>\n",
       "      <td>28</td>\n",
       "      <td>10</td>\n",
       "      <td>2020</td>\n",
       "      <td>272</td>\n",
       "      <td>Rabigh</td>\n",
       "      <td>Makkah Al Mukarramah</td>\n",
       "      <td>Cases</td>\n",
       "      <td>No event</td>\n",
       "      <td>Cumulative</td>\n",
       "    </tr>\n",
       "    <tr>\n",
       "      <th>...</th>\n",
       "      <td>...</td>\n",
       "      <td>...</td>\n",
       "      <td>...</td>\n",
       "      <td>...</td>\n",
       "      <td>...</td>\n",
       "      <td>...</td>\n",
       "      <td>...</td>\n",
       "      <td>...</td>\n",
       "      <td>...</td>\n",
       "      <td>...</td>\n",
       "      <td>...</td>\n",
       "    </tr>\n",
       "    <tr>\n",
       "      <th>428341</th>\n",
       "      <td>2021-07-01</td>\n",
       "      <td>Thursday</td>\n",
       "      <td>1</td>\n",
       "      <td>7</td>\n",
       "      <td>2021</td>\n",
       "      <td>132</td>\n",
       "      <td>Al Lith</td>\n",
       "      <td>Makkah Al Mukarramah</td>\n",
       "      <td>Active</td>\n",
       "      <td>No event</td>\n",
       "      <td>Cumulative</td>\n",
       "    </tr>\n",
       "    <tr>\n",
       "      <th>428342</th>\n",
       "      <td>2021-07-01</td>\n",
       "      <td>Thursday</td>\n",
       "      <td>1</td>\n",
       "      <td>7</td>\n",
       "      <td>2021</td>\n",
       "      <td>76</td>\n",
       "      <td>Badr</td>\n",
       "      <td>Al Madinah Al Munawwarah</td>\n",
       "      <td>Active</td>\n",
       "      <td>No event</td>\n",
       "      <td>Cumulative</td>\n",
       "    </tr>\n",
       "    <tr>\n",
       "      <th>428343</th>\n",
       "      <td>2021-06-30</td>\n",
       "      <td>Wednesday</td>\n",
       "      <td>30</td>\n",
       "      <td>6</td>\n",
       "      <td>2021</td>\n",
       "      <td>7</td>\n",
       "      <td>Haql</td>\n",
       "      <td>Tabuk</td>\n",
       "      <td>Active</td>\n",
       "      <td>No event</td>\n",
       "      <td>Cumulative</td>\n",
       "    </tr>\n",
       "    <tr>\n",
       "      <th>428344</th>\n",
       "      <td>2021-07-01</td>\n",
       "      <td>Thursday</td>\n",
       "      <td>1</td>\n",
       "      <td>7</td>\n",
       "      <td>2021</td>\n",
       "      <td>8</td>\n",
       "      <td>Tabarjal</td>\n",
       "      <td>Al Jawf</td>\n",
       "      <td>Active</td>\n",
       "      <td>No event</td>\n",
       "      <td>Cumulative</td>\n",
       "    </tr>\n",
       "    <tr>\n",
       "      <th>428345</th>\n",
       "      <td>2021-06-27</td>\n",
       "      <td>Sunday</td>\n",
       "      <td>27</td>\n",
       "      <td>6</td>\n",
       "      <td>2021</td>\n",
       "      <td>4</td>\n",
       "      <td>BaqʻAʼ</td>\n",
       "      <td>Hail</td>\n",
       "      <td>Active</td>\n",
       "      <td>No event</td>\n",
       "      <td>Cumulative</td>\n",
       "    </tr>\n",
       "  </tbody>\n",
       "</table>\n",
       "<p>422691 rows × 11 columns</p>\n",
       "</div>"
      ],
      "text/plain": [
       "             Date   Day_name  Day  Month  Year  Cases         City  \\\n",
       "0      2020-11-05   Thursday    5     11  2020   7265    Al Khubar   \n",
       "1      2020-11-05   Thursday    5     11  2020  33808       Jeddah   \n",
       "2      2020-11-05   Thursday    5     11  2020  57841     Ar Riyad   \n",
       "3      2020-11-05   Thursday    5     11  2020    464  Ad Duwadimi   \n",
       "4      2020-10-28  Wednesday   28     10  2020    272       Rabigh   \n",
       "...           ...        ...  ...    ...   ...    ...          ...   \n",
       "428341 2021-07-01   Thursday    1      7  2021    132      Al Lith   \n",
       "428342 2021-07-01   Thursday    1      7  2021     76         Badr   \n",
       "428343 2021-06-30  Wednesday   30      6  2021      7         Haql   \n",
       "428344 2021-07-01   Thursday    1      7  2021      8     Tabarjal   \n",
       "428345 2021-06-27     Sunday   27      6  2021      4       BaqʻAʼ   \n",
       "\n",
       "                          Region Indicator     Event Daily / Cumulative  \n",
       "0                 Eastern Region     Cases  No event         Cumulative  \n",
       "1           Makkah Al Mukarramah     Cases  No event         Cumulative  \n",
       "2                       Ar Riyad     Cases  No event         Cumulative  \n",
       "3                       Ar Riyad     Cases  No event         Cumulative  \n",
       "4           Makkah Al Mukarramah     Cases  No event         Cumulative  \n",
       "...                          ...       ...       ...                ...  \n",
       "428341      Makkah Al Mukarramah    Active  No event         Cumulative  \n",
       "428342  Al Madinah Al Munawwarah    Active  No event         Cumulative  \n",
       "428343                     Tabuk    Active  No event         Cumulative  \n",
       "428344                   Al Jawf    Active  No event         Cumulative  \n",
       "428345                      Hail    Active  No event         Cumulative  \n",
       "\n",
       "[422691 rows x 11 columns]"
      ]
     },
     "execution_count": 110,
     "metadata": {},
     "output_type": "execute_result"
    }
   ],
   "source": [
    "#(5)Rearrange Features\n",
    "df1 = df1 [[\"Date\",\"Day_name\",\"Day\",\"Month\",\"Year\",\"Cases\",\"City\",\"Region\",\"Indicator\",\"Event\",\"Daily / Cumulative\"]]\n",
    "df1"
   ]
  },
  {
   "cell_type": "code",
   "execution_count": 116,
   "id": "56c0dc28",
   "metadata": {},
   "outputs": [],
   "source": [
    "#(6) Extrat the 'Daily / Cumulative' cases\n",
    "df_dailey = df1.loc[df1['Daily / Cumulative'] == 'Daily']\n",
    "df_Cumulative = df1.loc[df1['Daily / Cumulative'] == 'Cumulative']"
   ]
  },
  {
   "cell_type": "code",
   "execution_count": 117,
   "id": "8b14fd05",
   "metadata": {},
   "outputs": [
    {
     "data": {
      "text/html": [
       "<div>\n",
       "<style scoped>\n",
       "    .dataframe tbody tr th:only-of-type {\n",
       "        vertical-align: middle;\n",
       "    }\n",
       "\n",
       "    .dataframe tbody tr th {\n",
       "        vertical-align: top;\n",
       "    }\n",
       "\n",
       "    .dataframe thead th {\n",
       "        text-align: right;\n",
       "    }\n",
       "</style>\n",
       "<table border=\"1\" class=\"dataframe\">\n",
       "  <thead>\n",
       "    <tr style=\"text-align: right;\">\n",
       "      <th></th>\n",
       "      <th>Date</th>\n",
       "      <th>Day_name</th>\n",
       "      <th>Day</th>\n",
       "      <th>Month</th>\n",
       "      <th>Year</th>\n",
       "      <th>Cases</th>\n",
       "      <th>City</th>\n",
       "      <th>Region</th>\n",
       "      <th>Indicator</th>\n",
       "      <th>Event</th>\n",
       "    </tr>\n",
       "  </thead>\n",
       "  <tbody>\n",
       "    <tr>\n",
       "      <th>4053</th>\n",
       "      <td>2021-07-31</td>\n",
       "      <td>Saturday</td>\n",
       "      <td>31</td>\n",
       "      <td>7</td>\n",
       "      <td>2021</td>\n",
       "      <td>2</td>\n",
       "      <td>ʻUrayʻIrah</td>\n",
       "      <td>Eastern Region</td>\n",
       "      <td>Cases</td>\n",
       "      <td>No event</td>\n",
       "    </tr>\n",
       "    <tr>\n",
       "      <th>4054</th>\n",
       "      <td>2021-07-31</td>\n",
       "      <td>Saturday</td>\n",
       "      <td>31</td>\n",
       "      <td>7</td>\n",
       "      <td>2021</td>\n",
       "      <td>4</td>\n",
       "      <td>ʻUqlat As Suqur</td>\n",
       "      <td>Al Qaseem</td>\n",
       "      <td>Cases</td>\n",
       "      <td>No event</td>\n",
       "    </tr>\n",
       "    <tr>\n",
       "      <th>4055</th>\n",
       "      <td>2021-07-31</td>\n",
       "      <td>Saturday</td>\n",
       "      <td>31</td>\n",
       "      <td>7</td>\n",
       "      <td>2021</td>\n",
       "      <td>28</td>\n",
       "      <td>Makkah Al Mukarramah</td>\n",
       "      <td>Makkah Al Mukarramah</td>\n",
       "      <td>Cases</td>\n",
       "      <td>No event</td>\n",
       "    </tr>\n",
       "    <tr>\n",
       "      <th>4056</th>\n",
       "      <td>2021-07-31</td>\n",
       "      <td>Saturday</td>\n",
       "      <td>31</td>\n",
       "      <td>7</td>\n",
       "      <td>2021</td>\n",
       "      <td>29</td>\n",
       "      <td>Najran</td>\n",
       "      <td>Najran</td>\n",
       "      <td>Cases</td>\n",
       "      <td>No event</td>\n",
       "    </tr>\n",
       "    <tr>\n",
       "      <th>4057</th>\n",
       "      <td>2021-07-31</td>\n",
       "      <td>Saturday</td>\n",
       "      <td>31</td>\n",
       "      <td>7</td>\n",
       "      <td>2021</td>\n",
       "      <td>3</td>\n",
       "      <td>Hubuna</td>\n",
       "      <td>Najran</td>\n",
       "      <td>Cases</td>\n",
       "      <td>No event</td>\n",
       "    </tr>\n",
       "    <tr>\n",
       "      <th>...</th>\n",
       "      <td>...</td>\n",
       "      <td>...</td>\n",
       "      <td>...</td>\n",
       "      <td>...</td>\n",
       "      <td>...</td>\n",
       "      <td>...</td>\n",
       "      <td>...</td>\n",
       "      <td>...</td>\n",
       "      <td>...</td>\n",
       "      <td>...</td>\n",
       "    </tr>\n",
       "    <tr>\n",
       "      <th>423322</th>\n",
       "      <td>2021-05-15</td>\n",
       "      <td>Saturday</td>\n",
       "      <td>15</td>\n",
       "      <td>5</td>\n",
       "      <td>2021</td>\n",
       "      <td>1</td>\n",
       "      <td>Al Madinah Al Munawwarah</td>\n",
       "      <td>Al Madinah Al Munawwarah</td>\n",
       "      <td>Mortalities</td>\n",
       "      <td>No event</td>\n",
       "    </tr>\n",
       "    <tr>\n",
       "      <th>423323</th>\n",
       "      <td>2021-05-16</td>\n",
       "      <td>Sunday</td>\n",
       "      <td>16</td>\n",
       "      <td>5</td>\n",
       "      <td>2021</td>\n",
       "      <td>1</td>\n",
       "      <td>Khamis Mushayt</td>\n",
       "      <td>Aseer</td>\n",
       "      <td>Mortalities</td>\n",
       "      <td>No event</td>\n",
       "    </tr>\n",
       "    <tr>\n",
       "      <th>423324</th>\n",
       "      <td>2021-05-16</td>\n",
       "      <td>Sunday</td>\n",
       "      <td>16</td>\n",
       "      <td>5</td>\n",
       "      <td>2021</td>\n",
       "      <td>1</td>\n",
       "      <td>Jeddah</td>\n",
       "      <td>Makkah Al Mukarramah</td>\n",
       "      <td>Mortalities</td>\n",
       "      <td>No event</td>\n",
       "    </tr>\n",
       "    <tr>\n",
       "      <th>423325</th>\n",
       "      <td>2021-05-16</td>\n",
       "      <td>Sunday</td>\n",
       "      <td>16</td>\n",
       "      <td>5</td>\n",
       "      <td>2021</td>\n",
       "      <td>1</td>\n",
       "      <td>Al Qunfudhah</td>\n",
       "      <td>Makkah Al Mukarramah</td>\n",
       "      <td>Mortalities</td>\n",
       "      <td>No event</td>\n",
       "    </tr>\n",
       "    <tr>\n",
       "      <th>423326</th>\n",
       "      <td>2021-05-17</td>\n",
       "      <td>Monday</td>\n",
       "      <td>17</td>\n",
       "      <td>5</td>\n",
       "      <td>2021</td>\n",
       "      <td>1</td>\n",
       "      <td>Jazan</td>\n",
       "      <td>Jazan</td>\n",
       "      <td>Mortalities</td>\n",
       "      <td>No event</td>\n",
       "    </tr>\n",
       "  </tbody>\n",
       "</table>\n",
       "<p>92932 rows × 10 columns</p>\n",
       "</div>"
      ],
      "text/plain": [
       "             Date  Day_name  Day  Month  Year  Cases  \\\n",
       "4053   2021-07-31  Saturday   31      7  2021      2   \n",
       "4054   2021-07-31  Saturday   31      7  2021      4   \n",
       "4055   2021-07-31  Saturday   31      7  2021     28   \n",
       "4056   2021-07-31  Saturday   31      7  2021     29   \n",
       "4057   2021-07-31  Saturday   31      7  2021      3   \n",
       "...           ...       ...  ...    ...   ...    ...   \n",
       "423322 2021-05-15  Saturday   15      5  2021      1   \n",
       "423323 2021-05-16    Sunday   16      5  2021      1   \n",
       "423324 2021-05-16    Sunday   16      5  2021      1   \n",
       "423325 2021-05-16    Sunday   16      5  2021      1   \n",
       "423326 2021-05-17    Monday   17      5  2021      1   \n",
       "\n",
       "                            City                    Region    Indicator  \\\n",
       "4053                  ʻUrayʻIrah            Eastern Region        Cases   \n",
       "4054             ʻUqlat As Suqur                 Al Qaseem        Cases   \n",
       "4055        Makkah Al Mukarramah      Makkah Al Mukarramah        Cases   \n",
       "4056                      Najran                    Najran        Cases   \n",
       "4057                      Hubuna                    Najran        Cases   \n",
       "...                          ...                       ...          ...   \n",
       "423322  Al Madinah Al Munawwarah  Al Madinah Al Munawwarah  Mortalities   \n",
       "423323            Khamis Mushayt                     Aseer  Mortalities   \n",
       "423324                    Jeddah      Makkah Al Mukarramah  Mortalities   \n",
       "423325              Al Qunfudhah      Makkah Al Mukarramah  Mortalities   \n",
       "423326                     Jazan                     Jazan  Mortalities   \n",
       "\n",
       "           Event  \n",
       "4053    No event  \n",
       "4054    No event  \n",
       "4055    No event  \n",
       "4056    No event  \n",
       "4057    No event  \n",
       "...          ...  \n",
       "423322  No event  \n",
       "423323  No event  \n",
       "423324  No event  \n",
       "423325  No event  \n",
       "423326  No event  \n",
       "\n",
       "[92932 rows x 10 columns]"
      ]
     },
     "execution_count": 117,
     "metadata": {},
     "output_type": "execute_result"
    }
   ],
   "source": [
    "#(7) drop un-needed column from df_dailey\n",
    "df_dailey.drop(df_dailey.columns[[10]], axis = 1) "
   ]
  },
  {
   "cell_type": "markdown",
   "id": "3e017a59",
   "metadata": {},
   "source": [
    "### d. Features Analysis\n"
   ]
  },
  {
   "cell_type": "code",
   "execution_count": 124,
   "id": "761df4d4",
   "metadata": {},
   "outputs": [
    {
     "data": {
      "image/png": "[encoded data removed]",
      "text/plain": [
       "<Figure size 432x288 with 1 Axes>"
      ]
     },
     "metadata": {
      "needs_background": "light"
     },
     "output_type": "display_data"
    }
   ],
   "source": [
    "#PLOT Day & Cases\n",
    "\n",
    "new_x = df_dailey.Day_name\n",
    "new_y = df_dailey.Cases\n",
    "\n",
    "plt.bar(new_x,new_y)\n",
    "plt.xlabel('Day')\n",
    "plt.ylabel('Cases Counts')\n",
    "plt.title('Cases per Day', size = 15);"
   ]
  },
  {
   "cell_type": "markdown",
   "id": "6b6921b8",
   "metadata": {},
   "source": [
    "As shown above, Wednesday hav the maximum average cases. \n",
    "قد يعود تفسير هذا الامر الى كثرة الاجتماعات والمخالطة في نهاية الأسبوع، إذ أنه بحسب الدراسات الأعراض للمصاب لا تظهر إلا بعد أربعة أيام"
   ]
  },
  {
   "cell_type": "code",
   "execution_count": 120,
   "id": "59a99c8a",
   "metadata": {},
   "outputs": [
    {
     "data": {
      "image/png": "[encoded data removed]",
      "text/plain": [
       "<Figure size 1440x144 with 1 Axes>"
      ]
     },
     "metadata": {
      "needs_background": "light"
     },
     "output_type": "display_data"
    }
   ],
   "source": [
    "#PLOT average cases per region\n",
    "plt.figure(figsize = [20,2])\n",
    "x_reg = df_dailey.Region\n",
    "y_reg = df_dailey.Cases\n",
    "\n",
    "plt.bar(x_reg,y_reg )\n",
    "plt.xlabel('Region')\n",
    "plt.ylabel('Counts')\n",
    "plt.title('Cases per region', size = 15);"
   ]
  },
  {
   "cell_type": "markdown",
   "id": "d3d41a45",
   "metadata": {},
   "source": [
    "As shown, Riyadh have the most maximum average cases during the two years, then Madinah and Makkah"
   ]
  },
  {
   "cell_type": "code",
   "execution_count": 121,
   "id": "46d3ae4f",
   "metadata": {},
   "outputs": [
    {
     "data": {
      "image/png": "[encoded data removed]",
      "text/plain": [
       "<Figure size 360x4320 with 1 Axes>"
      ]
     },
     "metadata": {
      "needs_background": "light"
     },
     "output_type": "display_data"
    }
   ],
   "source": [
    "#PLOT average cases per city\n",
    "cases_per_city = df_dailey.groupby(['City'], sort=False)['Cases'].mean()\n",
    "#cases_per_city\n",
    "plt.figure(figsize = [5,60])\n",
    "\n",
    "cases_per_city.plot(kind = 'barh', colormap = 'winter')\n",
    "plt.xlabel('Counts')\n",
    "plt.ylabel('City')\n",
    "plt.title('Cases per City', size = 15);\n"
   ]
  },
  {
   "cell_type": "markdown",
   "id": "a9eb8e0e",
   "metadata": {},
   "source": [
    "الملاحظ أنه في المدن الكبرى تزداد الحالات ، قد يرجع هذا الي ازديااد عدد لاسكان ، او ربما زيادة الوعي والحرص للذهاب واجراء الفحوصات "
   ]
  },
  {
   "cell_type": "code",
   "execution_count": 123,
   "id": "81cbc64e",
   "metadata": {},
   "outputs": [
    {
     "data": {
      "image/png": "[encoded data removed]",
      "text/plain": [
       "<Figure size 720x360 with 1 Axes>"
      ]
     },
     "metadata": {
      "needs_background": "light"
     },
     "output_type": "display_data"
    }
   ],
   "source": [
    "# PLOT cases_per_month\n",
    "cases_per_month = df_dailey.groupby(['Month'], sort=True)['Cases'].sum()\n",
    "plt.figure(figsize = [10,5])\n",
    "cases_per_month.plot(kind = 'bar')\n",
    "plt.xlabel('Months')\n",
    "plt.ylabel('Counts')\n",
    "plt.title('Cases per month', size = 15);"
   ]
  },
  {
   "cell_type": "markdown",
   "id": "8849aba7",
   "metadata": {},
   "source": [
    "الملاحظ انه في اشعر العطلة تزداد الحالات"
   ]
  },
  {
   "cell_type": "markdown",
   "id": "c14e10e9",
   "metadata": {},
   "source": [
    "## 3. Train Model on Data\n",
    "- Data Encoading\n",
    "- Data Splitting (Training/Testing)\n",
    "- Model Building"
   ]
  },
  {
   "cell_type": "code",
   "execution_count": 118,
   "id": "1dfc08fe",
   "metadata": {},
   "outputs": [],
   "source": [
    "from sklearn.model_selection import train_test_split\n",
    "from sklearn.linear_model import LinearRegression, Ridge #ordinary linear regression + w/ ridge regularization\n",
    "from sklearn.preprocessing import StandardScaler, PolynomialFeatures\n",
    "from sklearn.neighbors import KNeighborsClassifier\n",
    "from sklearn.linear_model import LogisticRegression\n",
    "from sklearn.model_selection import train_test_split\n",
    "from sklearn.metrics import precision_score, recall_score, precision_recall_curve,f1_score, fbeta_score, r2_score, mean_squared_error"
   ]
  },
  {
   "cell_type": "markdown",
   "id": "19c61a94",
   "metadata": {},
   "source": [
    "### a. Data Encoading"
   ]
  },
  {
   "cell_type": "markdown",
   "id": "8f9003b7",
   "metadata": {},
   "source": [
    "* Feature variable (input): Date, City, event\n",
    "* Target variable (Output): Cases"
   ]
  },
  {
   "cell_type": "code",
   "execution_count": 126,
   "id": "967fa15f",
   "metadata": {},
   "outputs": [],
   "source": [
    "#Encod 'City' values\n",
    "City_dummies = pd.get_dummies(df_dailey.City)"
   ]
  },
  {
   "cell_type": "code",
   "execution_count": 127,
   "id": "7d6efbcb",
   "metadata": {},
   "outputs": [],
   "source": [
    "#Encod 'Event' values\n",
    "Event_dummies =  pd.get_dummies(df_dailey.Event)"
   ]
  },
  {
   "cell_type": "code",
   "execution_count": null,
   "id": "14fe781a",
   "metadata": {},
   "outputs": [],
   "source": [
    "#Day_dummies = pd.get_dummies(df_dailey.Day_name)\n",
    "#Indicator_dummies = pd.get_dummies(df_dailey.Indicator)"
   ]
  },
  {
   "cell_type": "code",
   "execution_count": null,
   "id": "9ab374ee",
   "metadata": {},
   "outputs": [],
   "source": [
    "merged_df = pd.concat([df_dailey,City_dummies],axis = 'columns')\n",
    "merged_df"
   ]
  },
  {
   "cell_type": "code",
   "execution_count": null,
   "id": "b9ac2392",
   "metadata": {},
   "outputs": [],
   "source": [
    "final_df_dailey = merged_df.drop(['Day','','Region','Daily / Cumulative'],axis = 'columns')\n",
    "final_df_dailey"
   ]
  },
  {
   "cell_type": "markdown",
   "id": "7bcf4814",
   "metadata": {},
   "source": [
    "### b. Data Splitting (Training/Testing)"
   ]
  },
  {
   "cell_type": "code",
   "execution_count": null,
   "id": "c4343cad",
   "metadata": {},
   "outputs": [],
   "source": [
    "X, y = df_dailey.drop('Cases',axis=1), df_dailey['Cases']\n",
    "\n",
    "# 80% training 20% testing\n",
    "X_train, X_test, y_train, y_test= train_test_split(X, y, test_size=.2)"
   ]
  },
  {
   "cell_type": "code",
   "execution_count": null,
   "id": "e05d84cf",
   "metadata": {},
   "outputs": [],
   "source": [
    "print ('All data shape' ,df_dailey.shape )\n",
    "print ('X_train sape :' ,X_train.shape )\n",
    "print ('y_train sape :' ,y_train.shape )\n",
    "print ('X_test sape :' ,X_test.shape )\n",
    "print ('y_test sape :' ,y_test.shape )"
   ]
  },
  {
   "cell_type": "markdown",
   "id": "78cc701f",
   "metadata": {},
   "source": [
    "### c. Model Building"
   ]
  },
  {
   "cell_type": "code",
   "execution_count": null,
   "id": "f5d851ef",
   "metadata": {},
   "outputs": [],
   "source": [
    "#set up the 3 models we're choosing from:\n",
    "\n",
    "lm = LinearRegression()\n",
    "\n",
    "#Feature scaling for train, val, and test so that we can run our ridge model on each\n",
    "scaler = StandardScaler()\n",
    "\n",
    "X_train_scaled = scaler.fit_transform(X_train.values)\n",
    "X_val_scaled = scaler.transform(X_val.values)\n",
    "X_test_scaled = scaler.transform(X_test.values)\n",
    "\n",
    "lm_reg = Ridge(alpha=1)\n",
    "\n",
    "#Feature transforms for train, val, and test so that we can run our poly model on each\n",
    "poly = PolynomialFeatures(degree=2) \n",
    "\n",
    "X_train_poly = poly.fit_transform(X_train.values)\n",
    "X_val_poly = poly.transform(X_val.values)\n",
    "X_test_poly = poly.transform(X_test.values)"
   ]
  },
  {
   "cell_type": "code",
   "execution_count": null,
   "id": "f90fb346",
   "metadata": {},
   "outputs": [],
   "source": [
    "coff = r2_score(y_test, y_Prediction)\n",
    "error = mean_squared_error(y_test, y_Prediction)\n",
    "\n",
    "print('R^2 = ', coff )\n",
    "print('Mean Squared Error ' , error )"
   ]
  },
  {
   "cell_type": "code",
   "execution_count": null,
   "id": "98ac15ae",
   "metadata": {},
   "outputs": [],
   "source": []
  },
  {
   "cell_type": "markdown",
   "id": "fd5519b9",
   "metadata": {},
   "source": [
    "## 4. Analysis and Evaluation \n",
    "- Evaluation Metrics \n"
   ]
  },
  {
   "cell_type": "code",
   "execution_count": null,
   "id": "a091764c",
   "metadata": {},
   "outputs": [],
   "source": []
  },
  {
   "cell_type": "markdown",
   "id": "f1c1b804",
   "metadata": {},
   "source": [
    "## 5. Conclusion "
   ]
  },
  {
   "cell_type": "code",
   "execution_count": null,
   "id": "a9e9c295",
   "metadata": {},
   "outputs": [],
   "source": []
  }
 ],
 "metadata": {
  "kernelspec": {
   "display_name": "Python 3",
   "language": "python",
   "name": "python3"
  },
  "language_info": {
   "codemirror_mode": {
    "name": "ipython",
    "version": 3
   },
   "file_extension": ".py",
   "mimetype": "text/x-python",
   "name": "python",
   "nbconvert_exporter": "python",
   "pygments_lexer": "ipython3",
   "version": "3.8.8"
  }
 },
 "nbformat": 4,
 "nbformat_minor": 5
}
